{
 "cells": [
  {
   "cell_type": "code",
   "execution_count": 1,
   "id": "c7a6e07d",
   "metadata": {},
   "outputs": [
    {
     "data": {
      "text/plain": [
       "True"
      ]
     },
     "execution_count": 1,
     "metadata": {},
     "output_type": "execute_result"
    }
   ],
   "source": [
    "from dotenv import load_dotenv\n",
    "\n",
    "load_dotenv(\"../config/.env\")"
   ]
  },
  {
   "cell_type": "code",
   "execution_count": null,
   "id": "38cf1147",
   "metadata": {},
   "outputs": [
    {
     "data": {
      "text/plain": [
       "Person(name='Frank', hair_color='黑发', height_in_meters=None)"
      ]
     },
     "execution_count": 2,
     "metadata": {},
     "output_type": "execute_result"
    }
   ],
   "source": [
    "from typing import Optional\n",
    "from pydantic import BaseModel, Field\n",
    "from langchain_core.prompts import ChatPromptTemplate\n",
    "from langchain.chat_models import init_chat_model\n",
    "\n",
    "class Person(BaseModel):\n",
    "    \"\"\"关于一个人的信息。\"\"\"\n",
    "    name: Optional[str] = Field(\n",
    "        default=None, description=\"这个人的名字\"\n",
    "    )\n",
    "    hair_color: Optional[str] = Field(\n",
    "        default=None, description=\"这个人的头发颜色，如果有的话\"\n",
    "    )\n",
    "    height_in_meters: Optional[str] = Field(\n",
    "        default=None, description=\"以米为单位的身高\"\n",
    "    )\n",
    "\n",
    "prompt_template = ChatPromptTemplate.from_messages(\n",
    "    [\n",
    "        (\n",
    "            \"system\",\n",
    "            \"你是一个专业的提取算法。\"\n",
    "            \"只从文本中提取相关信息。\"\n",
    "            \"如果你不知道所要求提取的属性的值，\"\n",
    "            \"则返回该属性值为 null。”\",\n",
    "        ),\n",
    "        (\"human\", \"{text}\"),\n",
    "    ]\n",
    ")\n",
    "\n",
    "text = \"Frank 身高 6 英尺，有着一头黑发。\"\n",
    "prompt = prompt_template.invoke({\"text\": text})\n",
    "\n",
    "llm = init_chat_model(\"deepseek-chat\", model_provider=\"deepseek\")\n",
    "structured_llm = llm.with_structured_output(schema=Person)\n",
    "\n",
    "structured_llm.invoke(prompt)"
   ]
  },
  {
   "cell_type": "code",
   "execution_count": 6,
   "id": "0df80d68",
   "metadata": {},
   "outputs": [
    {
     "data": {
      "text/plain": [
       "Data(people=[Person(name='Frank', hair_color='黑色', height_in_meters=None), Person(name='Daneila', hair_color='黑色', height_in_meters=None)])"
      ]
     },
     "execution_count": 6,
     "metadata": {},
     "output_type": "execute_result"
    }
   ],
   "source": [
    "from typing import List\n",
    "\n",
    "class Data(BaseModel):\n",
    "    people: List[Person]\n",
    "\n",
    "multiple_entities_text = \"我叫Frank，我的头发是黑色的，身高 6 英尺。Daneila的头发颜色和我一样。\"\n",
    "multiple_entities_prompt = prompt_template.invoke(multiple_entities_text)\n",
    "multiple_entities_structured_llm = llm.with_structured_output(schema=Data)\n",
    "multiple_entities_structured_llm.invoke(multiple_entities_prompt)"
   ]
  }
 ],
 "metadata": {
  "kernelspec": {
   "display_name": "analyst_chain",
   "language": "python",
   "name": "python3"
  },
  "language_info": {
   "codemirror_mode": {
    "name": "ipython",
    "version": 3
   },
   "file_extension": ".py",
   "mimetype": "text/x-python",
   "name": "python",
   "nbconvert_exporter": "python",
   "pygments_lexer": "ipython3",
   "version": "3.11.13"
  }
 },
 "nbformat": 4,
 "nbformat_minor": 5
}
