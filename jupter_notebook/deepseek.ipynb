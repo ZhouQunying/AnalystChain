{
 "cells": [
  {
   "cell_type": "code",
   "execution_count": 1,
   "id": "66ba8741",
   "metadata": {},
   "outputs": [],
   "source": [
    "import os\n",
    "import getpass\n",
    "from dotenv import load_dotenv\n",
    "\n",
    "# TODO 自动设置非相对路径\n",
    "load_dotenv(\"../config/.env\")\n",
    "\n",
    "# TODO 提供通用输入框\n",
    "if not os.getenv(\"DEEPSEEK_API_KEY\"):\n",
    "    os.environ[\"DEEPSEEK_API_KEY\"] = getpass.getpass(\"Enter your DeepSeek API key: \")"
   ]
  },
  {
   "cell_type": "code",
   "execution_count": 2,
   "id": "9721722c",
   "metadata": {},
   "outputs": [
    {
     "data": {
      "text/plain": [
       "'你好！我是 **DeepSeek Chat**，由深度求索公司（DeepSeek）打造的智能AI助手。我可以帮助你解答各种问题，包括学习、工作、编程、生活小技巧、科技资讯等。  \\n\\n### ✨ **我的特点**：\\n- **免费使用**：目前无需付费，随时为你提供帮助！  \\n- **知识丰富**：我的知识截止到 **2024年7月**，可以解答许多领域的问题。  \\n- **超长上下文**：支持 **128K** 上下文，能记住更长的对话内容。  \\n- **文件阅读**：可以上传 **PDF、Word、Excel、PPT、TXT** 等文件，帮你提取和分析内容。  \\n- **持续进化**：团队在不断提升我的能力，让我更智能、更贴心！  \\n\\n### 🚀 **我能帮你做什么？**  \\n- 📚 **学习辅导**：解题思路、论文润色、语言翻译  \\n- 💼 **工作助手**：写邮件、做PPT、整理数据  \\n- 💡 **创意灵感**：故事创作、营销文案、头脑风暴  \\n- 📊 **编程支持**：代码调试、算法讲解、技术文档解读  \\n- 🏡 **生活百科**：旅行攻略、美食推荐、健康小贴士  \\n\\n无论是复杂问题还是日常琐事，都可以问我！😊 你今天想了解什么呢？'"
      ]
     },
     "execution_count": 2,
     "metadata": {},
     "output_type": "execute_result"
    }
   ],
   "source": [
    "from langchain_deepseek import ChatDeepSeek\n",
    "\n",
    "llm = ChatDeepSeek(\n",
    "    model=\"deepseek-chat\",\n",
    "    frequency_penalty=0,\n",
    "    max_tokens=512,\n",
    "    presence_penalty=0,\n",
    "    # response_format={\"type\": \"text\"},\n",
    "    stop=None,\n",
    "    # stream=False,\n",
    "    # stream_options=None,\n",
    "    temperature=0.2,\n",
    "    top_p=1,\n",
    "    # tools=None,\n",
    "    # tool_choice=\"none\",\n",
    "    logprobs=False,\n",
    "    top_logprobs=None,\n",
    "    # 以下是langchain的参数\n",
    "    timeout=None,\n",
    "    max_retries=2,\n",
    "    streaming=False,\n",
    "    verbose=True,\n",
    ")\n",
    "\n",
    "messages = [\n",
    "    (\"system\", \"You are a helpful assistant.\"),\n",
    "    (\"human\", \"介绍你自己。\"),\n",
    "]\n",
    "\n",
    "ai_msg = llm.invoke(messages)\n",
    "ai_msg.content"
   ]
  }
 ],
 "metadata": {
  "kernelspec": {
   "display_name": "analyst_chain",
   "language": "python",
   "name": "python3"
  },
  "language_info": {
   "codemirror_mode": {
    "name": "ipython",
    "version": 3
   },
   "file_extension": ".py",
   "mimetype": "text/x-python",
   "name": "python",
   "nbconvert_exporter": "python",
   "pygments_lexer": "ipython3",
   "version": "3.13.5"
  }
 },
 "nbformat": 4,
 "nbformat_minor": 5
}
