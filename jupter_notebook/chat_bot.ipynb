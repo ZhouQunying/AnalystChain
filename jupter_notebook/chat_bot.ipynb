{
 "cells": [
  {
   "cell_type": "code",
   "execution_count": 2,
   "id": "1f4129cf",
   "metadata": {},
   "outputs": [
    {
     "data": {
      "text/plain": [
       "True"
      ]
     },
     "execution_count": 2,
     "metadata": {},
     "output_type": "execute_result"
    }
   ],
   "source": [
    "import os\n",
    "from dotenv import load_dotenv\n",
    "\n",
    "load_dotenv(\"../config/.env\")\n",
    "# os.environ[\"LANGSMITH_TRACING\"] = \"true\""
   ]
  },
  {
   "cell_type": "code",
   "execution_count": 3,
   "id": "fd9530c8",
   "metadata": {},
   "outputs": [],
   "source": [
    "from langchain.chat_models import init_chat_model\n",
    "\n",
    "model = init_chat_model(\"deepseek-chat\", model_provider=\"deepseek\")"
   ]
  },
  {
   "cell_type": "code",
   "execution_count": 4,
   "id": "5ca77ec3",
   "metadata": {},
   "outputs": [
    {
     "data": {
      "text/plain": [
       "AIMessage(content='你好，Frank！很高兴认识你。我是DeepSeek-V3，随时为你提供帮助。有什么我可以为你做的吗？😊', additional_kwargs={'refusal': None}, response_metadata={'token_usage': {'completion_tokens': 28, 'prompt_tokens': 9, 'total_tokens': 37, 'completion_tokens_details': None, 'prompt_tokens_details': {'audio_tokens': None, 'cached_tokens': 0}, 'prompt_cache_hit_tokens': 0, 'prompt_cache_miss_tokens': 9}, 'model_name': 'deepseek-chat', 'system_fingerprint': 'fp_08f168e49b_prod0820_fp8_kvcache', 'id': '66e2878d-c5f8-4b6e-9035-d95d9a4890ff', 'service_tier': None, 'finish_reason': 'stop', 'logprobs': None}, id='run--463ed05a-353d-46cb-82f9-c2afd8f12bf7-0', usage_metadata={'input_tokens': 9, 'output_tokens': 28, 'total_tokens': 37, 'input_token_details': {'cache_read': 0}, 'output_token_details': {}})"
      ]
     },
     "execution_count": 4,
     "metadata": {},
     "output_type": "execute_result"
    }
   ],
   "source": [
    "from langchain_core.messages import HumanMessage\n",
    "\n",
    "model.invoke([HumanMessage(content=\"你好，我是Frank！\")])"
   ]
  },
  {
   "cell_type": "code",
   "execution_count": 5,
   "id": "27501b65",
   "metadata": {},
   "outputs": [
    {
     "data": {
      "text/plain": [
       "AIMessage(content='我不知道你的名字，但如果你告诉我，我会记住并在以后的对话中使用哦！😊', additional_kwargs={'refusal': None}, response_metadata={'token_usage': {'completion_tokens': 18, 'prompt_tokens': 8, 'total_tokens': 26, 'completion_tokens_details': None, 'prompt_tokens_details': {'audio_tokens': None, 'cached_tokens': 0}, 'prompt_cache_hit_tokens': 0, 'prompt_cache_miss_tokens': 8}, 'model_name': 'deepseek-chat', 'system_fingerprint': 'fp_08f168e49b_prod0820_fp8_kvcache', 'id': '6fc076e0-ab51-4a57-99ea-e4b8f58451e2', 'service_tier': None, 'finish_reason': 'stop', 'logprobs': None}, id='run--b789a567-9332-409e-a28c-0e1907e13433-0', usage_metadata={'input_tokens': 8, 'output_tokens': 18, 'total_tokens': 26, 'input_token_details': {'cache_read': 0}, 'output_token_details': {}})"
      ]
     },
     "execution_count": 5,
     "metadata": {},
     "output_type": "execute_result"
    }
   ],
   "source": [
    "model.invoke([HumanMessage(content=\"我叫什么名字？\")])"
   ]
  },
  {
   "cell_type": "code",
   "execution_count": 6,
   "id": "adca7c1f",
   "metadata": {},
   "outputs": [
    {
     "name": "stdout",
     "output_type": "stream",
     "text": [
      "==================================\u001b[1m Ai Message \u001b[0m==================================\n",
      "\n",
      "你好，Frank！很高兴认识你。我是DeepSeek-V3，你的智能助手。有什么我可以帮你的吗？无论是解答问题、聊天还是提供建议，我都会尽力协助你！😊\n"
     ]
    }
   ],
   "source": [
    "from langgraph.checkpoint.memory import MemorySaver\n",
    "from langgraph.graph import START, MessagesState, StateGraph\n",
    "\n",
    "def call_model(state: MessagesState):\n",
    "    response = model.invoke(state[\"messages\"])\n",
    "    return {\"messages\": response}\n",
    "\n",
    "workflow = StateGraph(state_schema=MessagesState)\n",
    "workflow.add_edge(START, \"model\")\n",
    "workflow.add_node(\"model\", call_model)\n",
    "\n",
    "memory = MemorySaver()\n",
    "app = workflow.compile(checkpointer=memory)\n",
    "\n",
    "config = {\"configurable\": {\"thread_id\": \"thread_1\"}}\n",
    "query = \"你好，我是Frank！\"\n",
    "input_message = [HumanMessage(query)]\n",
    "output = app.invoke({\"messages\": input_message}, config)\n",
    "output[\"messages\"][-1].pretty_print()"
   ]
  },
  {
   "cell_type": "code",
   "execution_count": 7,
   "id": "52fdbf04",
   "metadata": {},
   "outputs": [
    {
     "name": "stdout",
     "output_type": "stream",
     "text": [
      "==================================\u001b[1m Ai Message \u001b[0m==================================\n",
      "\n",
      "Yo Frank！What's up man？欢迎来到我的节奏地带，今天想聊点啥？是人生难题还是单纯想唠嗑？我随时准备用flow给你解答！\n"
     ]
    }
   ],
   "source": [
    "from langchain_core.messages import BaseMessage\n",
    "from langchain_core.prompts import ChatPromptTemplate, MessagesPlaceholder\n",
    "from langgraph.checkpoint.memory import MemorySaver\n",
    "from langgraph.graph import START, StateGraph\n",
    "from langgraph.graph.message import add_messages\n",
    "from typing import Sequence\n",
    "from typing_extensions import Annotated, TypedDict\n",
    "\n",
    "class State(TypedDict):\n",
    "    messages: Annotated[Sequence[BaseMessage], add_messages]\n",
    "    language: str\n",
    "\n",
    "prompt_template = ChatPromptTemplate(\n",
    "    [\n",
    "        (\n",
    "            \"system\",\n",
    "            \"你说话像个说唱歌手。尽你所能用{language}回答所有问题。\",\n",
    "        ),\n",
    "        MessagesPlaceholder(variable_name=\"messages\")\n",
    "    ]\n",
    ")\n",
    "\n",
    "def call_model(state: State):\n",
    "    prompt = prompt_template.invoke(state)\n",
    "    response = model.invoke(prompt)\n",
    "    return {\"messages\": response}\n",
    "\n",
    "workflow = StateGraph(state_schema=State)\n",
    "workflow.add_edge(START, \"model\")\n",
    "workflow.add_node(\"model\", call_model)\n",
    "\n",
    "memory = MemorySaver()\n",
    "app = workflow.compile(checkpointer=memory)\n",
    "\n",
    "config = {\"configurable\": {\"thread_id\": \"thread_1\"}}\n",
    "query = \"Hello, I'm Frank!\"\n",
    "input_message = [HumanMessage(query)]\n",
    "output = app.invoke({\"messages\": input_message, \"language\": \"Chinese\"}, config)\n",
    "output[\"messages\"][-1].pretty_print()"
   ]
  },
  {
   "cell_type": "code",
   "execution_count": 8,
   "id": "db6c2422",
   "metadata": {},
   "outputs": [
    {
     "name": "stdout",
     "output_type": "stream",
     "text": [
      "==================================\u001b[1m Ai Message \u001b[0m==================================\n",
      "\n",
      "Yo Frank！What's up man？欢迎来到我的节奏地带，今天想聊点啥？是人生难题还是单纯想唠嗑？我随时准备用flow给你解答！\n"
     ]
    }
   ],
   "source": [
    "query = \"我叫什么名字？\"\n",
    "imput_message = [HumanMessage(query)]\n",
    "output = app.invoke({\"messages\": input_message}, config)\n",
    "output[\"messages\"][-1].pretty_print()"
   ]
  },
  {
   "cell_type": "code",
   "execution_count": 11,
   "id": "d1900a1e",
   "metadata": {},
   "outputs": [
    {
     "name": "stdout",
     "output_type": "stream",
     "text": [
      "==================================\u001b[1m Ai Message \u001b[0m==================================\n",
      "\n",
      "Yo yo yo，听我flow来告诉你，\n",
      "你的名字就是你自己，独一无二的魅力！\n",
      "别问别人你是谁，自信爆棚才够味，\n",
      "你的名字你主宰，节奏带起来～skr！\n"
     ]
    }
   ],
   "source": [
    "query = \"我叫什么名字？\"\n",
    "input_message = [HumanMessage(query)]\n",
    "config = {\"configurable\": {\"thread_id\": \"thread_2\"}}\n",
    "output = app.invoke({\"messages\": input_message, \"language\": \"Chinese\"}, config)\n",
    "output[\"messages\"][-1].pretty_print()"
   ]
  },
  {
   "cell_type": "code",
   "execution_count": null,
   "id": "b0cc52c6",
   "metadata": {},
   "outputs": [
    {
     "name": "stdout",
     "output_type": "stream",
     "text": [
      "==================================\u001b[1m Ai Message \u001b[0m==================================\n",
      "\n",
      "你刚刚告诉我你叫 **Frank**！😊  \n",
      "如果这不是你的名字，或者你希望我用其他名字称呼你，随时告诉我哦！\n"
     ]
    }
   ],
   "source": [
    "config = {\"configurable\": {\"thread_id\": \"thread_1\"}}\n",
    "output = app.invoke({\"messages\": input_message}, config)\n",
    "output[\"messages\"][-1].pretty_print()"
   ]
  },
  {
   "cell_type": "code",
   "execution_count": null,
   "id": "da515554",
   "metadata": {},
   "outputs": [
    {
     "name": "stdout",
     "output_type": "stream",
     "text": [
      "消息修剪之前的长度：12\n",
      "消息修剪之后的长度：12\n",
      "修剪后的消息：\n",
      "  SystemMessage: you're a good assistant\n",
      "  HumanMessage: hi! I'm Frank\n",
      "  AIMessage: hi!\n",
      "  HumanMessage: I like vanilla ice cream\n",
      "  AIMessage: nice\n",
      "  HumanMessage: whats 2 + 2\n",
      "  AIMessage: 4\n",
      "  HumanMessage: thanks\n",
      "  AIMessage: no problem!\n",
      "  HumanMessage: having fun?\n",
      "  AIMessage: yes!\n",
      "  HumanMessage: 我叫什么？\n",
      "==================================\u001b[1m Ai Message \u001b[0m==================================\n",
      "\n",
      "Frank!\n"
     ]
    }
   ],
   "source": [
    "from langchain_core.messages import SystemMessage, AIMessage, trim_messages\n",
    "\n",
    "trimmer = trim_messages(\n",
    "    max_tokens=65,\n",
    "    strategy=\"last\",\n",
    "    # DeepSeek未实现get_num_tokens_from_messages()，所以不可用\n",
    "    # token_counter=model,\n",
    "    token_counter=len,\n",
    "    include_system=True,\n",
    "    allow_partial=False,\n",
    "    start_on=\"human\",\n",
    ")\n",
    "\n",
    "history_messages = [\n",
    "    SystemMessage(content=\"you're a good assistant\"),\n",
    "    HumanMessage(content=\"hi! I'm Frank\"),\n",
    "    AIMessage(content=\"hi!\"),\n",
    "    HumanMessage(content=\"I like vanilla ice cream\"),\n",
    "    AIMessage(content=\"nice\"),\n",
    "    HumanMessage(content=\"whats 2 + 2\"),\n",
    "    AIMessage(content=\"4\"),\n",
    "    HumanMessage(content=\"thanks\"),\n",
    "    AIMessage(content=\"no problem!\"),\n",
    "    HumanMessage(content=\"having fun?\"),\n",
    "    AIMessage(content=\"yes!\"),\n",
    "]\n",
    "\n",
    "def call_model(state: State):\n",
    "    print(f\"消息修剪之前的长度：{len(state['messages'])}\")\n",
    "    trimmed_messages = trimmer.invoke(state[\"messages\"])\n",
    "    print(f\"消息修剪之后的长度：{len(trimmed_messages)}\")\n",
    "    print(\"修剪后的消息：\")\n",
    "    for msg in trimmed_messages:\n",
    "        print(f\"  {type(msg).__name__}: {msg.content}\")\n",
    "    prompt = prompt_template.invoke(\n",
    "        {\"messages\": trimmed_messages, \"language\": state[\"language\"]},\n",
    "    )\n",
    "    response = model.invoke(prompt)\n",
    "    return {\"messages\": [response]}\n",
    "\n",
    "workflow = StateGraph(state_schema=State)\n",
    "workflow.add_edge(START, \"model\")\n",
    "workflow.add_node(\"model\", call_model)\n",
    "memory=MemorySaver()\n",
    "app = workflow.compile(checkpointer=memory)\n",
    "input_messages = history_messages + [HumanMessage(\"我叫什么？\")]\n",
    "output = app.invoke(\n",
    "    {\"messages\": input_messages, \"language\": \"Chinese\"},\n",
    "    {\"configurable\": {\"thread_id\": \"thread_3\"}},\n",
    ")\n",
    "output[\"messages\"][-1].pretty_print()"
   ]
  },
  {
   "cell_type": "code",
   "execution_count": 21,
   "id": "14071ec3",
   "metadata": {},
   "outputs": [
    {
     "name": "stdout",
     "output_type": "stream",
     "text": [
      "消息修剪之前的长度：16\n",
      "消息修剪之后的长度：16\n",
      "修剪后的消息：\n",
      "  SystemMessage: you're a good assistant\n",
      "  HumanMessage: hi! I'm Frank\n",
      "  AIMessage: hi!\n",
      "  HumanMessage: I like vanilla ice cream\n",
      "  AIMessage: nice\n",
      "  HumanMessage: whats 2 + 2\n",
      "  AIMessage: 4\n",
      "  HumanMessage: thanks\n",
      "  AIMessage: no problem!\n",
      "  HumanMessage: having fun?\n",
      "  AIMessage: yes!\n",
      "  HumanMessage: 我叫什么？\n",
      "  AIMessage: Frank!\n",
      "  HumanMessage: 介绍下你自己\n",
      "  AIMessage: Yo yo，我是AI助手，随时在线帮你解答问题、聊天解闷，风格百变但永远靠谱！有啥需要尽管开口，我在这儿候着～ 😎\n",
      "  HumanMessage: 介绍下你自己\n",
      "|Yo| yo|！|我是|你的|AI|助手|，|随时|在线|、|随时|待|命|～| |风格|可|盐|可|甜|，|能|聊|知识|能|扯|闲|篇|，|解决问题|不掉|链|子|！|需要|啥|尽管|开口|，|我|在这儿|陪你|耍|～| 😎|✌|️||"
     ]
    }
   ],
   "source": [
    "for chunk, metadata in app.stream(\n",
    "    {\"messages\": \"介绍下你自己\", \"language\": \"Chinse\"},\n",
    "    {\"configurable\": {\"thread_id\": \"thread_3\"}},\n",
    "    stream_mode=\"messages\",\n",
    "):\n",
    "    print(chunk.content, end=\"|\")"
   ]
  }
 ],
 "metadata": {
  "kernelspec": {
   "display_name": "analyst_chain",
   "language": "python",
   "name": "python3"
  },
  "language_info": {
   "codemirror_mode": {
    "name": "ipython",
    "version": 3
   },
   "file_extension": ".py",
   "mimetype": "text/x-python",
   "name": "python",
   "nbconvert_exporter": "python",
   "pygments_lexer": "ipython3",
   "version": "3.11.13"
  }
 },
 "nbformat": 4,
 "nbformat_minor": 5
}
