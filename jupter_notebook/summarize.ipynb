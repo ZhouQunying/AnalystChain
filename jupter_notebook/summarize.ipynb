{
 "cells": [
  {
   "cell_type": "code",
   "execution_count": null,
   "id": "0b201c69",
   "metadata": {},
   "outputs": [],
   "source": [
    "import os\n",
    "from dotenv import load_dotenv\n",
    "\n",
    "# TODO 自动设置非相对路径\n",
    "load_dotenv(os.path.join(\"..\", \"config\", \".env\"))"
   ]
  },
  {
   "cell_type": "code",
   "execution_count": null,
   "id": "b6d559b9",
   "metadata": {},
   "outputs": [],
   "source": [
    "from langchain_community.callbacks.infino_callback import InfinoCallbackHandler\n",
    "\n"
   ]
  }
 ],
 "metadata": {
  "language_info": {
   "name": "python"
  }
 },
 "nbformat": 4,
 "nbformat_minor": 5
}
