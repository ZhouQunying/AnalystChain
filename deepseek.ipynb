{
 "cells": [
  {
   "cell_type": "code",
   "execution_count": null,
   "id": "66ba8741",
   "metadata": {},
   "outputs": [],
   "source": [
    "import getpass\n",
    "import os\n",
    "\n",
    "if not os.getenv(\"DEEPSEEK_API_KEY\"):\n",
    "    os.environ[\"DEEPSEEK_API_KEY\"] = getpass.getpass(\"Enter your DeepSeek API key: \")"
   ]
  },
  {
   "cell_type": "code",
   "execution_count": 16,
   "id": "9721722c",
   "metadata": {},
   "outputs": [
    {
     "data": {
      "text/plain": [
       "'你好呀！😊 我是 **DeepSeek-R1**，由中国的 **深度求索公司（DeepSeek）** 研发的一款智能助手。我的使命是用清晰、准确、温暖的方式，帮你解答问题、处理任务、学习知识，甚至陪你聊天放松～\\n\\n以下是我的一些特点，帮你快速了解我：\\n\\n---\\n\\n🔍 **我是谁？**  \\n✅ 我是一个纯文本智能助手（目前暂不支持语音、识图功能）。  \\n✅ 知识更新到 **2024年7月**，对最新科技、时事、生活常识等都有了解。  \\n✅ 支持超长上下文（最大128K字符），可以轻松处理长文档、论文、报告等。\\n\\n---\\n\\n💡 **我能做什么？**  \\n📚 学习辅导：语文、数学、英语、编程、考研、考证等全科辅导。  \\n📄 文件处理：你可以上传 **PDF、Word、Excel、PPT、TXT** 等文件，我可以帮你阅读、总结、翻译、提取重点。  \\n📝 写作帮手：写作文、写简历、写邮件、写脚本、写论文大纲……全都不在话下。  \\n📊 办公支持：制作表格、生成PPT大纲、整理会议纪要、数据分析建议。  \\n💬 日常聊天：解闷、谈心、讲笑话、推荐书影音，我都乐意陪你。  \\n🌐 联网功能（部分平台支持）：可查最新信息（如'"
      ]
     },
     "execution_count": 16,
     "metadata": {},
     "output_type": "execute_result"
    }
   ],
   "source": [
    "from langchain_deepseek import ChatDeepSeek\n",
    "\n",
    "llm = ChatDeepSeek(\n",
    "    model=\"deepseek-reasoner\",\n",
    "    frequency_penalty=0,\n",
    "    max_tokens=512,\n",
    "    presence_penalty=0,\n",
    "    # response_format={\"type\": \"text\"},\n",
    "    stop=None,\n",
    "    # stream=False,\n",
    "    # stream_options=None,\n",
    "    temperature=0.2,\n",
    "    top_p=1,\n",
    "    # tools=None,\n",
    "    # tool_choice=\"none\",\n",
    "    logprobs=False,\n",
    "    top_logprobs=None,\n",
    "    # 以下是langchain的参数\n",
    "    timeout=None,\n",
    "    max_retries=2,\n",
    "    streaming=False,\n",
    "    verbose=True,\n",
    ")\n",
    "\n",
    "messages = [\n",
    "    (\"system\", \"You are a helpful assistant.\"),\n",
    "    (\"human\", \"介绍你自己。\"),\n",
    "]\n",
    "\n",
    "ai_msg = llm.invoke(messages)\n",
    "ai_msg.content"
   ]
  }
 ],
 "metadata": {
  "kernelspec": {
   "display_name": "venv",
   "language": "python",
   "name": "python3"
  },
  "language_info": {
   "codemirror_mode": {
    "name": "ipython",
    "version": 3
   },
   "file_extension": ".py",
   "mimetype": "text/x-python",
   "name": "python",
   "nbconvert_exporter": "python",
   "pygments_lexer": "ipython3",
   "version": "3.13.5"
  }
 },
 "nbformat": 4,
 "nbformat_minor": 5
}
