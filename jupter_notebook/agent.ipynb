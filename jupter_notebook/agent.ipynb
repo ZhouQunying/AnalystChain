{
 "cells": [
  {
   "cell_type": "code",
   "execution_count": 5,
   "id": "9e8af284",
   "metadata": {},
   "outputs": [
    {
     "data": {
      "text/plain": [
       "True"
      ]
     },
     "execution_count": 5,
     "metadata": {},
     "output_type": "execute_result"
    }
   ],
   "source": [
    "from dotenv import load_dotenv\n",
    "\n",
    "load_dotenv(\"../config/.env\")"
   ]
  },
  {
   "cell_type": "code",
   "execution_count": 9,
   "id": "014228a9",
   "metadata": {},
   "outputs": [],
   "source": [
    "from langchain.chat_models import init_chat_model\n",
    "from langchain_tavily import TavilySearch\n",
    "from langgraph.checkpoint.memory import MemorySaver\n",
    "from langgraph.prebuilt import create_react_agent\n",
    "\n",
    "model = init_chat_model(\"deepseek-chat\", model_provider=\"deepseek\")\n",
    "search = TavilySearch(max_results=2)\n",
    "tools = [search]\n",
    "memory = MemorySaver()\n",
    "agent_executor = create_react_agent(model, tools, checkpointer=memory)"
   ]
  },
  {
   "cell_type": "code",
   "execution_count": 16,
   "id": "22662910",
   "metadata": {},
   "outputs": [
    {
     "name": "stdout",
     "output_type": "stream",
     "text": [
      "================================\u001b[1m Human Message \u001b[0m=================================\n",
      "\n",
      "你好，我叫Frank，我在北京。\n",
      "==================================\u001b[1m Ai Message \u001b[0m==================================\n",
      "\n",
      "你好Frank！我注意到你连续多次重复了同样的介绍。我理解你可能是在测试或者有其他意图。\n",
      "\n",
      "有什么我可以真正帮助你的吗？比如：\n",
      "- 需要了解北京的实时信息\n",
      "- 想要查询某些具体内容\n",
      "- 有其他问题需要解答\n",
      "\n",
      "请告诉我你的具体需求，我很乐意为你提供有用的信息和服务！\n"
     ]
    }
   ],
   "source": [
    "config = {\"configurable\": {\"thread_id\": \"thread_1\"}}\n",
    "input_message = {\n",
    "    \"role\": \"user\",\n",
    "    \"content\": \"你好，我叫Frank，我在北京。\",\n",
    "}\n",
    "\n",
    "for step in agent_executor.stream(\n",
    "    {\"messages\": [input_message]},\n",
    "    config,\n",
    "    stream_mode=\"values\",\n",
    "):\n",
    "    step[\"messages\"][-1].pretty_print()"
   ]
  },
  {
   "cell_type": "code",
   "execution_count": 18,
   "id": "8b579451",
   "metadata": {},
   "outputs": [
    {
     "name": "stdout",
     "output_type": "stream",
     "text": [
      "================================\u001b[1m Human Message \u001b[0m=================================\n",
      "\n",
      "我所在的地方的天气是怎样的？\n",
      "==================================\u001b[1m Ai Message \u001b[0m==================================\n",
      "Tool Calls:\n",
      "  tavily_search (call_00_Fh0pch9sUgatjMr9WGbYufb7)\n",
      " Call ID: call_00_Fh0pch9sUgatjMr9WGbYufb7\n",
      "  Args:\n",
      "    query: 北京天气 今天 实时天气\n",
      "    search_depth: basic\n",
      "    time_range: day\n",
      "=================================\u001b[1m Tool Message \u001b[0m=================================\n",
      "Name: tavily_search\n",
      "\n",
      "{\"query\": \"北京天气 今天 实时天气\", \"follow_up_questions\": null, \"answer\": null, \"images\": [], \"results\": [{\"url\": \"https://weather.cma.cn/web/weather/54511\", \"title\": \"中国气象局-天气预报- 北京\", \"content\": \"20.6℃ 27℃ 13℃ 26℃ 13℃ 26℃ 24℃ 16℃ 17℃ 25℃ 16℃ | 气温 | 19.5℃ | 16.6℃ | 14.1℃ | 18.4℃ | 23.5℃ | 25.8℃ | 21.8℃ | 17℃ | | 气温 | 18.4℃ | 23.5℃ | 25.8℃ | 21.8℃ | 17℃ | 14.9℃ | 14.5℃ | 13.2℃ | | 气温 | 17.3℃ | 24℃ | 25℃ | 25.8℃ | 21.5℃ | 18.6℃ | 16.7℃ | 16.2℃ | | 气温 | 19.6℃ | 21.7℃ | 23.8℃ | 22.5℃ | 21.3℃ | 18.4℃ | 17.3℃ | 17.2℃ | | 气温 | 19.5℃ | 22.8℃ | 23.8℃ | 22.9℃ | 21.4℃ | 19.1℃ | 17.9℃ | 16.2℃ | | 气温 | 18.3℃ | 22.1℃ | 24.8℃ | 23.9℃ | 21.1℃ | 23.5℃ | 20.6℃ | 17.2℃ | 27/13℃\", \"score\": 0.6479992, \"raw_content\": null}, {\"url\": \"https://e.weather.com.cn/mweather15d/101010100.shtml\", \"title\": \"北京天气预报15天查询\", \"content\": \"30/24℃ | 南风<3级  西南风<3级 | 日出 05:26  日落 19:11 | 六月廿二 | 详情 | 30/24℃ | 南风<3级  西南风<3级 | 日出 05:27  日落 19:10 | 六月廿三 | 详情 | 30/25℃ | 东南风<3级  西南风<3级 | 日出 05:28  日落 19:08 | 六月廿四 | 详情 | 30/24℃ | 西南风<3级  东风<3级 | 日出 05:29  日落 19:07 | 六月廿五 | 详情 | 31/25℃ 31/24℃ 31/23℃ | 西南风<3级  北风<3级 | 日出 05:32  日落 19:03 | 六月廿八 | 详情 | 29/22℃ | 西南风<3级  北风<3级 | 日出 05:33  日落 19:02 | 六月廿九 | 详情 | 29/21℃ 29/22℃ | 东南风<3级  北风<3级 | 日出 05:35  日落 18:59 | 七月初二 | 详情 | 29/22℃ | 西南风<3级  北风<3级 | 日出 05:35  日落 18:57 | 七月初三 | 详情 | 31/23℃ 31/22℃ 22/21℃\", \"score\": 0.6356076, \"raw_content\": null}], \"response_time\": 1.1, \"request_id\": \"4121fb06-231e-42d5-b6fb-01b31adb2712\"}\n",
      "==================================\u001b[1m Ai Message \u001b[0m==================================\n",
      "\n",
      "让我搜索更详细的北京实时天气信息：\n",
      "Tool Calls:\n",
      "  tavily_search (call_00_C6H1ogiPcwZK08FU99i6fznJ)\n",
      " Call ID: call_00_C6H1ogiPcwZK08FU99i6fznJ\n",
      "  Args:\n",
      "    query: 北京实时天气 温度 湿度 空气质量 2024\n",
      "    search_depth: advanced\n",
      "    time_range: day\n",
      "=================================\u001b[1m Tool Message \u001b[0m=================================\n",
      "Name: tavily_search\n",
      "\n",
      "{\"query\": \"北京实时天气 温度 湿度 空气质量 2024\", \"follow_up_questions\": null, \"answer\": null, \"images\": [], \"results\": [{\"url\": \"https://tianqi.2345.com/wea_history/54511.htm\", \"title\": \"北京2025年9月历史天气\", \"content\": \"切换国际城市\\n\\n确定 取消\\n\\n 2011年\\n 2012年\\n 2013年\\n 2014年\\n 2015年\\n 2016年\\n 2017年\\n 2018年\\n 2019年\\n 2020年\\n 2021年\\n 2022年\\n 2023年\\n 2024年\\n 2025年\\n\\n 1月\\n 2月\\n 3月\\n 4月\\n 5月\\n 6月\\n 7月\\n 8月\\n 9月\\n 10月\\n 11月\\n 12月\\n\\n 平均高温：28°    平均低温：18°\\n 极端高温：32°(2025-09-01)\\n 极端低温：12°(2025-09-17)\\n 平均空气质量指数：41\\n 空气最好：19 优(09月17日)\\n 空气最差：71良(09月04日)\", \"score\": 0.7185356, \"raw_content\": null}, {\"url\": \"https://weather.cma.cn/web/weather/54511.html\", \"title\": \"中国气象局-天气预报- 北京\", \"content\": \"| 湿度 | 80.5% | 45.7% | 52.2% | 60.1% | 69.7% | 72.2% | 81.5% | 86% |\\n| 云量 | 57.2% | 65% | 2.4% | 70% | 1.9% | 10.1% | 10.1% | 10.1% | [...] | 湿度 | 81.8% | 62.5% | 69.6% | 70.3% | 75.7% | 83.9% | 88.4% | 87.5% |\\n| 云量 | 72.6% | 70% | 74% | 70% | 70% | 10.1% | 10.1% | 10.1% | [...] | 湿度 | 81.7% | 66.2% | 71.8% | 83.3% | 85.2% | 87.2% | 93.9% | 100% |\\n| 云量 | 18.3% | 65% | 65% | 65% | 65% | 10.1% | 10.1% | 10.1% |\", \"score\": 0.6625569, \"raw_content\": null}], \"response_time\": 1.38, \"request_id\": \"bbf743e2-730f-446c-8a12-230c36dbd99f\"}\n",
      "==================================\u001b[1m Ai Message \u001b[0m==================================\n",
      "\n",
      "让我再搜索一下更具体的北京当前天气状况：\n",
      "Tool Calls:\n",
      "  tavily_search (call_00_tLQGpWAdGuHmuQY330tpbdQa)\n",
      " Call ID: call_00_tLQGpWAdGuHmuQY330tpbdQa\n",
      "  Args:\n",
      "    query: \"北京\" \"今日天气\" 温度 空气质量指数 AQI 实时\n",
      "    search_depth: advanced\n",
      "    time_range: day\n",
      "=================================\u001b[1m Tool Message \u001b[0m=================================\n",
      "Name: tavily_search\n",
      "\n",
      "{\"query\": \"\\\"北京\\\" \\\"今日天气\\\" 温度 空气质量指数 AQI 实时\", \"follow_up_questions\": null, \"answer\": null, \"images\": [], \"results\": [{\"url\": \"https://weather.cma.cn/web/weather/54511.html\", \"title\": \"中国气象局-天气预报- 北京\", \"content\": \"| 湿度 | 80.5% | 45.7% | 52.2% | 60.1% | 69.7% | 72.2% | 81.5% | 86% |\\n| 云量 | 57.2% | 65% | 2.4% | 70% | 1.9% | 10.1% | 10.1% | 10.1% | [...] | 湿度 | 81.8% | 62.5% | 69.6% | 70.3% | 75.7% | 83.9% | 88.4% | 87.5% |\\n| 云量 | 72.6% | 70% | 74% | 70% | 70% | 10.1% | 10.1% | 10.1% | [...] |  |  |  |  |  |  |  |  |  |\\n ---  ---  ---  --- \\n| 时间 | 11:00 | 14:00 | 17:00 | 20:00 | 23:00 | 02:00 | 05:00 | 08:00 |\\n| 天气 |\\n| 气温 | 25.5℃ | 26.8℃ | 24.4℃ | 22.1℃ | 20.7℃ | 19℃ | 17.3℃ | 17.2℃ |\\n| 降水 | 无降水 | 无降水 | 无降水 | 无降水 | 无降水 | 无降水 | 0.1mm | 无降水 |\\n| 风速 | 2.9m/s | 3.3m/s | 3.3m/s | 2.5m/s | 2.9m/s | 2.9m/s | 3m/s | 3.3m/s |\\n| 风向 | 东北风 | 东南风 | 东南风 | 东南风 | 东南风 | 西北风 | 西南风 | 东北风 |\\n| 气压 | 1022.1hPa | 1020.2hPa | 1019.7hPa | 1020.8hPa | 1021.5hPa | 1021.1hPa | 1021.1hPa | 1021.7hPa |\", \"score\": 0.62523276, \"raw_content\": null}, {\"url\": \"https://tianqi.2345.com/wea_history/54511.htm\", \"title\": \"北京2025年9月历史天气\", \"content\": \"切换国际城市\\n\\n确定 取消\\n\\n 2011年\\n 2012年\\n 2013年\\n 2014年\\n 2015年\\n 2016年\\n 2017年\\n 2018年\\n 2019年\\n 2020年\\n 2021年\\n 2022年\\n 2023年\\n 2024年\\n 2025年\\n\\n 1月\\n 2月\\n 3月\\n 4月\\n 5月\\n 6月\\n 7月\\n 8月\\n 9月\\n 10月\\n 11月\\n 12月\\n\\n 平均高温：28°    平均低温：18°\\n 极端高温：32°(2025-09-01)\\n 极端低温：12°(2025-09-17)\\n 平均空气质量指数：41\\n 空气最好：19 优(09月17日)\\n 空气最差：71良(09月04日) [...] | 日期 | 最高温 | 最低温 | 天气 | 风力风向 | 空气质量指数 |\\n ---  ---  --- |\\n| 2025-09-01 周一 | 32° | 22° | 多云 | 南风1级 | 35 优 |\\n| 2025-09-02 周二 | 30° | 23° | 阴~阵雨 | 南风2级 | 40 优 |\\n| 2025-09-03 周三 | 31° | 22° | 阴~多云 | 东南风2级 | 49 优 |\\n| 2025-09-04 周四 | 31° | 21° | 多云~阴 | 东南风2级 | 71 良 |\\n| 2025-09-05 周五 | 26° | 19° | 小雨~多云 | 西北风1级 | 48 优 |\\n| 2025-09-06 周六 | 31° | 18° | 晴 | 西南风1级 | 31 优 |\\n| 2025-09-07 周日 | 31° | 17° | 多云~晴 | 东北风1级 | 36 优 |\\n| 2025-09-08 周一 | 31° | 19° | 晴~雷阵雨 | 南风1级 | 27 优 |\", \"score\": 0.5582553, \"raw_content\": null}], \"response_time\": 1.37, \"request_id\": \"cfcbd3b2-f45c-4172-9ac0-bcb2baac829a\"}\n",
      "==================================\u001b[1m Ai Message \u001b[0m==================================\n",
      "\n",
      "Frank，根据我搜索到的最新信息，北京当前的天气状况大致如下：\n",
      "\n",
      "## 🌤️ 北京今日天气概况\n",
      "\n",
      "**温度范围：** 大约在17-27°C之间\n",
      "- 白天最高温度：约26-27°C\n",
      "- 夜间最低温度：约17-18°C\n",
      "\n",
      "**天气状况：** 以多云为主，部分地区可能有零星小雨\n",
      "\n",
      "**风力情况：** \n",
      "- 风速：2-3米/秒（轻风）\n",
      "- 风向：东南风/东北风为主\n",
      "\n",
      "**湿度：** 约45%-86%之间变化\n",
      "\n",
      "**空气质量：** 根据历史数据，近期空气质量指数(AQI)在27-71之间，属于\"优\"到\"良\"的水平\n",
      "\n",
      "**建议：**\n",
      "- 温度适宜，可以穿着轻薄的长袖衣物\n",
      "- 空气质量良好，适合户外活动\n",
      "- 建议携带雨具以防零星降雨\n",
      "\n",
      "请注意，这是基于最新可获得的天气数据，实际天气可能会有变化。建议您查看当地实时天气预报应用获取最准确的信息。\n"
     ]
    }
   ],
   "source": [
    "input_message = {\n",
    "    \"role\": \"user\",\n",
    "    \"content\": \"我所在的地方的天气是怎样的？\",\n",
    "}\n",
    "\n",
    "for step in agent_executor.stream(\n",
    "    {\"messages\": [input_message]},\n",
    "    config,\n",
    "    stream_mode=\"values\"\n",
    "):\n",
    "    step[\"messages\"][-1].pretty_print()"
   ]
  },
  {
   "cell_type": "code",
   "execution_count": 19,
   "id": "cf900a41",
   "metadata": {},
   "outputs": [
    {
     "name": "stdout",
     "output_type": "stream",
     "text": [
      "{'query': '北京明天的天气怎么样？', 'follow_up_questions': None, 'answer': None, 'images': [], 'results': [{'url': 'https://www.weather.com.cn/weather/101010100.shtml', 'title': '预报- 北京 - 中国天气网', 'content': '21日（今天）. 多云转小雨. 27/17℃. <3级 · 22日（明天）. 小雨转多云. 24/17℃. <3级 · 23日（后天）. 小雨转多云. 21/14℃. <3级 · 24日（周三）. 晴. 28/15℃. <3级 · 25日（周四）. 晴.', 'score': 0.7485182, 'raw_content': None}, {'url': 'https://tianqi.so.com/weather/', 'title': '【北京天气预报】北京天气预报7天,10天,15天_全国天气网', 'content': '今日天气 明日天气 市气象台2025年09月15日22时20分发布大风蓝色预警信号：受冷空气影响，预计9月16日05时至20时，我市大部分地区有3、4级偏北风，阵风6、7级，山区局地阵风可达8级以上，请注意防范。 市气象台2025年09月15日22时20分发布大风蓝色预警信号：受冷空气影响，预计9月16日05时至20时，我市大部分地区有3、4级偏北风，阵风6、7级，山区局地阵风可达8级以上，请注意防范。 ### 当前天气信息 天气：阴 24℃ 体感：24℃ 风向：北风 风力：3级 气压：1011 湿度：34% 日出：05:55 日落：18:23 ### 空气质量 空气很棒，快出门呼吸新鲜空气吧。 无需戴口罩 适宜外出 适宜开窗 关闭净化器 ### 主要污染物 PM2.5 4优 PM10 11优 O3 56优 9优 3优 08时 11时 14时 17时 20时 23时 温度：13~26℃ | 南宁 | 深圳 | 承德 | 吐鲁番 | | 无锡 | 沈阳 | 昆明 | 石家庄 | | 南宁 | 福州 | 长沙 | 天津 | | 昆明 | 贵阳 | 沈阳 | 北京 | | 重庆 | 西宁 | 澳门 | 杭州 | | 合作 | 抚顺 | 临夏 | 南平 | | 无锡 | 集宁 | 南平 | 宜春 | | 重庆 | 淮北 | 孝感 | 阳泉 | | 石河子 | 北京 | 酒泉 | 泰安 |', 'score': 0.7159213, 'raw_content': None}], 'response_time': 0.83, 'request_id': 'a968c0ce-997e-4c8f-a3b1-a8b9fe6a67fc'}\n"
     ]
    }
   ],
   "source": [
    "search_result = search.invoke(\"北京明天的天气怎么样？\")\n",
    "\n",
    "print(search_result)"
   ]
  }
 ],
 "metadata": {
  "kernelspec": {
   "display_name": "analyst_chain",
   "language": "python",
   "name": "python3"
  },
  "language_info": {
   "codemirror_mode": {
    "name": "ipython",
    "version": 3
   },
   "file_extension": ".py",
   "mimetype": "text/x-python",
   "name": "python",
   "nbconvert_exporter": "python",
   "pygments_lexer": "ipython3",
   "version": "3.11.13"
  }
 },
 "nbformat": 4,
 "nbformat_minor": 5
}
