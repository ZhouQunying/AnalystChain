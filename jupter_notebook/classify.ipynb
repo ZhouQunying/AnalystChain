{
 "cells": [
  {
   "cell_type": "code",
   "execution_count": 16,
   "id": "25f39130",
   "metadata": {},
   "outputs": [],
   "source": [
    "import os\n",
    "from dotenv import load_dotenv\n",
    "\n",
    "load_dotenv(\"../config/.env\")\n",
    "os.environ[\"LANGSMITH_TRACING\"] = \"true\""
   ]
  },
  {
   "cell_type": "code",
   "execution_count": 17,
   "id": "2d8dbc4d",
   "metadata": {},
   "outputs": [],
   "source": [
    "from langchain.chat_models import init_chat_model\n",
    "\n",
    "llm = init_chat_model(\"deepseek-chat\", model_provider=\"deepseek\")"
   ]
  },
  {
   "cell_type": "code",
   "execution_count": 18,
   "id": "d725df37",
   "metadata": {},
   "outputs": [
    {
     "name": "stdout",
     "output_type": "stream",
     "text": [
      "{'sentiment': 'positive', 'aggressiveness': 1, 'language': 'Spanish'}\n",
      "{'sentiment': 'enojado', 'aggressiveness': 8, 'language': 'es'}\n"
     ]
    }
   ],
   "source": [
    "from langchain_core.prompts import ChatPromptTemplate\n",
    "from pydantic import BaseModel, Field\n",
    "\n",
    "class Classification(BaseModel):\n",
    "    sentiment: str = Field(description=\"所提供文本的情绪\")\n",
    "    aggressiveness: int = Field(description=\"文本的攻击性在 1 到 10 的量表上是多少\")\n",
    "    language: str = Field(description=\"所提供文本的语言\")\n",
    "\n",
    "tagging_prompt = ChatPromptTemplate.from_template(\n",
    "    \"\"\"\n",
    "    从以下段落中提取信息。\n",
    "    只提取Classification中提到的属性。\n",
    "    段落：\n",
    "    {input}\n",
    "    \"\"\"\n",
    ")\n",
    "\n",
    "inp_1 = \"Estoy increiblemente contento de haberte conocido! Creo que seremos muy buenos amigos!\"\n",
    "inp_2 = \"Estoy muy enojado con vos! Te voy a dar tu merecido!\"\n",
    "\n",
    "prompt_1 = tagging_prompt.invoke({\"input\": inp_1})\n",
    "prompt_2 = tagging_prompt.invoke({\"input\": inp_2})\n",
    "structured_llm = llm.with_structured_output(Classification)\n",
    "response_1 = structured_llm.invoke(prompt_1)\n",
    "response_2 = structured_llm.invoke(prompt_2)\n",
    "\n",
    "print(response_1.model_dump())\n",
    "print(response_2.model_dump())"
   ]
  },
  {
   "cell_type": "code",
   "execution_count": 19,
   "id": "15fc5228",
   "metadata": {},
   "outputs": [
    {
     "name": "stdout",
     "output_type": "stream",
     "text": [
      "sentiment='happy' aggressiveness=1 language='西班牙语'\n",
      "sentiment='sad' aggressiveness=5 language='西班牙语'\n"
     ]
    }
   ],
   "source": [
    "class ClassificationFinerControl(BaseModel):\n",
    "    sentiment: str = Field(..., enum=[\"happy\", \"sad\", \"neutral\"])\n",
    "    aggressiveness: int = Field(\n",
    "        ...,\n",
    "        description=\"描述该陈述的攻击性程度，数字越高，攻击性越强\",\n",
    "        enum=[1, 2, 3, 4, 5],\n",
    "    )\n",
    "    language: str = Field(..., enum=[\"中文\", \"英文\", \"西班牙语\"])\n",
    "\n",
    "structured_finer_control_llm = llm.with_structured_output(ClassificationFinerControl)\n",
    "response_finer_control_1 = structured_finer_control_llm.invoke(prompt_1)\n",
    "response_finer_control_2 = structured_finer_control_llm.invoke(prompt_2)\n",
    "\n",
    "print(response_finer_control_1)\n",
    "print(response_finer_control_2)"
   ]
  }
 ],
 "metadata": {
  "kernelspec": {
   "display_name": "analyst_chain",
   "language": "python",
   "name": "python3"
  },
  "language_info": {
   "codemirror_mode": {
    "name": "ipython",
    "version": 3
   },
   "file_extension": ".py",
   "mimetype": "text/x-python",
   "name": "python",
   "nbconvert_exporter": "python",
   "pygments_lexer": "ipython3",
   "version": "3.11.13"
  }
 },
 "nbformat": 4,
 "nbformat_minor": 5
}
