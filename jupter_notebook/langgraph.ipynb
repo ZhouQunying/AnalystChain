{
 "cells": [
  {
   "cell_type": "code",
   "execution_count": 5,
   "id": "cdb85032",
   "metadata": {},
   "outputs": [
    {
     "data": {
      "text/plain": [
       "True"
      ]
     },
     "execution_count": 5,
     "metadata": {},
     "output_type": "execute_result"
    }
   ],
   "source": [
    "from dotenv import load_dotenv\n",
    "\n",
    "load_dotenv(\"../config/.env\")"
   ]
  },
  {
   "cell_type": "code",
   "execution_count": null,
   "id": "263e9738",
   "metadata": {},
   "outputs": [
    {
     "data": {
      "text/plain": [
       "WeatherResponse(conditions='晴朗')"
      ]
     },
     "execution_count": 6,
     "metadata": {},
     "output_type": "execute_result"
    }
   ],
   "source": [
    "from pydantic import BaseModel\n",
    "from langchain_core.messages import AnyMessage\n",
    "from langchain_core.runnables import RunnableConfig\n",
    "from langchain.chat_models import init_chat_model\n",
    "from langgraph.prebuilt.chat_agent_executor import AgentState\n",
    "from langgraph.prebuilt import create_react_agent\n",
    "from langgraph.checkpoint.memory import InMemorySaver\n",
    "\n",
    "class WeatherResponse(BaseModel):\n",
    "    conditions: str\n",
    "\n",
    "checkpointer = InMemorySaver()\n",
    "\n",
    "def get_weather(city: str) -> str:\n",
    "    \"\"\"根据给定的城市给出天气情况\"\"\"\n",
    "    return f\"{city}天气晴朗\"\n",
    "\n",
    "def prompt(state: AgentState, config: RunnableConfig) -> list[AnyMessage]:\n",
    "    user_name = config[\"configurable\"].get(\"user_name\")\n",
    "    system_msg = f\"你是个助手。称呼用户为{user_name}\"\n",
    "    return [{\"role\": \"system\", \"content\": system_msg}] + state[\"messages\"]\n",
    "\n",
    "model = init_chat_model(\n",
    "    \"deepseek-chat\",\n",
    "    temperature=0,\n",
    ")\n",
    "\n",
    "agent = create_react_agent(\n",
    "    model=model,\n",
    "    tools=[get_weather],\n",
    "    prompt=prompt,\n",
    "    checkpointer=checkpointer,\n",
    "    response_format=WeatherResponse,\n",
    ")\n",
    "\n",
    "config={\"configurable\": {\"user_name\": \"西恩\", \"thread_id\": 1}}\n",
    "\n",
    "response_1 = agent.invoke(\n",
    "    {\"messages\": [{\"role\": \"user\", \"content\": \"北京的天气怎么样？\"}]},\n",
    "    config,\n",
    ")\n",
    "response_1[\"structured_response\"]\n",
    "\n",
    "response_2 = agent.invoke(\n",
    "    {\"messages\": [{\"role\": \"user\", \"content\": \"伦敦的天气怎么样？\"}]},\n",
    "    config,\n",
    ")\n",
    "response_2[\"structured_response\"]"
   ]
  }
 ],
 "metadata": {
  "kernelspec": {
   "display_name": "analyst_chain",
   "language": "python",
   "name": "python3"
  },
  "language_info": {
   "codemirror_mode": {
    "name": "ipython",
    "version": 3
   },
   "file_extension": ".py",
   "mimetype": "text/x-python",
   "name": "python",
   "nbconvert_exporter": "python",
   "pygments_lexer": "ipython3",
   "version": "3.13.0"
  }
 },
 "nbformat": 4,
 "nbformat_minor": 5
}
