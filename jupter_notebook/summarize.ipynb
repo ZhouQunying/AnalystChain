{
 "cells": [
  {
   "cell_type": "code",
   "execution_count": null,
   "id": "0b201c69",
   "metadata": {},
   "outputs": [],
   "source": [
    "from dotenv import load_dotenv\n",
    "\n",
    "# TODO 自动设置非相对路径\n",
    "load_dotenv(\"../config/.env\")"
   ]
  },
  {
   "cell_type": "code",
   "execution_count": null,
   "id": "b6d559b9",
   "metadata": {},
   "outputs": [],
   "source": [
    "from langchain_deepseek import ChatDeepSeek\n",
    "from langchain_community.callbacks.infino_callback import InfinoCallbackHandler\n",
    "from langchain_community.document_loaders import WebBaseLoader\n",
    "from langchain.chains.summarize import load_summarize_chain\n",
    "\n",
    "handler = InfinoCallbackHandler(\n",
    "    model_id=\"test_deepseek\",\n",
    "    model_version=\"0.1\",\n",
    "    verbose=False,\n",
    ")\n",
    "\n",
    "urls = [\n",
    "#   \"https://akshare.akfamily.xyz/data/macro/macro.html\",\n",
    "  \"https://data.stats.gov.cn/search.htm?s=GDP\",\n",
    "]\n",
    "\n",
    "for url in urls:\n",
    "    loader = WebBaseLoader(url)\n",
    "    docs = loader.load()\n",
    "\n",
    "    llm = ChatDeepSeek(\n",
    "        temperature=0,\n",
    "        model_name=\"deepseek-chat\",\n",
    "        callbacks=[handler],\n",
    "    )\n",
    "    chain = load_summarize_chain(llm, chain_type=\"map_reduce\", verbose=True)\n",
    "\n",
    "    chain.run(docs)"
   ]
  }
 ],
 "metadata": {
  "kernelspec": {
   "display_name": "analyst_chain",
   "language": "python",
   "name": "python3"
  },
  "language_info": {
   "codemirror_mode": {
    "name": "ipython",
    "version": 3
   },
   "file_extension": ".py",
   "mimetype": "text/x-python",
   "name": "python",
   "nbconvert_exporter": "python",
   "pygments_lexer": "ipython3",
   "version": "3.13.5"
  }
 },
 "nbformat": 4,
 "nbformat_minor": 5
}
