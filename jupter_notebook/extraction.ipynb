{
 "cells": [
  {
   "cell_type": "code",
   "execution_count": 1,
   "id": "c7a6e07d",
   "metadata": {},
   "outputs": [
    {
     "data": {
      "text/plain": [
       "True"
      ]
     },
     "execution_count": 1,
     "metadata": {},
     "output_type": "execute_result"
    }
   ],
   "source": [
    "from dotenv import load_dotenv\n",
    "\n",
    "load_dotenv(\"../config/.env\")"
   ]
  },
  {
   "cell_type": "code",
   "execution_count": null,
   "id": "38cf1147",
   "metadata": {},
   "outputs": [
    {
     "data": {
      "text/plain": [
       "Person(name='Frank', hair_color='黑发', height_in_meters=None)"
      ]
     },
     "execution_count": 2,
     "metadata": {},
     "output_type": "execute_result"
    }
   ],
   "source": [
    "from typing import Optional\n",
    "from pydantic import BaseModel, Field\n",
    "from langchain_core.prompts import ChatPromptTemplate\n",
    "from langchain.chat_models import init_chat_model\n",
    "\n",
    "class Person(BaseModel):\n",
    "    \"\"\"关于一个人的信息。\"\"\"\n",
    "    name: Optional[str] = Field(\n",
    "        default=None, description=\"这个人的名字\"\n",
    "    )\n",
    "    hair_color: Optional[str] = Field(\n",
    "        default=None, description=\"这个人的头发颜色，如果有的话\"\n",
    "    )\n",
    "    height_in_meters: Optional[str] = Field(\n",
    "        default=None, description=\"以米为单位的身高\"\n",
    "    )\n",
    "\n",
    "prompt_template = ChatPromptTemplate.from_messages(\n",
    "    [\n",
    "        (\n",
    "            \"system\",\n",
    "            \"你是一个专业的提取算法。\"\n",
    "            \"只从文本中提取相关信息。\"\n",
    "            \"如果你不知道所要求提取的属性的值，\"\n",
    "            \"则返回该属性值为 null。”\",\n",
    "        ),\n",
    "        (\"human\", \"{text}\"),\n",
    "    ]\n",
    ")\n",
    "\n",
    "text = \"Frank 身高 6 英尺，有着一头黑发。\"\n",
    "prompt = prompt_template.invoke({\"text\": text})\n",
    "\n",
    "llm = init_chat_model(\"deepseek-chat\", model_provider=\"deepseek\")\n",
    "structured_llm = llm.with_structured_output(schema=Person)\n",
    "\n",
    "structured_llm.invoke(prompt)"
   ]
  },
  {
   "cell_type": "code",
   "execution_count": 6,
   "id": "0df80d68",
   "metadata": {},
   "outputs": [
    {
     "data": {
      "text/plain": [
       "Data(people=[Person(name='Frank', hair_color='黑色', height_in_meters=None), Person(name='Daneila', hair_color='黑色', height_in_meters=None)])"
      ]
     },
     "execution_count": 6,
     "metadata": {},
     "output_type": "execute_result"
    }
   ],
   "source": [
    "from typing import List\n",
    "\n",
    "class Data(BaseModel):\n",
    "    people: List[Person]\n",
    "\n",
    "multiple_entities_text = \"我叫Frank，我的头发是黑色的，身高 6 英尺。Daneila的头发颜色和我一样。\"\n",
    "multiple_entities_prompt = prompt_template.invoke(multiple_entities_text)\n",
    "multiple_entities_structured_llm = llm.with_structured_output(schema=Data)\n",
    "multiple_entities_structured_llm.invoke(multiple_entities_prompt)"
   ]
  },
  {
   "cell_type": "code",
   "execution_count": 8,
   "id": "884e83f4",
   "metadata": {},
   "outputs": [
    {
     "data": {
      "text/plain": [
       "'9'"
      ]
     },
     "execution_count": 8,
     "metadata": {},
     "output_type": "execute_result"
    }
   ],
   "source": [
    "messages = [\n",
    "    {\"role\": \"user\", \"content\": \"1 ~~ 1\"},\n",
    "    {\"role\": \"assistant\", \"content\": \"2\"},\n",
    "    {\"role\": \"user\", \"content\": \"2 ~~ 2\"},\n",
    "    {\"role\": \"assistant\", \"content\": \"4\"},\n",
    "    {\"role\": \"user\", \"content\": \"3 ~~ 3\"},\n",
    "]\n",
    "\n",
    "response = llm.invoke(messages)\n",
    "response.content"
   ]
  },
  {
   "cell_type": "code",
   "execution_count": 13,
   "id": "4e429cd3",
   "metadata": {},
   "outputs": [
    {
     "name": "stdout",
     "output_type": "stream",
     "text": [
      "people=[]\n",
      "[]\n",
      "people=[Person(name='Frank', hair_color=None, height_in_meters='175')]\n",
      "[Person(name='Frank', hair_color=None, height_in_meters='175')]\n",
      "================================\u001b[1m Human Message \u001b[0m=================================\n",
      "\n",
      "海洋广阔而湛蓝，其深度超过 20,000 英尺。\n",
      "==================================\u001b[1m Ai Message \u001b[0m==================================\n",
      "Tool Calls:\n",
      "  Data (8f082030-0990-4047-8c10-a012d93f7692)\n",
      " Call ID: 8f082030-0990-4047-8c10-a012d93f7692\n",
      "  Args:\n",
      "    people: []\n",
      "=================================\u001b[1m Tool Message \u001b[0m=================================\n",
      "\n",
      "You have correctly called this tool.\n",
      "==================================\u001b[1m Ai Message \u001b[0m==================================\n",
      "\n",
      "Detected no people.\n",
      "================================\u001b[1m Human Message \u001b[0m=================================\n",
      "\n",
      "Frank从法国长途跋涉到了西班牙。\n",
      "==================================\u001b[1m Ai Message \u001b[0m==================================\n",
      "Tool Calls:\n",
      "  Data (243b10ba-7cdd-4291-b90f-732d624ad2c1)\n",
      " Call ID: 243b10ba-7cdd-4291-b90f-732d624ad2c1\n",
      "  Args:\n",
      "    people: [{'name': 'Frank', 'hair_color': None, 'height_in_meters': '175'}]\n",
      "=================================\u001b[1m Tool Message \u001b[0m=================================\n",
      "\n",
      "You have correctly called this tool.\n",
      "==================================\u001b[1m Ai Message \u001b[0m==================================\n",
      "\n",
      "Detected people.\n"
     ]
    }
   ],
   "source": [
    "from langchain_core.utils.function_calling import tool_example_to_messages\n",
    "\n",
    "examples = [\n",
    "    (\n",
    "        \"海洋广阔而湛蓝，其深度超过 20,000 英尺。\",\n",
    "        Data(people=[]),\n",
    "    ),\n",
    "    (\n",
    "        \"Frank从法国长途跋涉到了西班牙。\",\n",
    "        Data(people=[Person(name=\"Frank\", height_in_meters=\"175\", hair_color=None)]),\n",
    "    )\n",
    "]\n",
    "\n",
    "messages = []\n",
    "\n",
    "for txt, tool_call in examples:\n",
    "    print(tool_call)\n",
    "    print(tool_call.people)\n",
    "    if tool_call.people:\n",
    "        ai_response = \"Detected people.\"\n",
    "    else:\n",
    "        ai_response = \"Detected no people.\"\n",
    "    messages.extend(tool_example_to_messages(txt, [tool_call], ai_response=ai_response))\n",
    "\n",
    "for message in messages:\n",
    "    message.pretty_print()"
   ]
  },
  {
   "cell_type": "code",
   "execution_count": 15,
   "id": "d42502b4",
   "metadata": {},
   "outputs": [
    {
     "data": {
      "text/plain": [
       "Data(people=[])"
      ]
     },
     "execution_count": 15,
     "metadata": {},
     "output_type": "execute_result"
    }
   ],
   "source": [
    "message_no_extraction = {\n",
    "    \"role\": \"user\",\n",
    "    \"content\": \"太阳系很大，但地球只有 1 颗卫星。\",\n",
    "}\n",
    "\n",
    "structured_llm = llm.with_structured_output(schema=Data)\n",
    "structured_llm.invoke([message_no_extraction])"
   ]
  },
  {
   "cell_type": "code",
   "execution_count": 16,
   "id": "4edbded6",
   "metadata": {},
   "outputs": [
    {
     "data": {
      "text/plain": [
       "Data(people=[])"
      ]
     },
     "execution_count": 16,
     "metadata": {},
     "output_type": "execute_result"
    }
   ],
   "source": [
    "structured_llm.invoke(messages + [message_no_extraction])"
   ]
  }
 ],
 "metadata": {
  "kernelspec": {
   "display_name": "analyst_chain",
   "language": "python",
   "name": "python3"
  },
  "language_info": {
   "codemirror_mode": {
    "name": "ipython",
    "version": 3
   },
   "file_extension": ".py",
   "mimetype": "text/x-python",
   "name": "python",
   "nbconvert_exporter": "python",
   "pygments_lexer": "ipython3",
   "version": "3.11.13"
  }
 },
 "nbformat": 4,
 "nbformat_minor": 5
}
