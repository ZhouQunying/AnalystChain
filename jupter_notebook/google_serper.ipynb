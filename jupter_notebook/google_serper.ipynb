{
 "cells": [
  {
   "cell_type": "code",
   "execution_count": 5,
   "id": "357d2fdc",
   "metadata": {},
   "outputs": [],
   "source": [
    "import os\n",
    "import getpass\n",
    "from dotenv import load_dotenv\n",
    "\n",
    "# TODO 自动设置非相对路径\n",
    "load_dotenv(\"../config/.env\")\n",
    "\n",
    "# TODO 提供通用输入框\n",
    "if not os.getenv(\"SERPER_API_KEY\"):\n",
    "    os.environ[\"SERPER_API_KEY\"] = getpass.getpass(\"Enter your Serper API key: \")"
   ]
  },
  {
   "cell_type": "code",
   "execution_count": null,
   "id": "b5fc30cb",
   "metadata": {},
   "outputs": [
    {
     "name": "stdout",
     "output_type": "stream",
     "text": [
      "('Serper is a low-cost Google Search API that can be used to add answer box, '\n",
      " 'knowledge graph, and organic results data from Google Search . Experience '\n",
      " 'unparalleled speed with our industry-leading SERP API, delivering '\n",
      " 'lightning-fast Google search results in 1-2 seconds, at an unbeatable price. '\n",
      " 'SerpApi is a real-time API to access Google search results. We handle '\n",
      " 'proxies, solve captchas, and parse all rich structured data for you. Serper '\n",
      " 'is a new player in this market. It also provides APIs for various Google '\n",
      " 'products. I will quickly give you the results for this API, too. It utilizes '\n",
      " 'the serper.dev API to fetch and display the most relevant search results '\n",
      " 'based on the query provided by the user. This notebook goes over how to use '\n",
      " 'the Google Serper component to search the web. First you need to sign up for '\n",
      " 'a free account at serper.dev and get your api ... Serper is an emerging '\n",
      " 'player in the SERP analysis landscape, offering a streamlined and effective '\n",
      " 'Google SERP API solution. Designed with ... '\n",
      " 'https://estimate-ai.streamlit.app/ ▭▭▭▭▭▭▭▭▭▭▭▭▭▭▭▭▭▭▭▭▭▭▭▭▭ In this video, '\n",
      " 'I go over the SERPER API ... Scrape Leads off Google Maps with Serper ... '\n",
      " 'Serpwow is an API service that provides access to search engine result page '\n",
      " '(SERP) data from various search engines. It allows developers to ... '\n",
      " 'Serper.dev is a powerful API tailored for developers wishing to leverage '\n",
      " 'data from search engines in their applications. It simplifies the ...')\n",
      "```\n",
      "Serper is a low-cost Google Search API that can be used to add answer box, knowledge graph, and organic results data from Google Search . Experience unparalleled speed with our industry-leading SERP API, delivering lightning-fast Google search results in 1-2 seconds, at an unbeatable price. SerpApi is a real-time API to access Google search results. We handle proxies, solve captchas, and parse all rich structured data for you. Serper is a new player in this market. It also provides APIs for various Google products. I will quickly give you the results for this API, too. It utilizes the serper.dev API to fetch and display the most relevant search results based on the query provided by the user. This notebook goes over how to use the Google Serper component to search the web. First you need to sign up for a free account at serper.dev and get your api ... Serper is an emerging player in the SERP analysis landscape, offering a streamlined and effective Google SERP API solution. Designed with ... https://estimate-ai.streamlit.app/ ▭▭▭▭▭▭▭▭▭▭▭▭▭▭▭▭▭▭▭▭▭▭▭▭▭ In this video, I go over the SERPER API ... Scrape Leads off Google Maps with Serper ... Serpwow is an API service that provides access to search engine result page (SERP) data from various search engines. It allows developers to ... Serper.dev is a powerful API tailored for developers wishing to leverage data from search engines in their applications. It simplifies the ...\n",
      "```\n"
     ]
    }
   ],
   "source": [
    "import pprint\n",
    "from langchain_community.utilities import GoogleSerperAPIWrapper\n",
    "\n",
    "search = GoogleSerperAPIWrapper()\n",
    "\n",
    "result = search.run(\"What is Google Serper API?\")\n",
    "pprint.pprint(result)"
   ]
  }
 ],
 "metadata": {
  "kernelspec": {
   "display_name": "Python 3",
   "language": "python",
   "name": "python3"
  },
  "language_info": {
   "codemirror_mode": {
    "name": "ipython",
    "version": 3
   },
   "file_extension": ".py",
   "mimetype": "text/x-python",
   "name": "python",
   "nbconvert_exporter": "python",
   "pygments_lexer": "ipython3",
   "version": "3.13.5"
  }
 },
 "nbformat": 4,
 "nbformat_minor": 5
}
