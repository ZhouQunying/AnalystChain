{
 "cells": [
  {
   "cell_type": "code",
   "execution_count": null,
   "id": "3fc47eb8",
   "metadata": {},
   "outputs": [],
   "source": [
    "import os\n",
    "from dotenv import load_dotenv\n",
    "\n",
    "os.environ[\"LANGSMITH_TRACING\"] = \"true\"\n",
    "load_dotenv(\"../config/.env\")"
   ]
  },
  {
   "cell_type": "code",
   "execution_count": 2,
   "id": "da83d341",
   "metadata": {},
   "outputs": [
    {
     "name": "stdout",
     "output_type": "stream",
     "text": [
      "[Document(metadata={'producer': 'macOS Version 15.6.1 (Build 24G90) Quartz PDFContext, AppendMode 1.1', 'creator': '', 'creationdate': \"D:20250414135535Z00'00'\", 'source': 'assets/macro_economy/01中国经济的三驾马车.pdf', 'file_path': 'assets/macro_economy/01中国经济的三驾马车.pdf', 'total_pages': 7, 'format': 'PDF 1.4', 'title': '', 'author': '', 'subject': '', 'keywords': '', 'moddate': \"D:20250908150709Z00'00'\", 'trapped': '', 'modDate': \"D:20250908150709Z00'00'\", 'creationDate': \"D:20250414135535Z00'00'\", 'page': 0}, page_content='一、内容介绍 01:31\\n1. 课程背景与⽬的\\n\\uf06c\\n课程背景:\\n 宏观经济灰⾊难懂，投资选择复杂多变，学员需要⼀⻔实战的投资配置课\\n来掌握经济形势分析和投资⽅法。\\n\\uf06c\\n课程⽬的:\\n 帮助学员快速掌握分析经济形势和投资配置的⽅法，实现财富增⻓，掌控\\n⾃⼰的⼈⽣。\\n\\uf06c\\n课程特⾊:\\n 涵盖六⼤经济指标、投资时钟和⼤类资产投资⼿册、投资⼤师的经典思想\\n和案例、新能源⼈⼯智能半导体等热⻔产业链。\\n\\uf06c\\n课程形式:\\n 配有书课件、直播课程和专属课程助理，确保学员能够知⾏合⼀，将知识\\n应⽤到实战中。\\n2. 学习投资时钟和⼤类资产投资⼿册 02:17\\n\\uf06c\\n投资时钟:\\n ⼀种投资框架，帮助学员理解经济周期与资产配置的关系，快速⼊⻔投资\\n框架。\\n\\uf06c\\n⼤类资产投资⼿册:\\n 涵盖房地产、股市、基⾦、商品、汇率、⻩⾦等投资⽅法，为学\\n员提供全⾯的投资指导。\\n3. 学习投资⼤师的经典思想和案例 02:26\\n\\uf06c\\n投资⼤师思想:\\n 涵盖价值派、成⻓派、周期派等实战精髓，帮助学员汲取投资⼤师的\\n智慧和经验。\\n\\uf06c\\n经典案例:\\n 通过具体案例，让学员更好地理解投资⼤师的思想和⽅法，提升实战能\\n⼒。\\n4. 拆解新能源⼈⼯智能半导体等热⻔产业链 02:36\\n\\uf06c\\n新能源、⼈⼯智能、半导体: 当前热⻔赛道，具有巨⼤的投资机会。\\n\\uf06c\\n产业链拆解:\\n 深⼊分析这些热⻔产业链的构成、发展趋势和投资潜⼒，帮助学员抓住\\n新机遇。\\n二、知识小结\\n知识点\\n核⼼内容\\n考试重点/易混淆\\n点\\n难度系数\\n课程背景\\n任泽平经济学者推\\n出的投资配置课\\n-\\n🌟\\n课程⽬的\\n快速掌握分析经济\\n形势和投资配置的\\n⽅法\\n-\\n🌟\\n六⼤经济指标\\n快速⼊⻔经济形势\\n分析\\n经济指标的解读与\\n应⽤\\n🌟🌟\\n投资时钟与⼤类\\n资产\\n学习投资时钟和⼤\\n类资产投资⼿册\\n投资时钟的理解与\\n应⽤，⼤类资产的\\n选择策略\\n🌟🌟🌟\\n投资⼤师思想\\n价值派、成⻓派、\\n周期派的实战精髓\\n各派别的核⼼理念\\n与实战应⽤\\n🌟🌟🌟\\n热⻔产业链拆解\\n新能源、⼈⼯智\\n能、半导体等产业\\n链分析\\n产业链的逻辑与投\\n资机会\\n🌟🌟🌟🌟\\n\\n\\n\\n\\n\\n\\n\\n\\n|二、知识小结|Col2|Col3|Col4|\\n|---|---|---|---|\\n|知识点|核⼼内容|考试重点/易混淆<br>点|难度系数|\\n|**课程背景**|任泽平经济学者推<br>出的投资配置课|-|🌟|\\n|**课程⽬的**|快速掌握分析经济<br>形势和投资配置的<br>⽅法|-|🌟|\\n|**六⼤经济指标**|快速⼊⻔经济形势<br>分析|经济指标的解读与<br>应⽤|🌟🌟|\\n|**投资时钟与⼤类**<br>**资产**|学习投资时钟和⼤<br>类资产投资⼿册|投资时钟的理解与<br>应⽤，⼤类资产的<br>选择策略|🌟🌟🌟|\\n|**投资⼤师思想**|价值派、成⻓派、<br>周期派的实战精髓|各派别的核⼼理念<br>与实战应⽤|🌟🌟🌟|\\n|**热⻔产业链拆解**|新能源、⼈⼯智<br>能、半导体等产业<br>链分析|产业链的逻辑与投<br>资机会|🌟🌟🌟🌟|'),\n",
      " Document(metadata={'producer': 'macOS Version 15.6.1 (Build 24G90) Quartz PDFContext, AppendMode 1.1', 'creator': '', 'creationdate': \"D:20250414135535Z00'00'\", 'source': 'assets/macro_economy/01中国经济的三驾马车.pdf', 'file_path': 'assets/macro_economy/01中国经济的三驾马车.pdf', 'total_pages': 7, 'format': 'PDF 1.4', 'title': '', 'author': '', 'subject': '', 'keywords': '', 'moddate': \"D:20250908150709Z00'00'\", 'trapped': '', 'modDate': \"D:20250908150709Z00'00'\", 'creationDate': \"D:20250414135535Z00'00'\", 'page': 1}, page_content='课程特⾊\\n配上书课件和直播\\n课程，知⾏合⼀\\n-\\n🌟\\n服务⽀持\\n专属课程助理，解\\n答问题与想法\\n-\\n🌟\\n课程愿景\\n帮助快速提升认\\n知，构建框架，实\\n现财富增⻓\\n-\\n🌟\\n一、中国经济的三驾马车 00:21\\n1. 三驾⻢⻋概念 00:54\\n\\n\\n\\n\\n\\n\\n\\n\\n|课程特⾊|配上书课件和直播<br>课程，知⾏合⼀|-|🌟|\\n|---|---|---|---|\\n|**服务⽀持**|专属课程助理，解<br>答问题与想法|-|🌟|\\n|**课程愿景**|帮助快速提升认<br>知，构建框架，实<br>现财富增⻓|-|🌟|'),\n",
      " Document(metadata={'producer': 'macOS Version 15.6.1 (Build 24G90) Quartz PDFContext, AppendMode 1.1', 'creator': '', 'creationdate': \"D:20250414135535Z00'00'\", 'source': 'assets/macro_economy/01中国经济的三驾马车.pdf', 'file_path': 'assets/macro_economy/01中国经济的三驾马车.pdf', 'total_pages': 7, 'format': 'PDF 1.4', 'title': '', 'author': '', 'subject': '', 'keywords': '', 'moddate': \"D:20250908150709Z00'00'\", 'trapped': '', 'modDate': \"D:20250908150709Z00'00'\", 'creationDate': \"D:20250414135535Z00'00'\", 'page': 2}, page_content='\\uf06c\\n\\uf06c\\n来源: 三驾⻢⻋概念来源于GDP的核算⽅法之⼀⽀出法。\\n\\uf06c\\n公式: GDP = 最终消费⽀出 + 资本形成总额 + 货物和服务净出⼝。\\n\\uf06c\\n涵盖需求: 反映了居⺠、企业、政府和海外的各种需求。\\n\\uf06c\\n三驾⻢⻋组成:\\no\\n最终消费⽀出: 代表消费。\\no\\n资本形成总额: 代表投资，反映内需。\\no\\n货物和服务净出⼝: 代表外需。\\n2. 相关指标 01:48\\n\\uf06c\\n⽉度指标:\\no\\n社会消费品零售总额\\no\\n固定资产投资完成额\\no\\n出⼝同⽐或贸易差额\\n\\uf06c\\n季度指标:\\no\\n最终消费⽀出\\no\\n资本形成总额\\no\\n货物与服务净出⼝\\n3. 指标的⼝径 02:13'),\n",
      " Document(metadata={'producer': 'macOS Version 15.6.1 (Build 24G90) Quartz PDFContext, AppendMode 1.1', 'creator': '', 'creationdate': \"D:20250414135535Z00'00'\", 'source': 'assets/macro_economy/01中国经济的三驾马车.pdf', 'file_path': 'assets/macro_economy/01中国经济的三驾马车.pdf', 'total_pages': 7, 'format': 'PDF 1.4', 'title': '', 'author': '', 'subject': '', 'keywords': '', 'moddate': \"D:20250908150709Z00'00'\", 'trapped': '', 'modDate': \"D:20250908150709Z00'00'\", 'creationDate': \"D:20250414135535Z00'00'\", 'page': 3}, page_content='\\uf06c\\n\\uf06c\\n⼝径差异: ⽉度和季度指标在统计⼝径上存在差异。\\n\\uf06c\\n具体差异:\\no\\n最终消费⽀出 vs 社会消费品零售总额:\\n\\uf06e\\n最终消费⽀出包含服务性⽀出、虚拟消费⽀出等，不计⼊社会消费品零售总\\n额。\\n\\uf06e\\n社会消费品零售总额包含⼀些在GDP最终核算中记为投资的部分，如居⺠购\\n房时购买的建筑材料等。\\no\\n资本形成总额 vs 固定资本投资完成额:\\n\\uf06e\\n资本形成总额包含存货增加额、商品房销售增值、知识产权产品等，不计⼊\\n固定资本投资完成额。\\n\\uf06e\\n固定资本投资完成额包含⼟地购置费、旧建筑物购置费、旧设备购置费等，\\n不计⼊资本形成总额。\\no\\n货物与服务净出⼝ vs 贸易差额:\\n\\uf06e\\n货物与服务净出⼝包含服务贸易等，不计⼊贸易差额。\\n\\uf06e\\n贸易差额包含进⼝货物的国际运费、保险费等，不计⼊货物与服务净出⼝。\\n4. 三驾⻢⻋数据解读 02:58\\n\\uf06c'),\n",
      " Document(metadata={'producer': 'macOS Version 15.6.1 (Build 24G90) Quartz PDFContext, AppendMode 1.1', 'creator': '', 'creationdate': \"D:20250414135535Z00'00'\", 'source': 'assets/macro_economy/01中国经济的三驾马车.pdf', 'file_path': 'assets/macro_economy/01中国经济的三驾马车.pdf', 'total_pages': 7, 'format': 'PDF 1.4', 'title': '', 'author': '', 'subject': '', 'keywords': '', 'moddate': \"D:20250908150709Z00'00'\", 'trapped': '', 'modDate': \"D:20250908150709Z00'00'\", 'creationDate': \"D:20250414135535Z00'00'\", 'page': 4}, page_content='\\uf06c\\n解读⽅法:\\no\\n⼀看占⽐: 反映经济结构。\\n\\uf06e\\n消费占⽐越⾼: 经济越成熟和稳定。\\n\\uf06e\\n投资占⽐越⾼: 经济越活跃和创新。\\n\\uf06e\\n进出⼝占⽐越⾼: 国际贸易和竞争⼒越强。\\no\\n⼆看贡献率: 体现经济增⻓的⼒量。\\n\\uf06c\\n历史数据:\\no\\n2000年以前: 消费占⽐在多数年份⾼于60%。\\no\\n2001-2008年: 投资和进出⼝占⽐提升。\\no\\n2009年以后: 消费占⽐再度提⾼。\\no\\n2022年: 消费、投资和进出⼝占⽐分别为53%、44%和3%，反映消费和投资双驱动\\n型经济结构。\\n5. 中国经济的过去现在与未来 04:39\\n\\uf06c\\n\\uf06c\\n过去:\\no\\n1993-2008年: GDP平均增速约10%，受改⾰红利、全球化红利和⼈⼝红利驱动。\\n\\uf06c\\n现在:\\no\\n2012年⾄今:  进⼊增速换挡和结构调整期，GDP平均增速约6%，消费占⽐提升，\\n投资和出⼝占⽐下降。\\n\\uf06c\\n未来:\\no\\n经济结构变化: 从投资主导驱动往消费主导驱动转变。\\n6. 对三驾⻢⻋的预测 07:59'),\n",
      " Document(metadata={'producer': 'macOS Version 15.6.1 (Build 24G90) Quartz PDFContext, AppendMode 1.1', 'creator': '', 'creationdate': \"D:20250414135535Z00'00'\", 'source': 'assets/macro_economy/01中国经济的三驾马车.pdf', 'file_path': 'assets/macro_economy/01中国经济的三驾马车.pdf', 'total_pages': 7, 'format': 'PDF 1.4', 'title': '', 'author': '', 'subject': '', 'keywords': '', 'moddate': \"D:20250908150709Z00'00'\", 'trapped': '', 'modDate': \"D:20250908150709Z00'00'\", 'creationDate': \"D:20250414135535Z00'00'\", 'page': 5}, page_content='\\uf06c\\n\\uf06c\\n未来趋势:\\no\\n住⾏消费: 向服务型消费升级。\\no\\n贸易盈余: 对经济增⻓的贡献将下降。\\no\\n投资: 对经济增⻓的贡献下降。\\no\\n消费: 对经济增⻓的贡献上升。\\no\\n服务业: 对经济增⻓的贡献上升。\\no\\n经济增速: 中国经济从⾼速转向中速增⻓。\\n7. 三驾⻢⻋与资本市场 08:31\\n\\uf06c\\n投资贡献率与资本市场:\\no\\n投资贡献率上升: 宏观政策较为积极和宽松，资本市场通常带来可观收益。\\no\\n投资率回落: 政策处于较为中性的阶段，需选择合适的⾏业与板块。\\n8. 内容总结 09:21\\n\\uf06c\\n\\uf06c\\n三驾⻢⻋: 消费、投资、出⼝（或净出⼝）是拉动经济增⻓的重要⼒量。\\n\\uf06c\\n经济结构:\\n 消费占⽐越⾼，经济越成熟稳定；投资占⽐越⾼，经济越活跃创新；进出\\n⼝占⽐越⾼，国际贸易和竞争⼒越强。\\n\\uf06c\\n未来趋势: 中国消费占⽐有望持续提升，经济结构发⽣变化，增速换挡。'),\n",
      " Document(metadata={'producer': 'macOS Version 15.6.1 (Build 24G90) Quartz PDFContext, AppendMode 1.1', 'creator': '', 'creationdate': \"D:20250414135535Z00'00'\", 'source': 'assets/macro_economy/01中国经济的三驾马车.pdf', 'file_path': 'assets/macro_economy/01中国经济的三驾马车.pdf', 'total_pages': 7, 'format': 'PDF 1.4', 'title': '', 'author': '', 'subject': '', 'keywords': '', 'moddate': \"D:20250908150709Z00'00'\", 'trapped': '', 'modDate': \"D:20250908150709Z00'00'\", 'creationDate': \"D:20250414135535Z00'00'\", 'page': 6}, page_content='\\uf06c\\n资本市场:\\n 投资贡献率显著上升时，宏观政策宽松，资本市场表现较好；投资率回落\\n时，需选择合适⾏业与板块。\\n二、知识小结\\n知识点\\n核⼼内容\\n考试重点/易混淆点\\n难度系数\\n三驾⻢⻋的概念\\n三驾⻢⻋指消费、投\\n资、进出⼝，是GDP\\n核算的⽀出法，反映\\n构成GDP的需求\\n易混淆点：三驾⻢\\n⻋与GDP核算的其\\n他⽅法区别\\n🌟\\n三驾⻢⻋的指标\\n⽉度：社会消费品流\\n动总额、固定资产投\\n资完成额、出⼝同⽐\\n或贸易差额；季度：\\n最终消费⽀出、资本\\n形成总额、货物与服\\n务进出⼝\\n考试重点：⽉度与\\n季度指标的差异及\\n应⽤\\n🌟🌟\\n三驾⻢⻋的解读⽅\\n法\\n⼀看占⽐（反映经济\\n结构），⼆看贡献率\\n（体现经济增⻓⼒\\n量）\\n易混淆点：占⽐与\\n贡献率的区别及意\\n义\\n🌟🌟\\n中国经济历史分析\\n1993-2008年⾼速增\\n⻓；2012年后增速换\\n挡，结构调整\\n考试重点：不同阶\\n段的经济驱动⼒变\\n化\\n🌟🌟🌟\\n2023年经济形势\\n消费主导，进出⼝拖\\n累；服务消费⾼增\\n⻓，商品消费待恢\\n复；⾼技术产业投资\\n好，房地产投资低\\n迷；出⼝结构改善，\\n但⾯临压⼒\\n易混淆点：各经济\\n指标的具体表现及\\n原因\\n🌟🌟🌟🌟\\n未来预测\\n消费和服务业贡献上\\n升；贸易盈余和投资\\n贡献下降；经济增速\\n换挡\\n考试重点：未来经\\n济结构的预测及依\\n据\\n🌟🌟🌟\\n三驾⻢⻋在资本市\\n场应⽤\\n投资贡献率上升时，\\n政策积极宽松，资本\\n市场收益可观；投资\\n率回落时，政策中\\n性，需选合适⾏业与\\n板块\\n易混淆点：资本市\\n场与政策宽松度的\\n关系\\n🌟🌟🌟\\n\\n\\n\\n\\n\\n\\n\\n\\n|二、知识小结|Col2|Col3|Col4|\\n|---|---|---|---|\\n|知识点|核⼼内容|考试重点/易混淆点|难度系数|\\n|**三驾⻢⻋的概念**|三驾⻢⻋指消费、投<br>资、进出⼝，是GDP<br>核算的⽀出法，反映<br>构成GDP的需求|易混淆点：三驾⻢<br>⻋与GDP核算的其<br>他⽅法区别|🌟|\\n|**三驾⻢⻋的指标**|⽉度：社会消费品流<br>动总额、固定资产投<br>资完成额、出⼝同⽐<br>或贸易差额；季度：<br>最终消费⽀出、资本<br>形成总额、货物与服<br>务进出⼝|考试重点：⽉度与<br>季度指标的差异及<br>应⽤|🌟🌟|\\n|**三驾⻢⻋的解读⽅**<br>**法**|⼀看占⽐（反映经济<br>结构），⼆看贡献率<br>（体现经济增⻓⼒<br>量）|易混淆点：占⽐与<br>贡献率的区别及意<br>义|🌟🌟|\\n|**中国经济历史分析**|1993-2008年⾼速增<br>⻓；2012年后增速换<br>挡，结构调整|考试重点：不同阶<br>段的经济驱动⼒变<br>化|🌟🌟🌟|\\n|**2023年经济形势**|消费主导，进出⼝拖<br>累；服务消费⾼增<br>⻓，商品消费待恢<br>复；⾼技术产业投资<br>好，房地产投资低<br>迷；出⼝结构改善，<br>但⾯临压⼒|易混淆点：各经济<br>指标的具体表现及<br>原因|🌟🌟🌟🌟|\\n|**未来预测**|消费和服务业贡献上<br>升；贸易盈余和投资<br>贡献下降；经济增速<br>换挡|考试重点：未来经<br>济结构的预测及依<br>据|🌟🌟🌟|\\n|**三驾⻢⻋在资本市**<br>**场应⽤**|投资贡献率上升时，<br>政策积极宽松，资本<br>市场收益可观；投资<br>率回落时，政策中<br>性，需选合适⾏业与<br>板块|易混淆点：资本市<br>场与政策宽松度的<br>关系|🌟🌟🌟|')]\n"
     ]
    }
   ],
   "source": [
    "import pprint\n",
    "\n",
    "from langchain_community.document_loaders import FileSystemBlobLoader\n",
    "from langchain_community.document_loaders.generic import GenericLoader\n",
    "from langchain_community.document_loaders.parsers import PyMuPDFParser, RapidOCRBlobParser\n",
    "\n",
    "file_path = \"./assets/01中国经济的三驾马车.pdf\"\n",
    "loader = GenericLoader(\n",
    "    blob_loader=FileSystemBlobLoader(\n",
    "        path=\"./assets/macro_economy/\",\n",
    "        glob=\"*.pdf\",\n",
    "    ),\n",
    "    blob_parser=PyMuPDFParser(\n",
    "        images_inner_format=\"markdown-img\",\n",
    "        images_parser=RapidOCRBlobParser(),\n",
    "        extract_tables=\"markdown\",\n",
    "    ),\n",
    ")\n",
    "docs = loader.load()\n",
    "\n",
    "pprint.pprint(docs)"
   ]
  },
  {
   "cell_type": "code",
   "execution_count": 3,
   "id": "cf6ded2a",
   "metadata": {},
   "outputs": [
    {
     "name": "stdout",
     "output_type": "stream",
     "text": [
      "[Document(metadata={'producer': 'macOS Version 15.6.1 (Build 24G90) Quartz PDFContext, AppendMode 1.1', 'creator': '', 'creationdate': \"D:20250414135535Z00'00'\", 'source': 'assets/macro_economy/01中国经济的三驾马车.pdf', 'file_path': 'assets/macro_economy/01中国经济的三驾马车.pdf', 'total_pages': 7, 'format': 'PDF 1.4', 'title': '', 'author': '', 'subject': '', 'keywords': '', 'moddate': \"D:20250908150709Z00'00'\", 'trapped': '', 'modDate': \"D:20250908150709Z00'00'\", 'creationDate': \"D:20250414135535Z00'00'\", 'page': 0, 'start_index': 0}, page_content='一、内容介绍 01:31\\n1. 课程背景与⽬的\\n\\uf06c\\n课程背景:\\n 宏观经济灰⾊难懂，投资选择复杂多变，学员需要⼀⻔实战的投资配置课\\n来掌握经济形势分析和投资⽅法。\\n\\uf06c\\n课程⽬的:\\n 帮助学员快速掌握分析经济形势和投资配置的⽅法，实现财富增⻓，掌控\\n⾃⼰的⼈⽣。\\n\\uf06c\\n课程特⾊:\\n 涵盖六⼤经济指标、投资时钟和⼤类资产投资⼿册、投资⼤师的经典思想\\n和案例、新能源⼈⼯智能半导体等热⻔产业链。\\n\\uf06c\\n课程形式:\\n 配有书课件、直播课程和专属课程助理，确保学员能够知⾏合⼀，将知识\\n应⽤到实战中。\\n2. 学习投资时钟和⼤类资产投资⼿册 02:17\\n\\uf06c\\n投资时钟:\\n ⼀种投资框架，帮助学员理解经济周期与资产配置的关系，快速⼊⻔投资\\n框架。\\n\\uf06c\\n⼤类资产投资⼿册:\\n 涵盖房地产、股市、基⾦、商品、汇率、⻩⾦等投资⽅法，为学\\n员提供全⾯的投资指导。\\n3. 学习投资⼤师的经典思想和案例 02:26\\n\\uf06c\\n投资⼤师思想:\\n 涵盖价值派、成⻓派、周期派等实战精髓，帮助学员汲取投资⼤师的\\n智慧和经验。\\n\\uf06c\\n经典案例:\\n 通过具体案例，让学员更好地理解投资⼤师的思想和⽅法，提升实战能\\n⼒。\\n4. 拆解新能源⼈⼯智能半导体等热⻔产业链 02:36\\n\\uf06c\\n新能源、⼈⼯智能、半导体: 当前热⻔赛道，具有巨⼤的投资机会。\\n\\uf06c\\n产业链拆解:\\n 深⼊分析这些热⻔产业链的构成、发展趋势和投资潜⼒，帮助学员抓住\\n新机遇。\\n二、知识小结\\n知识点\\n核⼼内容\\n考试重点/易混淆\\n点\\n难度系数\\n课程背景\\n任泽平经济学者推\\n出的投资配置课\\n-\\n🌟\\n课程⽬的\\n快速掌握分析经济\\n形势和投资配置的\\n⽅法\\n-\\n🌟\\n六⼤经济指标\\n快速⼊⻔经济形势\\n分析\\n经济指标的解读与\\n应⽤\\n🌟🌟\\n投资时钟与⼤类\\n资产\\n学习投资时钟和⼤\\n类资产投资⼿册\\n投资时钟的理解与\\n应⽤，⼤类资产的\\n选择策略\\n🌟🌟🌟\\n投资⼤师思想\\n价值派、成⻓派、\\n周期派的实战精髓\\n各派别的核⼼理念\\n与实战应⽤\\n🌟🌟🌟\\n热⻔产业链拆解\\n新能源、⼈⼯智\\n能、半导体等产业\\n链分析\\n产业链的逻辑与投\\n资机会\\n🌟🌟🌟🌟'),\n",
      " Document(metadata={'producer': 'macOS Version 15.6.1 (Build 24G90) Quartz PDFContext, AppendMode 1.1', 'creator': '', 'creationdate': \"D:20250414135535Z00'00'\", 'source': 'assets/macro_economy/01中国经济的三驾马车.pdf', 'file_path': 'assets/macro_economy/01中国经济的三驾马车.pdf', 'total_pages': 7, 'format': 'PDF 1.4', 'title': '', 'author': '', 'subject': '', 'keywords': '', 'moddate': \"D:20250908150709Z00'00'\", 'trapped': '', 'modDate': \"D:20250908150709Z00'00'\", 'creationDate': \"D:20250414135535Z00'00'\", 'page': 0, 'start_index': 872}, page_content='|二、知识小结|Col2|Col3|Col4|\\n|---|---|---|---|\\n|知识点|核⼼内容|考试重点/易混淆<br>点|难度系数|\\n|**课程背景**|任泽平经济学者推<br>出的投资配置课|-|🌟|\\n|**课程⽬的**|快速掌握分析经济<br>形势和投资配置的<br>⽅法|-|🌟|\\n|**六⼤经济指标**|快速⼊⻔经济形势<br>分析|经济指标的解读与<br>应⽤|🌟🌟|\\n|**投资时钟与⼤类**<br>**资产**|学习投资时钟和⼤<br>类资产投资⼿册|投资时钟的理解与<br>应⽤，⼤类资产的<br>选择策略|🌟🌟🌟|\\n|**投资⼤师思想**|价值派、成⻓派、<br>周期派的实战精髓|各派别的核⼼理念<br>与实战应⽤|🌟🌟🌟|\\n|**热⻔产业链拆解**|新能源、⼈⼯智<br>能、半导体等产业<br>链分析|产业链的逻辑与投<br>资机会|🌟🌟🌟🌟|'),\n",
      " Document(metadata={'producer': 'macOS Version 15.6.1 (Build 24G90) Quartz PDFContext, AppendMode 1.1', 'creator': '', 'creationdate': \"D:20250414135535Z00'00'\", 'source': 'assets/macro_economy/01中国经济的三驾马车.pdf', 'file_path': 'assets/macro_economy/01中国经济的三驾马车.pdf', 'total_pages': 7, 'format': 'PDF 1.4', 'title': '', 'author': '', 'subject': '', 'keywords': '', 'moddate': \"D:20250908150709Z00'00'\", 'trapped': '', 'modDate': \"D:20250908150709Z00'00'\", 'creationDate': \"D:20250414135535Z00'00'\", 'page': 1, 'start_index': 0}, page_content='课程特⾊\\n配上书课件和直播\\n课程，知⾏合⼀\\n-\\n🌟\\n服务⽀持\\n专属课程助理，解\\n答问题与想法\\n-\\n🌟\\n课程愿景\\n帮助快速提升认\\n知，构建框架，实\\n现财富增⻓\\n-\\n🌟\\n一、中国经济的三驾马车 00:21\\n1. 三驾⻢⻋概念 00:54\\n\\n\\n\\n\\n\\n\\n\\n\\n|课程特⾊|配上书课件和直播<br>课程，知⾏合⼀|-|🌟|\\n|---|---|---|---|\\n|**服务⽀持**|专属课程助理，解<br>答问题与想法|-|🌟|\\n|**课程愿景**|帮助快速提升认<br>知，构建框架，实<br>现财富增⻓|-|🌟|'),\n",
      " Document(metadata={'producer': 'macOS Version 15.6.1 (Build 24G90) Quartz PDFContext, AppendMode 1.1', 'creator': '', 'creationdate': \"D:20250414135535Z00'00'\", 'source': 'assets/macro_economy/01中国经济的三驾马车.pdf', 'file_path': 'assets/macro_economy/01中国经济的三驾马车.pdf', 'total_pages': 7, 'format': 'PDF 1.4', 'title': '', 'author': '', 'subject': '', 'keywords': '', 'moddate': \"D:20250908150709Z00'00'\", 'trapped': '', 'modDate': \"D:20250908150709Z00'00'\", 'creationDate': \"D:20250414135535Z00'00'\", 'page': 2, 'start_index': 0}, page_content='\\uf06c\\n\\uf06c\\n来源: 三驾⻢⻋概念来源于GDP的核算⽅法之⼀⽀出法。\\n\\uf06c\\n公式: GDP = 最终消费⽀出 + 资本形成总额 + 货物和服务净出⼝。\\n\\uf06c\\n涵盖需求: 反映了居⺠、企业、政府和海外的各种需求。\\n\\uf06c\\n三驾⻢⻋组成:\\no\\n最终消费⽀出: 代表消费。\\no\\n资本形成总额: 代表投资，反映内需。\\no\\n货物和服务净出⼝: 代表外需。\\n2. 相关指标 01:48\\n\\uf06c\\n⽉度指标:\\no\\n社会消费品零售总额\\no\\n固定资产投资完成额\\no\\n出⼝同⽐或贸易差额\\n\\uf06c\\n季度指标:\\no\\n最终消费⽀出\\no\\n资本形成总额\\no\\n货物与服务净出⼝\\n3. 指标的⼝径 02:13'),\n",
      " Document(metadata={'producer': 'macOS Version 15.6.1 (Build 24G90) Quartz PDFContext, AppendMode 1.1', 'creator': '', 'creationdate': \"D:20250414135535Z00'00'\", 'source': 'assets/macro_economy/01中国经济的三驾马车.pdf', 'file_path': 'assets/macro_economy/01中国经济的三驾马车.pdf', 'total_pages': 7, 'format': 'PDF 1.4', 'title': '', 'author': '', 'subject': '', 'keywords': '', 'moddate': \"D:20250908150709Z00'00'\", 'trapped': '', 'modDate': \"D:20250908150709Z00'00'\", 'creationDate': \"D:20250414135535Z00'00'\", 'page': 3, 'start_index': 0}, page_content='\\uf06c\\n\\uf06c\\n⼝径差异: ⽉度和季度指标在统计⼝径上存在差异。\\n\\uf06c\\n具体差异:\\no\\n最终消费⽀出 vs 社会消费品零售总额:\\n\\uf06e\\n最终消费⽀出包含服务性⽀出、虚拟消费⽀出等，不计⼊社会消费品零售总\\n额。\\n\\uf06e\\n社会消费品零售总额包含⼀些在GDP最终核算中记为投资的部分，如居⺠购\\n房时购买的建筑材料等。\\no\\n资本形成总额 vs 固定资本投资完成额:\\n\\uf06e\\n资本形成总额包含存货增加额、商品房销售增值、知识产权产品等，不计⼊\\n固定资本投资完成额。\\n\\uf06e\\n固定资本投资完成额包含⼟地购置费、旧建筑物购置费、旧设备购置费等，\\n不计⼊资本形成总额。\\no\\n货物与服务净出⼝ vs 贸易差额:\\n\\uf06e\\n货物与服务净出⼝包含服务贸易等，不计⼊贸易差额。\\n\\uf06e\\n贸易差额包含进⼝货物的国际运费、保险费等，不计⼊货物与服务净出⼝。\\n4. 三驾⻢⻋数据解读 02:58\\n\\uf06c'),\n",
      " Document(metadata={'producer': 'macOS Version 15.6.1 (Build 24G90) Quartz PDFContext, AppendMode 1.1', 'creator': '', 'creationdate': \"D:20250414135535Z00'00'\", 'source': 'assets/macro_economy/01中国经济的三驾马车.pdf', 'file_path': 'assets/macro_economy/01中国经济的三驾马车.pdf', 'total_pages': 7, 'format': 'PDF 1.4', 'title': '', 'author': '', 'subject': '', 'keywords': '', 'moddate': \"D:20250908150709Z00'00'\", 'trapped': '', 'modDate': \"D:20250908150709Z00'00'\", 'creationDate': \"D:20250414135535Z00'00'\", 'page': 4, 'start_index': 0}, page_content='\\uf06c\\n解读⽅法:\\no\\n⼀看占⽐: 反映经济结构。\\n\\uf06e\\n消费占⽐越⾼: 经济越成熟和稳定。\\n\\uf06e\\n投资占⽐越⾼: 经济越活跃和创新。\\n\\uf06e\\n进出⼝占⽐越⾼: 国际贸易和竞争⼒越强。\\no\\n⼆看贡献率: 体现经济增⻓的⼒量。\\n\\uf06c\\n历史数据:\\no\\n2000年以前: 消费占⽐在多数年份⾼于60%。\\no\\n2001-2008年: 投资和进出⼝占⽐提升。\\no\\n2009年以后: 消费占⽐再度提⾼。\\no\\n2022年: 消费、投资和进出⼝占⽐分别为53%、44%和3%，反映消费和投资双驱动\\n型经济结构。\\n5. 中国经济的过去现在与未来 04:39\\n\\uf06c\\n\\uf06c\\n过去:\\no\\n1993-2008年: GDP平均增速约10%，受改⾰红利、全球化红利和⼈⼝红利驱动。\\n\\uf06c\\n现在:\\no\\n2012年⾄今:  进⼊增速换挡和结构调整期，GDP平均增速约6%，消费占⽐提升，\\n投资和出⼝占⽐下降。\\n\\uf06c\\n未来:\\no\\n经济结构变化: 从投资主导驱动往消费主导驱动转变。\\n6. 对三驾⻢⻋的预测 07:59'),\n",
      " Document(metadata={'producer': 'macOS Version 15.6.1 (Build 24G90) Quartz PDFContext, AppendMode 1.1', 'creator': '', 'creationdate': \"D:20250414135535Z00'00'\", 'source': 'assets/macro_economy/01中国经济的三驾马车.pdf', 'file_path': 'assets/macro_economy/01中国经济的三驾马车.pdf', 'total_pages': 7, 'format': 'PDF 1.4', 'title': '', 'author': '', 'subject': '', 'keywords': '', 'moddate': \"D:20250908150709Z00'00'\", 'trapped': '', 'modDate': \"D:20250908150709Z00'00'\", 'creationDate': \"D:20250414135535Z00'00'\", 'page': 5, 'start_index': 0}, page_content='\\uf06c\\n\\uf06c\\n未来趋势:\\no\\n住⾏消费: 向服务型消费升级。\\no\\n贸易盈余: 对经济增⻓的贡献将下降。\\no\\n投资: 对经济增⻓的贡献下降。\\no\\n消费: 对经济增⻓的贡献上升。\\no\\n服务业: 对经济增⻓的贡献上升。\\no\\n经济增速: 中国经济从⾼速转向中速增⻓。\\n7. 三驾⻢⻋与资本市场 08:31\\n\\uf06c\\n投资贡献率与资本市场:\\no\\n投资贡献率上升: 宏观政策较为积极和宽松，资本市场通常带来可观收益。\\no\\n投资率回落: 政策处于较为中性的阶段，需选择合适的⾏业与板块。\\n8. 内容总结 09:21\\n\\uf06c\\n\\uf06c\\n三驾⻢⻋: 消费、投资、出⼝（或净出⼝）是拉动经济增⻓的重要⼒量。\\n\\uf06c\\n经济结构:\\n 消费占⽐越⾼，经济越成熟稳定；投资占⽐越⾼，经济越活跃创新；进出\\n⼝占⽐越⾼，国际贸易和竞争⼒越强。\\n\\uf06c\\n未来趋势: 中国消费占⽐有望持续提升，经济结构发⽣变化，增速换挡。'),\n",
      " Document(metadata={'producer': 'macOS Version 15.6.1 (Build 24G90) Quartz PDFContext, AppendMode 1.1', 'creator': '', 'creationdate': \"D:20250414135535Z00'00'\", 'source': 'assets/macro_economy/01中国经济的三驾马车.pdf', 'file_path': 'assets/macro_economy/01中国经济的三驾马车.pdf', 'total_pages': 7, 'format': 'PDF 1.4', 'title': '', 'author': '', 'subject': '', 'keywords': '', 'moddate': \"D:20250908150709Z00'00'\", 'trapped': '', 'modDate': \"D:20250908150709Z00'00'\", 'creationDate': \"D:20250414135535Z00'00'\", 'page': 6, 'start_index': 0}, page_content='\\uf06c\\n资本市场:\\n 投资贡献率显著上升时，宏观政策宽松，资本市场表现较好；投资率回落\\n时，需选择合适⾏业与板块。\\n二、知识小结\\n知识点\\n核⼼内容\\n考试重点/易混淆点\\n难度系数\\n三驾⻢⻋的概念\\n三驾⻢⻋指消费、投\\n资、进出⼝，是GDP\\n核算的⽀出法，反映\\n构成GDP的需求\\n易混淆点：三驾⻢\\n⻋与GDP核算的其\\n他⽅法区别\\n🌟\\n三驾⻢⻋的指标\\n⽉度：社会消费品流\\n动总额、固定资产投\\n资完成额、出⼝同⽐\\n或贸易差额；季度：\\n最终消费⽀出、资本\\n形成总额、货物与服\\n务进出⼝\\n考试重点：⽉度与\\n季度指标的差异及\\n应⽤\\n🌟🌟\\n三驾⻢⻋的解读⽅\\n法\\n⼀看占⽐（反映经济\\n结构），⼆看贡献率\\n（体现经济增⻓⼒\\n量）\\n易混淆点：占⽐与\\n贡献率的区别及意\\n义\\n🌟🌟\\n中国经济历史分析\\n1993-2008年⾼速增\\n⻓；2012年后增速换\\n挡，结构调整\\n考试重点：不同阶\\n段的经济驱动⼒变\\n化\\n🌟🌟🌟\\n2023年经济形势\\n消费主导，进出⼝拖\\n累；服务消费⾼增\\n⻓，商品消费待恢\\n复；⾼技术产业投资\\n好，房地产投资低\\n迷；出⼝结构改善，\\n但⾯临压⼒\\n易混淆点：各经济\\n指标的具体表现及\\n原因\\n🌟🌟🌟🌟\\n未来预测\\n消费和服务业贡献上\\n升；贸易盈余和投资\\n贡献下降；经济增速\\n换挡\\n考试重点：未来经\\n济结构的预测及依\\n据\\n🌟🌟🌟\\n三驾⻢⻋在资本市\\n场应⽤\\n投资贡献率上升时，\\n政策积极宽松，资本\\n市场收益可观；投资\\n率回落时，政策中\\n性，需选合适⾏业与\\n板块\\n易混淆点：资本市\\n场与政策宽松度的\\n关系\\n🌟🌟🌟'),\n",
      " Document(metadata={'producer': 'macOS Version 15.6.1 (Build 24G90) Quartz PDFContext, AppendMode 1.1', 'creator': '', 'creationdate': \"D:20250414135535Z00'00'\", 'source': 'assets/macro_economy/01中国经济的三驾马车.pdf', 'file_path': 'assets/macro_economy/01中国经济的三驾马车.pdf', 'total_pages': 7, 'format': 'PDF 1.4', 'title': '', 'author': '', 'subject': '', 'keywords': '', 'moddate': \"D:20250908150709Z00'00'\", 'trapped': '', 'modDate': \"D:20250908150709Z00'00'\", 'creationDate': \"D:20250414135535Z00'00'\", 'page': 6, 'start_index': 650}, page_content='|二、知识小结|Col2|Col3|Col4|\\n|---|---|---|---|\\n|知识点|核⼼内容|考试重点/易混淆点|难度系数|\\n|**三驾⻢⻋的概念**|三驾⻢⻋指消费、投<br>资、进出⼝，是GDP<br>核算的⽀出法，反映<br>构成GDP的需求|易混淆点：三驾⻢<br>⻋与GDP核算的其<br>他⽅法区别|🌟|\\n|**三驾⻢⻋的指标**|⽉度：社会消费品流<br>动总额、固定资产投<br>资完成额、出⼝同⽐<br>或贸易差额；季度：<br>最终消费⽀出、资本<br>形成总额、货物与服<br>务进出⼝|考试重点：⽉度与<br>季度指标的差异及<br>应⽤|🌟🌟|\\n|**三驾⻢⻋的解读⽅**<br>**法**|⼀看占⽐（反映经济<br>结构），⼆看贡献率<br>（体现经济增⻓⼒<br>量）|易混淆点：占⽐与<br>贡献率的区别及意<br>义|🌟🌟|\\n|**中国经济历史分析**|1993-2008年⾼速增<br>⻓；2012年后增速换<br>挡，结构调整|考试重点：不同阶<br>段的经济驱动⼒变<br>化|🌟🌟🌟|\\n|**2023年经济形势**|消费主导，进出⼝拖<br>累；服务消费⾼增<br>⻓，商品消费待恢<br>复；⾼技术产业投资<br>好，房地产投资低<br>迷；出⼝结构改善，<br>但⾯临压⼒|易混淆点：各经济<br>指标的具体表现及<br>原因|🌟🌟🌟🌟|\\n|**未来预测**|消费和服务业贡献上<br>升；贸易盈余和投资<br>贡献下降；经济增速<br>换挡|考试重点：未来经<br>济结构的预测及依<br>据|🌟🌟🌟|\\n|**三驾⻢⻋在资本市**<br>**场应⽤**|投资贡献率上升时，<br>政策积极宽松，资本<br>市场收益可观；投资<br>率回落时，政策中<br>性，需选合适⾏业与<br>板块|易混淆点：资本市<br>场与政策宽松度的<br>关系|🌟🌟🌟|')]\n"
     ]
    }
   ],
   "source": [
    "from langchain_text_splitters import RecursiveCharacterTextSplitter\n",
    "\n",
    "text_splitter = RecursiveCharacterTextSplitter(\n",
    "    chunk_size=1000,\n",
    "    chunk_overlap=200,\n",
    "    add_start_index=True,\n",
    ")\n",
    "all_splits = text_splitter.split_documents(docs)\n",
    "\n",
    "pprint.pprint(all_splits)"
   ]
  },
  {
   "cell_type": "code",
   "execution_count": null,
   "id": "9707ced4",
   "metadata": {},
   "outputs": [
    {
     "ename": "ValidationError",
     "evalue": "1 validation error for HuggingFaceEndpointEmbeddings\nendpoint_url\n  Extra inputs are not permitted [type=extra_forbidden, input_value='https://hf-mirror.com/ap...en/Qwen3-Embedding-0.6B', input_type=str]\n    For further information visit https://errors.pydantic.dev/2.11/v/extra_forbidden",
     "output_type": "error",
     "traceback": [
      "\u001b[31m---------------------------------------------------------------------------\u001b[39m",
      "\u001b[31mValidationError\u001b[39m                           Traceback (most recent call last)",
      "\u001b[36mCell\u001b[39m\u001b[36m \u001b[39m\u001b[32mIn[5]\u001b[39m\u001b[32m, line 3\u001b[39m\n\u001b[32m      1\u001b[39m \u001b[38;5;28;01mfrom\u001b[39;00m\u001b[38;5;250m \u001b[39m\u001b[34;01mlangchain_huggingface\u001b[39;00m\u001b[38;5;250m \u001b[39m\u001b[38;5;28;01mimport\u001b[39;00m HuggingFaceEndpointEmbeddings\n\u001b[32m----> \u001b[39m\u001b[32m3\u001b[39m embeddings = \u001b[43mHuggingFaceEndpointEmbeddings\u001b[49m\u001b[43m(\u001b[49m\n\u001b[32m      4\u001b[39m \u001b[43m    \u001b[49m\u001b[43mendpoint_url\u001b[49m\u001b[43m=\u001b[49m\u001b[33;43m\"\u001b[39;49m\u001b[33;43mhttps://hf-mirror.com/api/models/Qwen/Qwen3-Embedding-0.6B\u001b[39;49m\u001b[33;43m\"\u001b[39;49m\u001b[43m,\u001b[49m\n\u001b[32m      5\u001b[39m \u001b[43m    \u001b[49m\u001b[43mmodel\u001b[49m\u001b[43m=\u001b[49m\u001b[33;43m\"\u001b[39;49m\u001b[33;43mQwen/Qwen3-Embedding-0.6B\u001b[39;49m\u001b[33;43m\"\u001b[39;49m\u001b[43m,\u001b[49m\n\u001b[32m      6\u001b[39m \u001b[43m)\u001b[49m\n\u001b[32m      8\u001b[39m vector_1 = embeddings.embed_query(all_splits[\u001b[32m0\u001b[39m].page_content)\n\u001b[32m      9\u001b[39m vector_2 = embeddings.embed_query(all_splits[\u001b[32m1\u001b[39m].page_content)\n",
      "\u001b[36mFile \u001b[39m\u001b[32m/usr/local/Caskroom/miniconda/base/envs/analyst_chain/lib/python3.13/site-packages/pydantic/main.py:253\u001b[39m, in \u001b[36mBaseModel.__init__\u001b[39m\u001b[34m(self, **data)\u001b[39m\n\u001b[32m    251\u001b[39m \u001b[38;5;66;03m# `__tracebackhide__` tells pytest and some other tools to omit this function from tracebacks\u001b[39;00m\n\u001b[32m    252\u001b[39m __tracebackhide__ = \u001b[38;5;28;01mTrue\u001b[39;00m\n\u001b[32m--> \u001b[39m\u001b[32m253\u001b[39m validated_self = \u001b[38;5;28;43mself\u001b[39;49m\u001b[43m.\u001b[49m\u001b[43m__pydantic_validator__\u001b[49m\u001b[43m.\u001b[49m\u001b[43mvalidate_python\u001b[49m\u001b[43m(\u001b[49m\u001b[43mdata\u001b[49m\u001b[43m,\u001b[49m\u001b[43m \u001b[49m\u001b[43mself_instance\u001b[49m\u001b[43m=\u001b[49m\u001b[38;5;28;43mself\u001b[39;49m\u001b[43m)\u001b[49m\n\u001b[32m    254\u001b[39m \u001b[38;5;28;01mif\u001b[39;00m \u001b[38;5;28mself\u001b[39m \u001b[38;5;129;01mis\u001b[39;00m \u001b[38;5;129;01mnot\u001b[39;00m validated_self:\n\u001b[32m    255\u001b[39m     warnings.warn(\n\u001b[32m    256\u001b[39m         \u001b[33m'\u001b[39m\u001b[33mA custom validator is returning a value other than `self`.\u001b[39m\u001b[38;5;130;01m\\n\u001b[39;00m\u001b[33m'\u001b[39m\n\u001b[32m    257\u001b[39m         \u001b[33m\"\u001b[39m\u001b[33mReturning anything other than `self` from a top level model validator isn\u001b[39m\u001b[33m'\u001b[39m\u001b[33mt supported when validating via `__init__`.\u001b[39m\u001b[38;5;130;01m\\n\u001b[39;00m\u001b[33m\"\u001b[39m\n\u001b[32m    258\u001b[39m         \u001b[33m'\u001b[39m\u001b[33mSee the `model_validator` docs (https://docs.pydantic.dev/latest/concepts/validators/#model-validators) for more details.\u001b[39m\u001b[33m'\u001b[39m,\n\u001b[32m    259\u001b[39m         stacklevel=\u001b[32m2\u001b[39m,\n\u001b[32m    260\u001b[39m     )\n",
      "\u001b[31mValidationError\u001b[39m: 1 validation error for HuggingFaceEndpointEmbeddings\nendpoint_url\n  Extra inputs are not permitted [type=extra_forbidden, input_value='https://hf-mirror.com/ap...en/Qwen3-Embedding-0.6B', input_type=str]\n    For further information visit https://errors.pydantic.dev/2.11/v/extra_forbidden"
     ]
    }
   ],
   "source": [
    "from langchain_huggingface import HuggingFaceEndpointEmbeddings\n",
    "\n",
    "embeddings = HuggingFaceEndpointEmbeddings(\n",
    "    model=\"Qwen/Qwen3-Embedding-0.6B\",\n",
    ")\n",
    "\n",
    "vector_1 = embeddings.embed_query(all_splits[0].page_content)\n",
    "vector_2 = embeddings.embed_query(all_splits[1].page_content)\n",
    "\n",
    "assert len(vector_1) == len(vector_2)\n",
    "print(len(vector_1))"
   ]
  }
 ],
 "metadata": {
  "kernelspec": {
   "display_name": "analyst_chain",
   "language": "python",
   "name": "python3"
  },
  "language_info": {
   "codemirror_mode": {
    "name": "ipython",
    "version": 3
   },
   "file_extension": ".py",
   "mimetype": "text/x-python",
   "name": "python",
   "nbconvert_exporter": "python",
   "pygments_lexer": "ipython3",
   "version": "3.13.0"
  }
 },
 "nbformat": 4,
 "nbformat_minor": 5
}
