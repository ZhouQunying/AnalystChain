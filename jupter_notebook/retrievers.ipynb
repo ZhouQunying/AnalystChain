{
 "cells": [
  {
   "cell_type": "code",
   "execution_count": 1,
   "id": "3fc47eb8",
   "metadata": {},
   "outputs": [
    {
     "data": {
      "text/plain": [
       "True"
      ]
     },
     "execution_count": 1,
     "metadata": {},
     "output_type": "execute_result"
    }
   ],
   "source": [
    "import os\n",
    "from dotenv import load_dotenv\n",
    "\n",
    "os.environ[\"LANGSMITH_TRACING\"] = \"true\"\n",
    "load_dotenv(\"../config/.env\")"
   ]
  },
  {
   "cell_type": "code",
   "execution_count": 2,
   "id": "da83d341",
   "metadata": {},
   "outputs": [
    {
     "name": "stderr",
     "output_type": "stream",
     "text": [
      "/usr/local/Caskroom/miniconda/base/envs/analyst_chain/lib/python3.11/site-packages/tqdm/auto.py:21: TqdmWarning: IProgress not found. Please update jupyter and ipywidgets. See https://ipywidgets.readthedocs.io/en/stable/user_install.html\n",
      "  from .autonotebook import tqdm as notebook_tqdm\n"
     ]
    },
    {
     "name": "stdout",
     "output_type": "stream",
     "text": [
      "[Document(metadata={'producer': 'macOS Version 15.6.1 (Build 24G90) Quartz PDFContext, AppendMode 1.1', 'creator': '', 'creationdate': \"D:20250414135535Z00'00'\", 'source': 'assets/macro_economy/01中国经济的三驾马车.pdf', 'file_path': 'assets/macro_economy/01中国经济的三驾马车.pdf', 'total_pages': 7, 'format': 'PDF 1.4', 'title': '', 'author': '', 'subject': '', 'keywords': '', 'moddate': \"D:20250908150709Z00'00'\", 'trapped': '', 'modDate': \"D:20250908150709Z00'00'\", 'creationDate': \"D:20250414135535Z00'00'\", 'page': 0}, page_content='一、内容介绍 01:31\\n1. 课程背景与⽬的\\n\\uf06c\\n课程背景:\\n 宏观经济灰⾊难懂，投资选择复杂多变，学员需要⼀⻔实战的投资配置课\\n来掌握经济形势分析和投资⽅法。\\n\\uf06c\\n课程⽬的:\\n 帮助学员快速掌握分析经济形势和投资配置的⽅法，实现财富增⻓，掌控\\n⾃⼰的⼈⽣。\\n\\uf06c\\n课程特⾊:\\n 涵盖六⼤经济指标、投资时钟和⼤类资产投资⼿册、投资⼤师的经典思想\\n和案例、新能源⼈⼯智能半导体等热⻔产业链。\\n\\uf06c\\n课程形式:\\n 配有书课件、直播课程和专属课程助理，确保学员能够知⾏合⼀，将知识\\n应⽤到实战中。\\n2. 学习投资时钟和⼤类资产投资⼿册 02:17\\n\\uf06c\\n投资时钟:\\n ⼀种投资框架，帮助学员理解经济周期与资产配置的关系，快速⼊⻔投资\\n框架。\\n\\uf06c\\n⼤类资产投资⼿册:\\n 涵盖房地产、股市、基⾦、商品、汇率、⻩⾦等投资⽅法，为学\\n员提供全⾯的投资指导。\\n3. 学习投资⼤师的经典思想和案例 02:26\\n\\uf06c\\n投资⼤师思想:\\n 涵盖价值派、成⻓派、周期派等实战精髓，帮助学员汲取投资⼤师的\\n智慧和经验。\\n\\uf06c\\n经典案例:\\n 通过具体案例，让学员更好地理解投资⼤师的思想和⽅法，提升实战能\\n⼒。\\n4. 拆解新能源⼈⼯智能半导体等热⻔产业链 02:36\\n\\uf06c\\n新能源、⼈⼯智能、半导体: 当前热⻔赛道，具有巨⼤的投资机会。\\n\\uf06c\\n产业链拆解:\\n 深⼊分析这些热⻔产业链的构成、发展趋势和投资潜⼒，帮助学员抓住\\n新机遇。\\n二、知识小结\\n知识点\\n核⼼内容\\n考试重点/易混淆\\n点\\n难度系数\\n课程背景\\n任泽平经济学者推\\n出的投资配置课\\n-\\n🌟\\n课程⽬的\\n快速掌握分析经济\\n形势和投资配置的\\n⽅法\\n-\\n🌟\\n六⼤经济指标\\n快速⼊⻔经济形势\\n分析\\n经济指标的解读与\\n应⽤\\n🌟🌟\\n投资时钟与⼤类\\n资产\\n学习投资时钟和⼤\\n类资产投资⼿册\\n投资时钟的理解与\\n应⽤，⼤类资产的\\n选择策略\\n🌟🌟🌟\\n投资⼤师思想\\n价值派、成⻓派、\\n周期派的实战精髓\\n各派别的核⼼理念\\n与实战应⽤\\n🌟🌟🌟\\n热⻔产业链拆解\\n新能源、⼈⼯智\\n能、半导体等产业\\n链分析\\n产业链的逻辑与投\\n资机会\\n🌟🌟🌟🌟\\n\\n\\n\\n\\n\\n\\n\\n\\n|二、知识小结|Col2|Col3|Col4|\\n|---|---|---|---|\\n|知识点|核⼼内容|考试重点/易混淆<br>点|难度系数|\\n|**课程背景**|任泽平经济学者推<br>出的投资配置课|-|🌟|\\n|**课程⽬的**|快速掌握分析经济<br>形势和投资配置的<br>⽅法|-|🌟|\\n|**六⼤经济指标**|快速⼊⻔经济形势<br>分析|经济指标的解读与<br>应⽤|🌟🌟|\\n|**投资时钟与⼤类**<br>**资产**|学习投资时钟和⼤<br>类资产投资⼿册|投资时钟的理解与<br>应⽤，⼤类资产的<br>选择策略|🌟🌟🌟|\\n|**投资⼤师思想**|价值派、成⻓派、<br>周期派的实战精髓|各派别的核⼼理念<br>与实战应⽤|🌟🌟🌟|\\n|**热⻔产业链拆解**|新能源、⼈⼯智<br>能、半导体等产业<br>链分析|产业链的逻辑与投<br>资机会|🌟🌟🌟🌟|'),\n",
      " Document(metadata={'producer': 'macOS Version 15.6.1 (Build 24G90) Quartz PDFContext, AppendMode 1.1', 'creator': '', 'creationdate': \"D:20250414135535Z00'00'\", 'source': 'assets/macro_economy/01中国经济的三驾马车.pdf', 'file_path': 'assets/macro_economy/01中国经济的三驾马车.pdf', 'total_pages': 7, 'format': 'PDF 1.4', 'title': '', 'author': '', 'subject': '', 'keywords': '', 'moddate': \"D:20250908150709Z00'00'\", 'trapped': '', 'modDate': \"D:20250908150709Z00'00'\", 'creationDate': \"D:20250414135535Z00'00'\", 'page': 1}, page_content='课程特⾊\\n配上书课件和直播\\n课程，知⾏合⼀\\n-\\n🌟\\n服务⽀持\\n专属课程助理，解\\n答问题与想法\\n-\\n🌟\\n课程愿景\\n帮助快速提升认\\n知，构建框架，实\\n现财富增⻓\\n-\\n🌟\\n一、中国经济的三驾马车 00:21\\n1. 三驾⻢⻋概念 00:54\\n\\n\\n\\n\\n\\n\\n\\n\\n|课程特⾊|配上书课件和直播<br>课程，知⾏合⼀|-|🌟|\\n|---|---|---|---|\\n|**服务⽀持**|专属课程助理，解<br>答问题与想法|-|🌟|\\n|**课程愿景**|帮助快速提升认<br>知，构建框架，实<br>现财富增⻓|-|🌟|'),\n",
      " Document(metadata={'producer': 'macOS Version 15.6.1 (Build 24G90) Quartz PDFContext, AppendMode 1.1', 'creator': '', 'creationdate': \"D:20250414135535Z00'00'\", 'source': 'assets/macro_economy/01中国经济的三驾马车.pdf', 'file_path': 'assets/macro_economy/01中国经济的三驾马车.pdf', 'total_pages': 7, 'format': 'PDF 1.4', 'title': '', 'author': '', 'subject': '', 'keywords': '', 'moddate': \"D:20250908150709Z00'00'\", 'trapped': '', 'modDate': \"D:20250908150709Z00'00'\", 'creationDate': \"D:20250414135535Z00'00'\", 'page': 2}, page_content='\\uf06c\\n\\uf06c\\n来源: 三驾⻢⻋概念来源于GDP的核算⽅法之⼀⽀出法。\\n\\uf06c\\n公式: GDP = 最终消费⽀出 + 资本形成总额 + 货物和服务净出⼝。\\n\\uf06c\\n涵盖需求: 反映了居⺠、企业、政府和海外的各种需求。\\n\\uf06c\\n三驾⻢⻋组成:\\no\\n最终消费⽀出: 代表消费。\\no\\n资本形成总额: 代表投资，反映内需。\\no\\n货物和服务净出⼝: 代表外需。\\n2. 相关指标 01:48\\n\\uf06c\\n⽉度指标:\\no\\n社会消费品零售总额\\no\\n固定资产投资完成额\\no\\n出⼝同⽐或贸易差额\\n\\uf06c\\n季度指标:\\no\\n最终消费⽀出\\no\\n资本形成总额\\no\\n货物与服务净出⼝\\n3. 指标的⼝径 02:13'),\n",
      " Document(metadata={'producer': 'macOS Version 15.6.1 (Build 24G90) Quartz PDFContext, AppendMode 1.1', 'creator': '', 'creationdate': \"D:20250414135535Z00'00'\", 'source': 'assets/macro_economy/01中国经济的三驾马车.pdf', 'file_path': 'assets/macro_economy/01中国经济的三驾马车.pdf', 'total_pages': 7, 'format': 'PDF 1.4', 'title': '', 'author': '', 'subject': '', 'keywords': '', 'moddate': \"D:20250908150709Z00'00'\", 'trapped': '', 'modDate': \"D:20250908150709Z00'00'\", 'creationDate': \"D:20250414135535Z00'00'\", 'page': 3}, page_content='\\uf06c\\n\\uf06c\\n⼝径差异: ⽉度和季度指标在统计⼝径上存在差异。\\n\\uf06c\\n具体差异:\\no\\n最终消费⽀出 vs 社会消费品零售总额:\\n\\uf06e\\n最终消费⽀出包含服务性⽀出、虚拟消费⽀出等，不计⼊社会消费品零售总\\n额。\\n\\uf06e\\n社会消费品零售总额包含⼀些在GDP最终核算中记为投资的部分，如居⺠购\\n房时购买的建筑材料等。\\no\\n资本形成总额 vs 固定资本投资完成额:\\n\\uf06e\\n资本形成总额包含存货增加额、商品房销售增值、知识产权产品等，不计⼊\\n固定资本投资完成额。\\n\\uf06e\\n固定资本投资完成额包含⼟地购置费、旧建筑物购置费、旧设备购置费等，\\n不计⼊资本形成总额。\\no\\n货物与服务净出⼝ vs 贸易差额:\\n\\uf06e\\n货物与服务净出⼝包含服务贸易等，不计⼊贸易差额。\\n\\uf06e\\n贸易差额包含进⼝货物的国际运费、保险费等，不计⼊货物与服务净出⼝。\\n4. 三驾⻢⻋数据解读 02:58\\n\\uf06c'),\n",
      " Document(metadata={'producer': 'macOS Version 15.6.1 (Build 24G90) Quartz PDFContext, AppendMode 1.1', 'creator': '', 'creationdate': \"D:20250414135535Z00'00'\", 'source': 'assets/macro_economy/01中国经济的三驾马车.pdf', 'file_path': 'assets/macro_economy/01中国经济的三驾马车.pdf', 'total_pages': 7, 'format': 'PDF 1.4', 'title': '', 'author': '', 'subject': '', 'keywords': '', 'moddate': \"D:20250908150709Z00'00'\", 'trapped': '', 'modDate': \"D:20250908150709Z00'00'\", 'creationDate': \"D:20250414135535Z00'00'\", 'page': 4}, page_content='\\uf06c\\n解读⽅法:\\no\\n⼀看占⽐: 反映经济结构。\\n\\uf06e\\n消费占⽐越⾼: 经济越成熟和稳定。\\n\\uf06e\\n投资占⽐越⾼: 经济越活跃和创新。\\n\\uf06e\\n进出⼝占⽐越⾼: 国际贸易和竞争⼒越强。\\no\\n⼆看贡献率: 体现经济增⻓的⼒量。\\n\\uf06c\\n历史数据:\\no\\n2000年以前: 消费占⽐在多数年份⾼于60%。\\no\\n2001-2008年: 投资和进出⼝占⽐提升。\\no\\n2009年以后: 消费占⽐再度提⾼。\\no\\n2022年: 消费、投资和进出⼝占⽐分别为53%、44%和3%，反映消费和投资双驱动\\n型经济结构。\\n5. 中国经济的过去现在与未来 04:39\\n\\uf06c\\n\\uf06c\\n过去:\\no\\n1993-2008年: GDP平均增速约10%，受改⾰红利、全球化红利和⼈⼝红利驱动。\\n\\uf06c\\n现在:\\no\\n2012年⾄今:  进⼊增速换挡和结构调整期，GDP平均增速约6%，消费占⽐提升，\\n投资和出⼝占⽐下降。\\n\\uf06c\\n未来:\\no\\n经济结构变化: 从投资主导驱动往消费主导驱动转变。\\n6. 对三驾⻢⻋的预测 07:59'),\n",
      " Document(metadata={'producer': 'macOS Version 15.6.1 (Build 24G90) Quartz PDFContext, AppendMode 1.1', 'creator': '', 'creationdate': \"D:20250414135535Z00'00'\", 'source': 'assets/macro_economy/01中国经济的三驾马车.pdf', 'file_path': 'assets/macro_economy/01中国经济的三驾马车.pdf', 'total_pages': 7, 'format': 'PDF 1.4', 'title': '', 'author': '', 'subject': '', 'keywords': '', 'moddate': \"D:20250908150709Z00'00'\", 'trapped': '', 'modDate': \"D:20250908150709Z00'00'\", 'creationDate': \"D:20250414135535Z00'00'\", 'page': 5}, page_content='\\uf06c\\n\\uf06c\\n未来趋势:\\no\\n住⾏消费: 向服务型消费升级。\\no\\n贸易盈余: 对经济增⻓的贡献将下降。\\no\\n投资: 对经济增⻓的贡献下降。\\no\\n消费: 对经济增⻓的贡献上升。\\no\\n服务业: 对经济增⻓的贡献上升。\\no\\n经济增速: 中国经济从⾼速转向中速增⻓。\\n7. 三驾⻢⻋与资本市场 08:31\\n\\uf06c\\n投资贡献率与资本市场:\\no\\n投资贡献率上升: 宏观政策较为积极和宽松，资本市场通常带来可观收益。\\no\\n投资率回落: 政策处于较为中性的阶段，需选择合适的⾏业与板块。\\n8. 内容总结 09:21\\n\\uf06c\\n\\uf06c\\n三驾⻢⻋: 消费、投资、出⼝（或净出⼝）是拉动经济增⻓的重要⼒量。\\n\\uf06c\\n经济结构:\\n 消费占⽐越⾼，经济越成熟稳定；投资占⽐越⾼，经济越活跃创新；进出\\n⼝占⽐越⾼，国际贸易和竞争⼒越强。\\n\\uf06c\\n未来趋势: 中国消费占⽐有望持续提升，经济结构发⽣变化，增速换挡。'),\n",
      " Document(metadata={'producer': 'macOS Version 15.6.1 (Build 24G90) Quartz PDFContext, AppendMode 1.1', 'creator': '', 'creationdate': \"D:20250414135535Z00'00'\", 'source': 'assets/macro_economy/01中国经济的三驾马车.pdf', 'file_path': 'assets/macro_economy/01中国经济的三驾马车.pdf', 'total_pages': 7, 'format': 'PDF 1.4', 'title': '', 'author': '', 'subject': '', 'keywords': '', 'moddate': \"D:20250908150709Z00'00'\", 'trapped': '', 'modDate': \"D:20250908150709Z00'00'\", 'creationDate': \"D:20250414135535Z00'00'\", 'page': 6}, page_content='\\uf06c\\n资本市场:\\n 投资贡献率显著上升时，宏观政策宽松，资本市场表现较好；投资率回落\\n时，需选择合适⾏业与板块。\\n二、知识小结\\n知识点\\n核⼼内容\\n考试重点/易混淆点\\n难度系数\\n三驾⻢⻋的概念\\n三驾⻢⻋指消费、投\\n资、进出⼝，是GDP\\n核算的⽀出法，反映\\n构成GDP的需求\\n易混淆点：三驾⻢\\n⻋与GDP核算的其\\n他⽅法区别\\n🌟\\n三驾⻢⻋的指标\\n⽉度：社会消费品流\\n动总额、固定资产投\\n资完成额、出⼝同⽐\\n或贸易差额；季度：\\n最终消费⽀出、资本\\n形成总额、货物与服\\n务进出⼝\\n考试重点：⽉度与\\n季度指标的差异及\\n应⽤\\n🌟🌟\\n三驾⻢⻋的解读⽅\\n法\\n⼀看占⽐（反映经济\\n结构），⼆看贡献率\\n（体现经济增⻓⼒\\n量）\\n易混淆点：占⽐与\\n贡献率的区别及意\\n义\\n🌟🌟\\n中国经济历史分析\\n1993-2008年⾼速增\\n⻓；2012年后增速换\\n挡，结构调整\\n考试重点：不同阶\\n段的经济驱动⼒变\\n化\\n🌟🌟🌟\\n2023年经济形势\\n消费主导，进出⼝拖\\n累；服务消费⾼增\\n⻓，商品消费待恢\\n复；⾼技术产业投资\\n好，房地产投资低\\n迷；出⼝结构改善，\\n但⾯临压⼒\\n易混淆点：各经济\\n指标的具体表现及\\n原因\\n🌟🌟🌟🌟\\n未来预测\\n消费和服务业贡献上\\n升；贸易盈余和投资\\n贡献下降；经济增速\\n换挡\\n考试重点：未来经\\n济结构的预测及依\\n据\\n🌟🌟🌟\\n三驾⻢⻋在资本市\\n场应⽤\\n投资贡献率上升时，\\n政策积极宽松，资本\\n市场收益可观；投资\\n率回落时，政策中\\n性，需选合适⾏业与\\n板块\\n易混淆点：资本市\\n场与政策宽松度的\\n关系\\n🌟🌟🌟\\n\\n\\n\\n\\n\\n\\n\\n\\n|二、知识小结|Col2|Col3|Col4|\\n|---|---|---|---|\\n|知识点|核⼼内容|考试重点/易混淆点|难度系数|\\n|**三驾⻢⻋的概念**|三驾⻢⻋指消费、投<br>资、进出⼝，是GDP<br>核算的⽀出法，反映<br>构成GDP的需求|易混淆点：三驾⻢<br>⻋与GDP核算的其<br>他⽅法区别|🌟|\\n|**三驾⻢⻋的指标**|⽉度：社会消费品流<br>动总额、固定资产投<br>资完成额、出⼝同⽐<br>或贸易差额；季度：<br>最终消费⽀出、资本<br>形成总额、货物与服<br>务进出⼝|考试重点：⽉度与<br>季度指标的差异及<br>应⽤|🌟🌟|\\n|**三驾⻢⻋的解读⽅**<br>**法**|⼀看占⽐（反映经济<br>结构），⼆看贡献率<br>（体现经济增⻓⼒<br>量）|易混淆点：占⽐与<br>贡献率的区别及意<br>义|🌟🌟|\\n|**中国经济历史分析**|1993-2008年⾼速增<br>⻓；2012年后增速换<br>挡，结构调整|考试重点：不同阶<br>段的经济驱动⼒变<br>化|🌟🌟🌟|\\n|**2023年经济形势**|消费主导，进出⼝拖<br>累；服务消费⾼增<br>⻓，商品消费待恢<br>复；⾼技术产业投资<br>好，房地产投资低<br>迷；出⼝结构改善，<br>但⾯临压⼒|易混淆点：各经济<br>指标的具体表现及<br>原因|🌟🌟🌟🌟|\\n|**未来预测**|消费和服务业贡献上<br>升；贸易盈余和投资<br>贡献下降；经济增速<br>换挡|考试重点：未来经<br>济结构的预测及依<br>据|🌟🌟🌟|\\n|**三驾⻢⻋在资本市**<br>**场应⽤**|投资贡献率上升时，<br>政策积极宽松，资本<br>市场收益可观；投资<br>率回落时，政策中<br>性，需选合适⾏业与<br>板块|易混淆点：资本市<br>场与政策宽松度的<br>关系|🌟🌟🌟|')]\n"
     ]
    }
   ],
   "source": [
    "import pprint\n",
    "\n",
    "from langchain_community.document_loaders import FileSystemBlobLoader\n",
    "from langchain_community.document_loaders.generic import GenericLoader\n",
    "from langchain_community.document_loaders.parsers import PyMuPDFParser, RapidOCRBlobParser\n",
    "\n",
    "file_path = \"./assets/01中国经济的三驾马车.pdf\"\n",
    "loader = GenericLoader(\n",
    "    blob_loader=FileSystemBlobLoader(\n",
    "        path=\"./assets/macro_economy/\",\n",
    "        glob=\"*.pdf\",\n",
    "    ),\n",
    "    blob_parser=PyMuPDFParser(\n",
    "        images_inner_format=\"markdown-img\",\n",
    "        images_parser=RapidOCRBlobParser(),\n",
    "        extract_tables=\"markdown\",\n",
    "    ),\n",
    ")\n",
    "docs = loader.load()\n",
    "\n",
    "pprint.pprint(docs)"
   ]
  },
  {
   "cell_type": "code",
   "execution_count": 3,
   "id": "cf6ded2a",
   "metadata": {},
   "outputs": [
    {
     "name": "stdout",
     "output_type": "stream",
     "text": [
      "[Document(metadata={'producer': 'macOS Version 15.6.1 (Build 24G90) Quartz PDFContext, AppendMode 1.1', 'creator': '', 'creationdate': \"D:20250414135535Z00'00'\", 'source': 'assets/macro_economy/01中国经济的三驾马车.pdf', 'file_path': 'assets/macro_economy/01中国经济的三驾马车.pdf', 'total_pages': 7, 'format': 'PDF 1.4', 'title': '', 'author': '', 'subject': '', 'keywords': '', 'moddate': \"D:20250908150709Z00'00'\", 'trapped': '', 'modDate': \"D:20250908150709Z00'00'\", 'creationDate': \"D:20250414135535Z00'00'\", 'page': 0, 'start_index': 0}, page_content='一、内容介绍 01:31\\n1. 课程背景与⽬的\\n\\uf06c\\n课程背景:\\n 宏观经济灰⾊难懂，投资选择复杂多变，学员需要⼀⻔实战的投资配置课\\n来掌握经济形势分析和投资⽅法。\\n\\uf06c\\n课程⽬的:\\n 帮助学员快速掌握分析经济形势和投资配置的⽅法，实现财富增⻓，掌控\\n⾃⼰的⼈⽣。\\n\\uf06c\\n课程特⾊:\\n 涵盖六⼤经济指标、投资时钟和⼤类资产投资⼿册、投资⼤师的经典思想\\n和案例、新能源⼈⼯智能半导体等热⻔产业链。\\n\\uf06c\\n课程形式:\\n 配有书课件、直播课程和专属课程助理，确保学员能够知⾏合⼀，将知识\\n应⽤到实战中。\\n2. 学习投资时钟和⼤类资产投资⼿册 02:17\\n\\uf06c\\n投资时钟:\\n ⼀种投资框架，帮助学员理解经济周期与资产配置的关系，快速⼊⻔投资\\n框架。\\n\\uf06c\\n⼤类资产投资⼿册:\\n 涵盖房地产、股市、基⾦、商品、汇率、⻩⾦等投资⽅法，为学\\n员提供全⾯的投资指导。\\n3. 学习投资⼤师的经典思想和案例 02:26\\n\\uf06c\\n投资⼤师思想:\\n 涵盖价值派、成⻓派、周期派等实战精髓，帮助学员汲取投资⼤师的\\n智慧和经验。\\n\\uf06c\\n经典案例:\\n 通过具体案例，让学员更好地理解投资⼤师的思想和⽅法，提升实战能\\n⼒。\\n4. 拆解新能源⼈⼯智能半导体等热⻔产业链 02:36\\n\\uf06c\\n新能源、⼈⼯智能、半导体: 当前热⻔赛道，具有巨⼤的投资机会。\\n\\uf06c\\n产业链拆解:\\n 深⼊分析这些热⻔产业链的构成、发展趋势和投资潜⼒，帮助学员抓住\\n新机遇。\\n二、知识小结\\n知识点\\n核⼼内容\\n考试重点/易混淆\\n点\\n难度系数\\n课程背景\\n任泽平经济学者推\\n出的投资配置课\\n-\\n🌟\\n课程⽬的\\n快速掌握分析经济\\n形势和投资配置的\\n⽅法\\n-\\n🌟\\n六⼤经济指标\\n快速⼊⻔经济形势\\n分析\\n经济指标的解读与\\n应⽤\\n🌟🌟\\n投资时钟与⼤类\\n资产\\n学习投资时钟和⼤\\n类资产投资⼿册\\n投资时钟的理解与\\n应⽤，⼤类资产的\\n选择策略\\n🌟🌟🌟\\n投资⼤师思想\\n价值派、成⻓派、\\n周期派的实战精髓\\n各派别的核⼼理念\\n与实战应⽤\\n🌟🌟🌟\\n热⻔产业链拆解\\n新能源、⼈⼯智\\n能、半导体等产业\\n链分析\\n产业链的逻辑与投\\n资机会\\n🌟🌟🌟🌟'),\n",
      " Document(metadata={'producer': 'macOS Version 15.6.1 (Build 24G90) Quartz PDFContext, AppendMode 1.1', 'creator': '', 'creationdate': \"D:20250414135535Z00'00'\", 'source': 'assets/macro_economy/01中国经济的三驾马车.pdf', 'file_path': 'assets/macro_economy/01中国经济的三驾马车.pdf', 'total_pages': 7, 'format': 'PDF 1.4', 'title': '', 'author': '', 'subject': '', 'keywords': '', 'moddate': \"D:20250908150709Z00'00'\", 'trapped': '', 'modDate': \"D:20250908150709Z00'00'\", 'creationDate': \"D:20250414135535Z00'00'\", 'page': 0, 'start_index': 872}, page_content='|二、知识小结|Col2|Col3|Col4|\\n|---|---|---|---|\\n|知识点|核⼼内容|考试重点/易混淆<br>点|难度系数|\\n|**课程背景**|任泽平经济学者推<br>出的投资配置课|-|🌟|\\n|**课程⽬的**|快速掌握分析经济<br>形势和投资配置的<br>⽅法|-|🌟|\\n|**六⼤经济指标**|快速⼊⻔经济形势<br>分析|经济指标的解读与<br>应⽤|🌟🌟|\\n|**投资时钟与⼤类**<br>**资产**|学习投资时钟和⼤<br>类资产投资⼿册|投资时钟的理解与<br>应⽤，⼤类资产的<br>选择策略|🌟🌟🌟|\\n|**投资⼤师思想**|价值派、成⻓派、<br>周期派的实战精髓|各派别的核⼼理念<br>与实战应⽤|🌟🌟🌟|\\n|**热⻔产业链拆解**|新能源、⼈⼯智<br>能、半导体等产业<br>链分析|产业链的逻辑与投<br>资机会|🌟🌟🌟🌟|'),\n",
      " Document(metadata={'producer': 'macOS Version 15.6.1 (Build 24G90) Quartz PDFContext, AppendMode 1.1', 'creator': '', 'creationdate': \"D:20250414135535Z00'00'\", 'source': 'assets/macro_economy/01中国经济的三驾马车.pdf', 'file_path': 'assets/macro_economy/01中国经济的三驾马车.pdf', 'total_pages': 7, 'format': 'PDF 1.4', 'title': '', 'author': '', 'subject': '', 'keywords': '', 'moddate': \"D:20250908150709Z00'00'\", 'trapped': '', 'modDate': \"D:20250908150709Z00'00'\", 'creationDate': \"D:20250414135535Z00'00'\", 'page': 1, 'start_index': 0}, page_content='课程特⾊\\n配上书课件和直播\\n课程，知⾏合⼀\\n-\\n🌟\\n服务⽀持\\n专属课程助理，解\\n答问题与想法\\n-\\n🌟\\n课程愿景\\n帮助快速提升认\\n知，构建框架，实\\n现财富增⻓\\n-\\n🌟\\n一、中国经济的三驾马车 00:21\\n1. 三驾⻢⻋概念 00:54\\n\\n\\n\\n\\n\\n\\n\\n\\n|课程特⾊|配上书课件和直播<br>课程，知⾏合⼀|-|🌟|\\n|---|---|---|---|\\n|**服务⽀持**|专属课程助理，解<br>答问题与想法|-|🌟|\\n|**课程愿景**|帮助快速提升认<br>知，构建框架，实<br>现财富增⻓|-|🌟|'),\n",
      " Document(metadata={'producer': 'macOS Version 15.6.1 (Build 24G90) Quartz PDFContext, AppendMode 1.1', 'creator': '', 'creationdate': \"D:20250414135535Z00'00'\", 'source': 'assets/macro_economy/01中国经济的三驾马车.pdf', 'file_path': 'assets/macro_economy/01中国经济的三驾马车.pdf', 'total_pages': 7, 'format': 'PDF 1.4', 'title': '', 'author': '', 'subject': '', 'keywords': '', 'moddate': \"D:20250908150709Z00'00'\", 'trapped': '', 'modDate': \"D:20250908150709Z00'00'\", 'creationDate': \"D:20250414135535Z00'00'\", 'page': 2, 'start_index': 0}, page_content='\\uf06c\\n\\uf06c\\n来源: 三驾⻢⻋概念来源于GDP的核算⽅法之⼀⽀出法。\\n\\uf06c\\n公式: GDP = 最终消费⽀出 + 资本形成总额 + 货物和服务净出⼝。\\n\\uf06c\\n涵盖需求: 反映了居⺠、企业、政府和海外的各种需求。\\n\\uf06c\\n三驾⻢⻋组成:\\no\\n最终消费⽀出: 代表消费。\\no\\n资本形成总额: 代表投资，反映内需。\\no\\n货物和服务净出⼝: 代表外需。\\n2. 相关指标 01:48\\n\\uf06c\\n⽉度指标:\\no\\n社会消费品零售总额\\no\\n固定资产投资完成额\\no\\n出⼝同⽐或贸易差额\\n\\uf06c\\n季度指标:\\no\\n最终消费⽀出\\no\\n资本形成总额\\no\\n货物与服务净出⼝\\n3. 指标的⼝径 02:13'),\n",
      " Document(metadata={'producer': 'macOS Version 15.6.1 (Build 24G90) Quartz PDFContext, AppendMode 1.1', 'creator': '', 'creationdate': \"D:20250414135535Z00'00'\", 'source': 'assets/macro_economy/01中国经济的三驾马车.pdf', 'file_path': 'assets/macro_economy/01中国经济的三驾马车.pdf', 'total_pages': 7, 'format': 'PDF 1.4', 'title': '', 'author': '', 'subject': '', 'keywords': '', 'moddate': \"D:20250908150709Z00'00'\", 'trapped': '', 'modDate': \"D:20250908150709Z00'00'\", 'creationDate': \"D:20250414135535Z00'00'\", 'page': 3, 'start_index': 0}, page_content='\\uf06c\\n\\uf06c\\n⼝径差异: ⽉度和季度指标在统计⼝径上存在差异。\\n\\uf06c\\n具体差异:\\no\\n最终消费⽀出 vs 社会消费品零售总额:\\n\\uf06e\\n最终消费⽀出包含服务性⽀出、虚拟消费⽀出等，不计⼊社会消费品零售总\\n额。\\n\\uf06e\\n社会消费品零售总额包含⼀些在GDP最终核算中记为投资的部分，如居⺠购\\n房时购买的建筑材料等。\\no\\n资本形成总额 vs 固定资本投资完成额:\\n\\uf06e\\n资本形成总额包含存货增加额、商品房销售增值、知识产权产品等，不计⼊\\n固定资本投资完成额。\\n\\uf06e\\n固定资本投资完成额包含⼟地购置费、旧建筑物购置费、旧设备购置费等，\\n不计⼊资本形成总额。\\no\\n货物与服务净出⼝ vs 贸易差额:\\n\\uf06e\\n货物与服务净出⼝包含服务贸易等，不计⼊贸易差额。\\n\\uf06e\\n贸易差额包含进⼝货物的国际运费、保险费等，不计⼊货物与服务净出⼝。\\n4. 三驾⻢⻋数据解读 02:58\\n\\uf06c'),\n",
      " Document(metadata={'producer': 'macOS Version 15.6.1 (Build 24G90) Quartz PDFContext, AppendMode 1.1', 'creator': '', 'creationdate': \"D:20250414135535Z00'00'\", 'source': 'assets/macro_economy/01中国经济的三驾马车.pdf', 'file_path': 'assets/macro_economy/01中国经济的三驾马车.pdf', 'total_pages': 7, 'format': 'PDF 1.4', 'title': '', 'author': '', 'subject': '', 'keywords': '', 'moddate': \"D:20250908150709Z00'00'\", 'trapped': '', 'modDate': \"D:20250908150709Z00'00'\", 'creationDate': \"D:20250414135535Z00'00'\", 'page': 4, 'start_index': 0}, page_content='\\uf06c\\n解读⽅法:\\no\\n⼀看占⽐: 反映经济结构。\\n\\uf06e\\n消费占⽐越⾼: 经济越成熟和稳定。\\n\\uf06e\\n投资占⽐越⾼: 经济越活跃和创新。\\n\\uf06e\\n进出⼝占⽐越⾼: 国际贸易和竞争⼒越强。\\no\\n⼆看贡献率: 体现经济增⻓的⼒量。\\n\\uf06c\\n历史数据:\\no\\n2000年以前: 消费占⽐在多数年份⾼于60%。\\no\\n2001-2008年: 投资和进出⼝占⽐提升。\\no\\n2009年以后: 消费占⽐再度提⾼。\\no\\n2022年: 消费、投资和进出⼝占⽐分别为53%、44%和3%，反映消费和投资双驱动\\n型经济结构。\\n5. 中国经济的过去现在与未来 04:39\\n\\uf06c\\n\\uf06c\\n过去:\\no\\n1993-2008年: GDP平均增速约10%，受改⾰红利、全球化红利和⼈⼝红利驱动。\\n\\uf06c\\n现在:\\no\\n2012年⾄今:  进⼊增速换挡和结构调整期，GDP平均增速约6%，消费占⽐提升，\\n投资和出⼝占⽐下降。\\n\\uf06c\\n未来:\\no\\n经济结构变化: 从投资主导驱动往消费主导驱动转变。\\n6. 对三驾⻢⻋的预测 07:59'),\n",
      " Document(metadata={'producer': 'macOS Version 15.6.1 (Build 24G90) Quartz PDFContext, AppendMode 1.1', 'creator': '', 'creationdate': \"D:20250414135535Z00'00'\", 'source': 'assets/macro_economy/01中国经济的三驾马车.pdf', 'file_path': 'assets/macro_economy/01中国经济的三驾马车.pdf', 'total_pages': 7, 'format': 'PDF 1.4', 'title': '', 'author': '', 'subject': '', 'keywords': '', 'moddate': \"D:20250908150709Z00'00'\", 'trapped': '', 'modDate': \"D:20250908150709Z00'00'\", 'creationDate': \"D:20250414135535Z00'00'\", 'page': 5, 'start_index': 0}, page_content='\\uf06c\\n\\uf06c\\n未来趋势:\\no\\n住⾏消费: 向服务型消费升级。\\no\\n贸易盈余: 对经济增⻓的贡献将下降。\\no\\n投资: 对经济增⻓的贡献下降。\\no\\n消费: 对经济增⻓的贡献上升。\\no\\n服务业: 对经济增⻓的贡献上升。\\no\\n经济增速: 中国经济从⾼速转向中速增⻓。\\n7. 三驾⻢⻋与资本市场 08:31\\n\\uf06c\\n投资贡献率与资本市场:\\no\\n投资贡献率上升: 宏观政策较为积极和宽松，资本市场通常带来可观收益。\\no\\n投资率回落: 政策处于较为中性的阶段，需选择合适的⾏业与板块。\\n8. 内容总结 09:21\\n\\uf06c\\n\\uf06c\\n三驾⻢⻋: 消费、投资、出⼝（或净出⼝）是拉动经济增⻓的重要⼒量。\\n\\uf06c\\n经济结构:\\n 消费占⽐越⾼，经济越成熟稳定；投资占⽐越⾼，经济越活跃创新；进出\\n⼝占⽐越⾼，国际贸易和竞争⼒越强。\\n\\uf06c\\n未来趋势: 中国消费占⽐有望持续提升，经济结构发⽣变化，增速换挡。'),\n",
      " Document(metadata={'producer': 'macOS Version 15.6.1 (Build 24G90) Quartz PDFContext, AppendMode 1.1', 'creator': '', 'creationdate': \"D:20250414135535Z00'00'\", 'source': 'assets/macro_economy/01中国经济的三驾马车.pdf', 'file_path': 'assets/macro_economy/01中国经济的三驾马车.pdf', 'total_pages': 7, 'format': 'PDF 1.4', 'title': '', 'author': '', 'subject': '', 'keywords': '', 'moddate': \"D:20250908150709Z00'00'\", 'trapped': '', 'modDate': \"D:20250908150709Z00'00'\", 'creationDate': \"D:20250414135535Z00'00'\", 'page': 6, 'start_index': 0}, page_content='\\uf06c\\n资本市场:\\n 投资贡献率显著上升时，宏观政策宽松，资本市场表现较好；投资率回落\\n时，需选择合适⾏业与板块。\\n二、知识小结\\n知识点\\n核⼼内容\\n考试重点/易混淆点\\n难度系数\\n三驾⻢⻋的概念\\n三驾⻢⻋指消费、投\\n资、进出⼝，是GDP\\n核算的⽀出法，反映\\n构成GDP的需求\\n易混淆点：三驾⻢\\n⻋与GDP核算的其\\n他⽅法区别\\n🌟\\n三驾⻢⻋的指标\\n⽉度：社会消费品流\\n动总额、固定资产投\\n资完成额、出⼝同⽐\\n或贸易差额；季度：\\n最终消费⽀出、资本\\n形成总额、货物与服\\n务进出⼝\\n考试重点：⽉度与\\n季度指标的差异及\\n应⽤\\n🌟🌟\\n三驾⻢⻋的解读⽅\\n法\\n⼀看占⽐（反映经济\\n结构），⼆看贡献率\\n（体现经济增⻓⼒\\n量）\\n易混淆点：占⽐与\\n贡献率的区别及意\\n义\\n🌟🌟\\n中国经济历史分析\\n1993-2008年⾼速增\\n⻓；2012年后增速换\\n挡，结构调整\\n考试重点：不同阶\\n段的经济驱动⼒变\\n化\\n🌟🌟🌟\\n2023年经济形势\\n消费主导，进出⼝拖\\n累；服务消费⾼增\\n⻓，商品消费待恢\\n复；⾼技术产业投资\\n好，房地产投资低\\n迷；出⼝结构改善，\\n但⾯临压⼒\\n易混淆点：各经济\\n指标的具体表现及\\n原因\\n🌟🌟🌟🌟\\n未来预测\\n消费和服务业贡献上\\n升；贸易盈余和投资\\n贡献下降；经济增速\\n换挡\\n考试重点：未来经\\n济结构的预测及依\\n据\\n🌟🌟🌟\\n三驾⻢⻋在资本市\\n场应⽤\\n投资贡献率上升时，\\n政策积极宽松，资本\\n市场收益可观；投资\\n率回落时，政策中\\n性，需选合适⾏业与\\n板块\\n易混淆点：资本市\\n场与政策宽松度的\\n关系\\n🌟🌟🌟'),\n",
      " Document(metadata={'producer': 'macOS Version 15.6.1 (Build 24G90) Quartz PDFContext, AppendMode 1.1', 'creator': '', 'creationdate': \"D:20250414135535Z00'00'\", 'source': 'assets/macro_economy/01中国经济的三驾马车.pdf', 'file_path': 'assets/macro_economy/01中国经济的三驾马车.pdf', 'total_pages': 7, 'format': 'PDF 1.4', 'title': '', 'author': '', 'subject': '', 'keywords': '', 'moddate': \"D:20250908150709Z00'00'\", 'trapped': '', 'modDate': \"D:20250908150709Z00'00'\", 'creationDate': \"D:20250414135535Z00'00'\", 'page': 6, 'start_index': 650}, page_content='|二、知识小结|Col2|Col3|Col4|\\n|---|---|---|---|\\n|知识点|核⼼内容|考试重点/易混淆点|难度系数|\\n|**三驾⻢⻋的概念**|三驾⻢⻋指消费、投<br>资、进出⼝，是GDP<br>核算的⽀出法，反映<br>构成GDP的需求|易混淆点：三驾⻢<br>⻋与GDP核算的其<br>他⽅法区别|🌟|\\n|**三驾⻢⻋的指标**|⽉度：社会消费品流<br>动总额、固定资产投<br>资完成额、出⼝同⽐<br>或贸易差额；季度：<br>最终消费⽀出、资本<br>形成总额、货物与服<br>务进出⼝|考试重点：⽉度与<br>季度指标的差异及<br>应⽤|🌟🌟|\\n|**三驾⻢⻋的解读⽅**<br>**法**|⼀看占⽐（反映经济<br>结构），⼆看贡献率<br>（体现经济增⻓⼒<br>量）|易混淆点：占⽐与<br>贡献率的区别及意<br>义|🌟🌟|\\n|**中国经济历史分析**|1993-2008年⾼速增<br>⻓；2012年后增速换<br>挡，结构调整|考试重点：不同阶<br>段的经济驱动⼒变<br>化|🌟🌟🌟|\\n|**2023年经济形势**|消费主导，进出⼝拖<br>累；服务消费⾼增<br>⻓，商品消费待恢<br>复；⾼技术产业投资<br>好，房地产投资低<br>迷；出⼝结构改善，<br>但⾯临压⼒|易混淆点：各经济<br>指标的具体表现及<br>原因|🌟🌟🌟🌟|\\n|**未来预测**|消费和服务业贡献上<br>升；贸易盈余和投资<br>贡献下降；经济增速<br>换挡|考试重点：未来经<br>济结构的预测及依<br>据|🌟🌟🌟|\\n|**三驾⻢⻋在资本市**<br>**场应⽤**|投资贡献率上升时，<br>政策积极宽松，资本<br>市场收益可观；投资<br>率回落时，政策中<br>性，需选合适⾏业与<br>板块|易混淆点：资本市<br>场与政策宽松度的<br>关系|🌟🌟🌟|')]\n"
     ]
    }
   ],
   "source": [
    "from langchain_text_splitters import RecursiveCharacterTextSplitter\n",
    "\n",
    "text_splitter = RecursiveCharacterTextSplitter(\n",
    "    chunk_size=1000,\n",
    "    chunk_overlap=200,\n",
    "    add_start_index=True,\n",
    ")\n",
    "all_splits = text_splitter.split_documents(docs)\n",
    "\n",
    "pprint.pprint(all_splits)"
   ]
  },
  {
   "cell_type": "code",
   "execution_count": 4,
   "id": "c9ab2d3f",
   "metadata": {},
   "outputs": [
    {
     "name": "stdout",
     "output_type": "stream",
     "text": [
      "1024\n"
     ]
    }
   ],
   "source": [
    "# from langchain_huggingface.embeddings import HuggingFaceEndpointEmbeddings\n",
    "\n",
    "# embeddings = HuggingFaceEndpointEmbeddings()\n",
    "\n",
    "# embedding_1 = embeddings.embed_query(all_splits[0].page_content)\n",
    "# embedding_2 = embeddings.embed_query(all_splits[1].page_content)\n",
    "\n",
    "# assert len(embedding_1) == len(embedding_2)\n",
    "# print(len(embedding_1))\n",
    "\n",
    "from langchain_huggingface.embeddings import HuggingFaceEmbeddings\n",
    "\n",
    "embeddings = HuggingFaceEmbeddings(\n",
    "    model_name=\"Qwen/Qwen3-Embedding-0.6B\",\n",
    ")\n",
    "\n",
    "embedding_1 = embeddings.embed_query(all_splits[0].page_content)\n",
    "embedding_2 = embeddings.embed_query(all_splits[1].page_content)\n",
    "\n",
    "assert len(embedding_1) == len(embedding_2)\n",
    "print(len(embedding_1))"
   ]
  },
  {
   "cell_type": "code",
   "execution_count": 5,
   "id": "ca8595e5",
   "metadata": {},
   "outputs": [
    {
     "data": {
      "text/plain": [
       "['1f663ead-c8fa-42b9-92a5-ffd3d9227832',\n",
       " 'b9aae6ac-4da8-4783-827e-ecc2397c790b',\n",
       " '14d4db70-08b0-4dad-9710-70755b3d62e3',\n",
       " '0ecea0b6-c72e-49de-94fe-ac7f3845516d',\n",
       " 'aa9e4d46-96e1-4d94-989a-1050a86da8f8',\n",
       " 'c3d517b5-1086-4711-baff-b41516492cf0',\n",
       " 'd0d7b04c-5008-4847-a917-9200b6caa13d',\n",
       " '84073e58-9d3e-4f2b-9713-43e9000df1c8',\n",
       " '4fa090fd-8f9f-4504-9a6b-f317e12c0610']"
      ]
     },
     "execution_count": 5,
     "metadata": {},
     "output_type": "execute_result"
    }
   ],
   "source": [
    "from langchain_chroma import Chroma\n",
    "\n",
    "vector_store = Chroma(\n",
    "    collection_name=\"macro_economy_collection\",\n",
    "    persist_directory=\"./chroma_chain_db\",\n",
    ")\n",
    "vector_store.delete_collection()\n",
    "\n",
    "vector_store = Chroma(\n",
    "    collection_name=\"macro_economy_collection\",\n",
    "    embedding_function=embeddings,\n",
    "    persist_directory=\"./chroma_chain_db\",\n",
    ")\n",
    "\n",
    "vector_store.add_documents(documents=all_splits)"
   ]
  },
  {
   "cell_type": "code",
   "execution_count": 6,
   "id": "6c2d02c3",
   "metadata": {},
   "outputs": [
    {
     "name": "stdout",
     "output_type": "stream",
     "text": [
      "Document(id='14d4db70-08b0-4dad-9710-70755b3d62e3', metadata={'author': '', 'creationDate': \"D:20250414135535Z00'00'\", 'file_path': 'assets/macro_economy/01中国经济的三驾马车.pdf', 'subject': '', 'creator': '', 'keywords': '', 'total_pages': 7, 'start_index': 0, 'trapped': '', 'format': 'PDF 1.4', 'creationdate': \"D:20250414135535Z00'00'\", 'moddate': \"D:20250908150709Z00'00'\", 'page': 1, 'source': 'assets/macro_economy/01中国经济的三驾马车.pdf', 'modDate': \"D:20250908150709Z00'00'\", 'title': '', 'producer': 'macOS Version 15.6.1 (Build 24G90) Quartz PDFContext, AppendMode 1.1'}, page_content='课程特⾊\\n配上书课件和直播\\n课程，知⾏合⼀\\n-\\n🌟\\n服务⽀持\\n专属课程助理，解\\n答问题与想法\\n-\\n🌟\\n课程愿景\\n帮助快速提升认\\n知，构建框架，实\\n现财富增⻓\\n-\\n🌟\\n一、中国经济的三驾马车 00:21\\n1. 三驾⻢⻋概念 00:54\\n\\n\\n\\n\\n\\n\\n\\n\\n|课程特⾊|配上书课件和直播<br>课程，知⾏合⼀|-|🌟|\\n|---|---|---|---|\\n|**服务⽀持**|专属课程助理，解<br>答问题与想法|-|🌟|\\n|**课程愿景**|帮助快速提升认<br>知，构建框架，实<br>现财富增⻓|-|🌟|')\n"
     ]
    }
   ],
   "source": [
    "results_search = await vector_store.asimilarity_search(\n",
    "    \"中国经济的三驾马车是什么？\",\n",
    ")\n",
    "\n",
    "pprint.pprint(results_search[0])"
   ]
  },
  {
   "cell_type": "code",
   "execution_count": 7,
   "id": "c63c282a",
   "metadata": {},
   "outputs": [
    {
     "name": "stdout",
     "output_type": "stream",
     "text": [
      "Score: 0.3833385705947876\n",
      "Doc: page_content='课程特⾊\n",
      "配上书课件和直播\n",
      "课程，知⾏合⼀\n",
      "-\n",
      "🌟\n",
      "服务⽀持\n",
      "专属课程助理，解\n",
      "答问题与想法\n",
      "-\n",
      "🌟\n",
      "课程愿景\n",
      "帮助快速提升认\n",
      "知，构建框架，实\n",
      "现财富增⻓\n",
      "-\n",
      "🌟\n",
      "一、中国经济的三驾马车 00:21\n",
      "1. 三驾⻢⻋概念 00:54\n",
      "\n",
      "\n",
      "\n",
      "\n",
      "\n",
      "\n",
      "\n",
      "\n",
      "|课程特⾊|配上书课件和直播<br>课程，知⾏合⼀|-|🌟|\n",
      "|---|---|---|---|\n",
      "|**服务⽀持**|专属课程助理，解<br>答问题与想法|-|🌟|\n",
      "|**课程愿景**|帮助快速提升认<br>知，构建框架，实<br>现财富增⻓|-|🌟|' metadata={'title': '', 'source': 'assets/macro_economy/01中国经济的三驾马车.pdf', 'subject': '', 'file_path': 'assets/macro_economy/01中国经济的三驾马车.pdf', 'keywords': '', 'page': 1, 'total_pages': 7, 'trapped': '', 'creationDate': \"D:20250414135535Z00'00'\", 'creator': '', 'start_index': 0, 'moddate': \"D:20250908150709Z00'00'\", 'format': 'PDF 1.4', 'creationdate': \"D:20250414135535Z00'00'\", 'author': '', 'modDate': \"D:20250908150709Z00'00'\", 'producer': 'macOS Version 15.6.1 (Build 24G90) Quartz PDFContext, AppendMode 1.1'}\n"
     ]
    }
   ],
   "source": [
    "results_search_with_score = vector_store.similarity_search_with_score(\n",
    "    \"中国经济的三驾马车是什么？\",\n",
    ")\n",
    "\n",
    "doc, score = results_search_with_score[0]\n",
    "print(f\"Score: {score}\\nDoc: {doc}\")"
   ]
  },
  {
   "cell_type": "code",
   "execution_count": 8,
   "id": "f4320703",
   "metadata": {},
   "outputs": [
    {
     "name": "stdout",
     "output_type": "stream",
     "text": [
      "[Document(id='14d4db70-08b0-4dad-9710-70755b3d62e3', metadata={'keywords': '', 'creationdate': \"D:20250414135535Z00'00'\", 'creationDate': \"D:20250414135535Z00'00'\", 'modDate': \"D:20250908150709Z00'00'\", 'creator': '', 'title': '', 'file_path': 'assets/macro_economy/01中国经济的三驾马车.pdf', 'author': '', 'total_pages': 7, 'format': 'PDF 1.4', 'producer': 'macOS Version 15.6.1 (Build 24G90) Quartz PDFContext, AppendMode 1.1', 'subject': '', 'page': 1, 'source': 'assets/macro_economy/01中国经济的三驾马车.pdf', 'moddate': \"D:20250908150709Z00'00'\", 'trapped': '', 'start_index': 0}, page_content='课程特⾊\\n配上书课件和直播\\n课程，知⾏合⼀\\n-\\n🌟\\n服务⽀持\\n专属课程助理，解\\n答问题与想法\\n-\\n🌟\\n课程愿景\\n帮助快速提升认\\n知，构建框架，实\\n现财富增⻓\\n-\\n🌟\\n一、中国经济的三驾马车 00:21\\n1. 三驾⻢⻋概念 00:54\\n\\n\\n\\n\\n\\n\\n\\n\\n|课程特⾊|配上书课件和直播<br>课程，知⾏合⼀|-|🌟|\\n|---|---|---|---|\\n|**服务⽀持**|专属课程助理，解<br>答问题与想法|-|🌟|\\n|**课程愿景**|帮助快速提升认<br>知，构建框架，实<br>现财富增⻓|-|🌟|'), Document(id='4fa090fd-8f9f-4504-9a6b-f317e12c0610', metadata={'total_pages': 7, 'title': '', 'keywords': '', 'subject': '', 'trapped': '', 'producer': 'macOS Version 15.6.1 (Build 24G90) Quartz PDFContext, AppendMode 1.1', 'creationDate': \"D:20250414135535Z00'00'\", 'format': 'PDF 1.4', 'creationdate': \"D:20250414135535Z00'00'\", 'file_path': 'assets/macro_economy/01中国经济的三驾马车.pdf', 'author': '', 'page': 6, 'moddate': \"D:20250908150709Z00'00'\", 'creator': '', 'source': 'assets/macro_economy/01中国经济的三驾马车.pdf', 'start_index': 650, 'modDate': \"D:20250908150709Z00'00'\"}, page_content='|二、知识小结|Col2|Col3|Col4|\\n|---|---|---|---|\\n|知识点|核⼼内容|考试重点/易混淆点|难度系数|\\n|**三驾⻢⻋的概念**|三驾⻢⻋指消费、投<br>资、进出⼝，是GDP<br>核算的⽀出法，反映<br>构成GDP的需求|易混淆点：三驾⻢<br>⻋与GDP核算的其<br>他⽅法区别|🌟|\\n|**三驾⻢⻋的指标**|⽉度：社会消费品流<br>动总额、固定资产投<br>资完成额、出⼝同⽐<br>或贸易差额；季度：<br>最终消费⽀出、资本<br>形成总额、货物与服<br>务进出⼝|考试重点：⽉度与<br>季度指标的差异及<br>应⽤|🌟🌟|\\n|**三驾⻢⻋的解读⽅**<br>**法**|⼀看占⽐（反映经济<br>结构），⼆看贡献率<br>（体现经济增⻓⼒<br>量）|易混淆点：占⽐与<br>贡献率的区别及意<br>义|🌟🌟|\\n|**中国经济历史分析**|1993-2008年⾼速增<br>⻓；2012年后增速换<br>挡，结构调整|考试重点：不同阶<br>段的经济驱动⼒变<br>化|🌟🌟🌟|\\n|**2023年经济形势**|消费主导，进出⼝拖<br>累；服务消费⾼增<br>⻓，商品消费待恢<br>复；⾼技术产业投资<br>好，房地产投资低<br>迷；出⼝结构改善，<br>但⾯临压⼒|易混淆点：各经济<br>指标的具体表现及<br>原因|🌟🌟🌟🌟|\\n|**未来预测**|消费和服务业贡献上<br>升；贸易盈余和投资<br>贡献下降；经济增速<br>换挡|考试重点：未来经<br>济结构的预测及依<br>据|🌟🌟🌟|\\n|**三驾⻢⻋在资本市**<br>**场应⽤**|投资贡献率上升时，<br>政策积极宽松，资本<br>市场收益可观；投资<br>率回落时，政策中<br>性，需选合适⾏业与<br>板块|易混淆点：资本市<br>场与政策宽松度的<br>关系|🌟🌟🌟|'), Document(id='d0d7b04c-5008-4847-a917-9200b6caa13d', metadata={'producer': 'macOS Version 15.6.1 (Build 24G90) Quartz PDFContext, AppendMode 1.1', 'source': 'assets/macro_economy/01中国经济的三驾马车.pdf', 'title': '', 'creationdate': \"D:20250414135535Z00'00'\", 'file_path': 'assets/macro_economy/01中国经济的三驾马车.pdf', 'subject': '', 'modDate': \"D:20250908150709Z00'00'\", 'moddate': \"D:20250908150709Z00'00'\", 'keywords': '', 'trapped': '', 'creator': '', 'start_index': 0, 'author': '', 'page': 5, 'creationDate': \"D:20250414135535Z00'00'\", 'total_pages': 7, 'format': 'PDF 1.4'}, page_content='\\uf06c\\n\\uf06c\\n未来趋势:\\no\\n住⾏消费: 向服务型消费升级。\\no\\n贸易盈余: 对经济增⻓的贡献将下降。\\no\\n投资: 对经济增⻓的贡献下降。\\no\\n消费: 对经济增⻓的贡献上升。\\no\\n服务业: 对经济增⻓的贡献上升。\\no\\n经济增速: 中国经济从⾼速转向中速增⻓。\\n7. 三驾⻢⻋与资本市场 08:31\\n\\uf06c\\n投资贡献率与资本市场:\\no\\n投资贡献率上升: 宏观政策较为积极和宽松，资本市场通常带来可观收益。\\no\\n投资率回落: 政策处于较为中性的阶段，需选择合适的⾏业与板块。\\n8. 内容总结 09:21\\n\\uf06c\\n\\uf06c\\n三驾⻢⻋: 消费、投资、出⼝（或净出⼝）是拉动经济增⻓的重要⼒量。\\n\\uf06c\\n经济结构:\\n 消费占⽐越⾼，经济越成熟稳定；投资占⽐越⾼，经济越活跃创新；进出\\n⼝占⽐越⾼，国际贸易和竞争⼒越强。\\n\\uf06c\\n未来趋势: 中国消费占⽐有望持续提升，经济结构发⽣变化，增速换挡。'), Document(id='84073e58-9d3e-4f2b-9713-43e9000df1c8', metadata={'modDate': \"D:20250908150709Z00'00'\", 'source': 'assets/macro_economy/01中国经济的三驾马车.pdf', 'creationdate': \"D:20250414135535Z00'00'\", 'author': '', 'trapped': '', 'moddate': \"D:20250908150709Z00'00'\", 'subject': '', 'creator': '', 'keywords': '', 'producer': 'macOS Version 15.6.1 (Build 24G90) Quartz PDFContext, AppendMode 1.1', 'file_path': 'assets/macro_economy/01中国经济的三驾马车.pdf', 'total_pages': 7, 'page': 6, 'title': '', 'format': 'PDF 1.4', 'start_index': 0, 'creationDate': \"D:20250414135535Z00'00'\"}, page_content='\\uf06c\\n资本市场:\\n 投资贡献率显著上升时，宏观政策宽松，资本市场表现较好；投资率回落\\n时，需选择合适⾏业与板块。\\n二、知识小结\\n知识点\\n核⼼内容\\n考试重点/易混淆点\\n难度系数\\n三驾⻢⻋的概念\\n三驾⻢⻋指消费、投\\n资、进出⼝，是GDP\\n核算的⽀出法，反映\\n构成GDP的需求\\n易混淆点：三驾⻢\\n⻋与GDP核算的其\\n他⽅法区别\\n🌟\\n三驾⻢⻋的指标\\n⽉度：社会消费品流\\n动总额、固定资产投\\n资完成额、出⼝同⽐\\n或贸易差额；季度：\\n最终消费⽀出、资本\\n形成总额、货物与服\\n务进出⼝\\n考试重点：⽉度与\\n季度指标的差异及\\n应⽤\\n🌟🌟\\n三驾⻢⻋的解读⽅\\n法\\n⼀看占⽐（反映经济\\n结构），⼆看贡献率\\n（体现经济增⻓⼒\\n量）\\n易混淆点：占⽐与\\n贡献率的区别及意\\n义\\n🌟🌟\\n中国经济历史分析\\n1993-2008年⾼速增\\n⻓；2012年后增速换\\n挡，结构调整\\n考试重点：不同阶\\n段的经济驱动⼒变\\n化\\n🌟🌟🌟\\n2023年经济形势\\n消费主导，进出⼝拖\\n累；服务消费⾼增\\n⻓，商品消费待恢\\n复；⾼技术产业投资\\n好，房地产投资低\\n迷；出⼝结构改善，\\n但⾯临压⼒\\n易混淆点：各经济\\n指标的具体表现及\\n原因\\n🌟🌟🌟🌟\\n未来预测\\n消费和服务业贡献上\\n升；贸易盈余和投资\\n贡献下降；经济增速\\n换挡\\n考试重点：未来经\\n济结构的预测及依\\n据\\n🌟🌟🌟\\n三驾⻢⻋在资本市\\n场应⽤\\n投资贡献率上升时，\\n政策积极宽松，资本\\n市场收益可观；投资\\n率回落时，政策中\\n性，需选合适⾏业与\\n板块\\n易混淆点：资本市\\n场与政策宽松度的\\n关系\\n🌟🌟🌟')]\n"
     ]
    }
   ],
   "source": [
    "embedding_query = embeddings.embed_query(\n",
    "    \"中国经济的三驾马车是什么？\",\n",
    ")\n",
    "\n",
    "results_search_by_vector = vector_store.similarity_search_by_vector(embedding_query)\n",
    "print(results_search_by_vector)"
   ]
  },
  {
   "cell_type": "code",
   "execution_count": 12,
   "id": "9fc4f981",
   "metadata": {},
   "outputs": [
    {
     "data": {
      "text/plain": [
       "[[Document(id='14d4db70-08b0-4dad-9710-70755b3d62e3', metadata={'title': '', 'producer': 'macOS Version 15.6.1 (Build 24G90) Quartz PDFContext, AppendMode 1.1', 'trapped': '', 'file_path': 'assets/macro_economy/01中国经济的三驾马车.pdf', 'total_pages': 7, 'source': 'assets/macro_economy/01中国经济的三驾马车.pdf', 'creationdate': \"D:20250414135535Z00'00'\", 'format': 'PDF 1.4', 'creator': '', 'start_index': 0, 'keywords': '', 'page': 1, 'creationDate': \"D:20250414135535Z00'00'\", 'subject': '', 'moddate': \"D:20250908150709Z00'00'\", 'modDate': \"D:20250908150709Z00'00'\", 'author': ''}, page_content='课程特⾊\\n配上书课件和直播\\n课程，知⾏合⼀\\n-\\n🌟\\n服务⽀持\\n专属课程助理，解\\n答问题与想法\\n-\\n🌟\\n课程愿景\\n帮助快速提升认\\n知，构建框架，实\\n现财富增⻓\\n-\\n🌟\\n一、中国经济的三驾马车 00:21\\n1. 三驾⻢⻋概念 00:54\\n\\n\\n\\n\\n\\n\\n\\n\\n|课程特⾊|配上书课件和直播<br>课程，知⾏合⼀|-|🌟|\\n|---|---|---|---|\\n|**服务⽀持**|专属课程助理，解<br>答问题与想法|-|🌟|\\n|**课程愿景**|帮助快速提升认<br>知，构建框架，实<br>现财富增⻓|-|🌟|'),\n",
       "  Document(id='4fa090fd-8f9f-4504-9a6b-f317e12c0610', metadata={'creator': '', 'modDate': \"D:20250908150709Z00'00'\", 'total_pages': 7, 'page': 6, 'start_index': 650, 'keywords': '', 'author': '', 'file_path': 'assets/macro_economy/01中国经济的三驾马车.pdf', 'creationDate': \"D:20250414135535Z00'00'\", 'title': '', 'trapped': '', 'producer': 'macOS Version 15.6.1 (Build 24G90) Quartz PDFContext, AppendMode 1.1', 'creationdate': \"D:20250414135535Z00'00'\", 'source': 'assets/macro_economy/01中国经济的三驾马车.pdf', 'subject': '', 'format': 'PDF 1.4', 'moddate': \"D:20250908150709Z00'00'\"}, page_content='|二、知识小结|Col2|Col3|Col4|\\n|---|---|---|---|\\n|知识点|核⼼内容|考试重点/易混淆点|难度系数|\\n|**三驾⻢⻋的概念**|三驾⻢⻋指消费、投<br>资、进出⼝，是GDP<br>核算的⽀出法，反映<br>构成GDP的需求|易混淆点：三驾⻢<br>⻋与GDP核算的其<br>他⽅法区别|🌟|\\n|**三驾⻢⻋的指标**|⽉度：社会消费品流<br>动总额、固定资产投<br>资完成额、出⼝同⽐<br>或贸易差额；季度：<br>最终消费⽀出、资本<br>形成总额、货物与服<br>务进出⼝|考试重点：⽉度与<br>季度指标的差异及<br>应⽤|🌟🌟|\\n|**三驾⻢⻋的解读⽅**<br>**法**|⼀看占⽐（反映经济<br>结构），⼆看贡献率<br>（体现经济增⻓⼒<br>量）|易混淆点：占⽐与<br>贡献率的区别及意<br>义|🌟🌟|\\n|**中国经济历史分析**|1993-2008年⾼速增<br>⻓；2012年后增速换<br>挡，结构调整|考试重点：不同阶<br>段的经济驱动⼒变<br>化|🌟🌟🌟|\\n|**2023年经济形势**|消费主导，进出⼝拖<br>累；服务消费⾼增<br>⻓，商品消费待恢<br>复；⾼技术产业投资<br>好，房地产投资低<br>迷；出⼝结构改善，<br>但⾯临压⼒|易混淆点：各经济<br>指标的具体表现及<br>原因|🌟🌟🌟🌟|\\n|**未来预测**|消费和服务业贡献上<br>升；贸易盈余和投资<br>贡献下降；经济增速<br>换挡|考试重点：未来经<br>济结构的预测及依<br>据|🌟🌟🌟|\\n|**三驾⻢⻋在资本市**<br>**场应⽤**|投资贡献率上升时，<br>政策积极宽松，资本<br>市场收益可观；投资<br>率回落时，政策中<br>性，需选合适⾏业与<br>板块|易混淆点：资本市<br>场与政策宽松度的<br>关系|🌟🌟🌟|'),\n",
       "  Document(id='d0d7b04c-5008-4847-a917-9200b6caa13d', metadata={'trapped': '', 'creator': '', 'modDate': \"D:20250908150709Z00'00'\", 'page': 5, 'creationDate': \"D:20250414135535Z00'00'\", 'producer': 'macOS Version 15.6.1 (Build 24G90) Quartz PDFContext, AppendMode 1.1', 'subject': '', 'moddate': \"D:20250908150709Z00'00'\", 'total_pages': 7, 'creationdate': \"D:20250414135535Z00'00'\", 'source': 'assets/macro_economy/01中国经济的三驾马车.pdf', 'title': '', 'format': 'PDF 1.4', 'author': '', 'start_index': 0, 'keywords': '', 'file_path': 'assets/macro_economy/01中国经济的三驾马车.pdf'}, page_content='\\uf06c\\n\\uf06c\\n未来趋势:\\no\\n住⾏消费: 向服务型消费升级。\\no\\n贸易盈余: 对经济增⻓的贡献将下降。\\no\\n投资: 对经济增⻓的贡献下降。\\no\\n消费: 对经济增⻓的贡献上升。\\no\\n服务业: 对经济增⻓的贡献上升。\\no\\n经济增速: 中国经济从⾼速转向中速增⻓。\\n7. 三驾⻢⻋与资本市场 08:31\\n\\uf06c\\n投资贡献率与资本市场:\\no\\n投资贡献率上升: 宏观政策较为积极和宽松，资本市场通常带来可观收益。\\no\\n投资率回落: 政策处于较为中性的阶段，需选择合适的⾏业与板块。\\n8. 内容总结 09:21\\n\\uf06c\\n\\uf06c\\n三驾⻢⻋: 消费、投资、出⼝（或净出⼝）是拉动经济增⻓的重要⼒量。\\n\\uf06c\\n经济结构:\\n 消费占⽐越⾼，经济越成熟稳定；投资占⽐越⾼，经济越活跃创新；进出\\n⼝占⽐越⾼，国际贸易和竞争⼒越强。\\n\\uf06c\\n未来趋势: 中国消费占⽐有望持续提升，经济结构发⽣变化，增速换挡。'),\n",
       "  Document(id='84073e58-9d3e-4f2b-9713-43e9000df1c8', metadata={'keywords': '', 'page': 6, 'subject': '', 'creationDate': \"D:20250414135535Z00'00'\", 'file_path': 'assets/macro_economy/01中国经济的三驾马车.pdf', 'start_index': 0, 'producer': 'macOS Version 15.6.1 (Build 24G90) Quartz PDFContext, AppendMode 1.1', 'total_pages': 7, 'creationdate': \"D:20250414135535Z00'00'\", 'title': '', 'creator': '', 'trapped': '', 'moddate': \"D:20250908150709Z00'00'\", 'source': 'assets/macro_economy/01中国经济的三驾马车.pdf', 'author': '', 'modDate': \"D:20250908150709Z00'00'\", 'format': 'PDF 1.4'}, page_content='\\uf06c\\n资本市场:\\n 投资贡献率显著上升时，宏观政策宽松，资本市场表现较好；投资率回落\\n时，需选择合适⾏业与板块。\\n二、知识小结\\n知识点\\n核⼼内容\\n考试重点/易混淆点\\n难度系数\\n三驾⻢⻋的概念\\n三驾⻢⻋指消费、投\\n资、进出⼝，是GDP\\n核算的⽀出法，反映\\n构成GDP的需求\\n易混淆点：三驾⻢\\n⻋与GDP核算的其\\n他⽅法区别\\n🌟\\n三驾⻢⻋的指标\\n⽉度：社会消费品流\\n动总额、固定资产投\\n资完成额、出⼝同⽐\\n或贸易差额；季度：\\n最终消费⽀出、资本\\n形成总额、货物与服\\n务进出⼝\\n考试重点：⽉度与\\n季度指标的差异及\\n应⽤\\n🌟🌟\\n三驾⻢⻋的解读⽅\\n法\\n⼀看占⽐（反映经济\\n结构），⼆看贡献率\\n（体现经济增⻓⼒\\n量）\\n易混淆点：占⽐与\\n贡献率的区别及意\\n义\\n🌟🌟\\n中国经济历史分析\\n1993-2008年⾼速增\\n⻓；2012年后增速换\\n挡，结构调整\\n考试重点：不同阶\\n段的经济驱动⼒变\\n化\\n🌟🌟🌟\\n2023年经济形势\\n消费主导，进出⼝拖\\n累；服务消费⾼增\\n⻓，商品消费待恢\\n复；⾼技术产业投资\\n好，房地产投资低\\n迷；出⼝结构改善，\\n但⾯临压⼒\\n易混淆点：各经济\\n指标的具体表现及\\n原因\\n🌟🌟🌟🌟\\n未来预测\\n消费和服务业贡献上\\n升；贸易盈余和投资\\n贡献下降；经济增速\\n换挡\\n考试重点：未来经\\n济结构的预测及依\\n据\\n🌟🌟🌟\\n三驾⻢⻋在资本市\\n场应⽤\\n投资贡献率上升时，\\n政策积极宽松，资本\\n市场收益可观；投资\\n率回落时，政策中\\n性，需选合适⾏业与\\n板块\\n易混淆点：资本市\\n场与政策宽松度的\\n关系\\n🌟🌟🌟')],\n",
       " [Document(id='aa9e4d46-96e1-4d94-989a-1050a86da8f8', metadata={'page': 3, 'title': '', 'subject': '', 'moddate': \"D:20250908150709Z00'00'\", 'source': 'assets/macro_economy/01中国经济的三驾马车.pdf', 'format': 'PDF 1.4', 'creationdate': \"D:20250414135535Z00'00'\", 'total_pages': 7, 'trapped': '', 'producer': 'macOS Version 15.6.1 (Build 24G90) Quartz PDFContext, AppendMode 1.1', 'modDate': \"D:20250908150709Z00'00'\", 'creationDate': \"D:20250414135535Z00'00'\", 'author': '', 'start_index': 0, 'keywords': '', 'creator': '', 'file_path': 'assets/macro_economy/01中国经济的三驾马车.pdf'}, page_content='\\uf06c\\n\\uf06c\\n⼝径差异: ⽉度和季度指标在统计⼝径上存在差异。\\n\\uf06c\\n具体差异:\\no\\n最终消费⽀出 vs 社会消费品零售总额:\\n\\uf06e\\n最终消费⽀出包含服务性⽀出、虚拟消费⽀出等，不计⼊社会消费品零售总\\n额。\\n\\uf06e\\n社会消费品零售总额包含⼀些在GDP最终核算中记为投资的部分，如居⺠购\\n房时购买的建筑材料等。\\no\\n资本形成总额 vs 固定资本投资完成额:\\n\\uf06e\\n资本形成总额包含存货增加额、商品房销售增值、知识产权产品等，不计⼊\\n固定资本投资完成额。\\n\\uf06e\\n固定资本投资完成额包含⼟地购置费、旧建筑物购置费、旧设备购置费等，\\n不计⼊资本形成总额。\\no\\n货物与服务净出⼝ vs 贸易差额:\\n\\uf06e\\n货物与服务净出⼝包含服务贸易等，不计⼊贸易差额。\\n\\uf06e\\n贸易差额包含进⼝货物的国际运费、保险费等，不计⼊货物与服务净出⼝。\\n4. 三驾⻢⻋数据解读 02:58\\n\\uf06c'),\n",
       "  Document(id='0ecea0b6-c72e-49de-94fe-ac7f3845516d', metadata={'author': '', 'trapped': '', 'file_path': 'assets/macro_economy/01中国经济的三驾马车.pdf', 'keywords': '', 'moddate': \"D:20250908150709Z00'00'\", 'format': 'PDF 1.4', 'creationDate': \"D:20250414135535Z00'00'\", 'creator': '', 'title': '', 'source': 'assets/macro_economy/01中国经济的三驾马车.pdf', 'producer': 'macOS Version 15.6.1 (Build 24G90) Quartz PDFContext, AppendMode 1.1', 'page': 2, 'subject': '', 'creationdate': \"D:20250414135535Z00'00'\", 'total_pages': 7, 'start_index': 0, 'modDate': \"D:20250908150709Z00'00'\"}, page_content='\\uf06c\\n\\uf06c\\n来源: 三驾⻢⻋概念来源于GDP的核算⽅法之⼀⽀出法。\\n\\uf06c\\n公式: GDP = 最终消费⽀出 + 资本形成总额 + 货物和服务净出⼝。\\n\\uf06c\\n涵盖需求: 反映了居⺠、企业、政府和海外的各种需求。\\n\\uf06c\\n三驾⻢⻋组成:\\no\\n最终消费⽀出: 代表消费。\\no\\n资本形成总额: 代表投资，反映内需。\\no\\n货物和服务净出⼝: 代表外需。\\n2. 相关指标 01:48\\n\\uf06c\\n⽉度指标:\\no\\n社会消费品零售总额\\no\\n固定资产投资完成额\\no\\n出⼝同⽐或贸易差额\\n\\uf06c\\n季度指标:\\no\\n最终消费⽀出\\no\\n资本形成总额\\no\\n货物与服务净出⼝\\n3. 指标的⼝径 02:13'),\n",
       "  Document(id='b9aae6ac-4da8-4783-827e-ecc2397c790b', metadata={'moddate': \"D:20250908150709Z00'00'\", 'keywords': '', 'file_path': 'assets/macro_economy/01中国经济的三驾马车.pdf', 'total_pages': 7, 'creationDate': \"D:20250414135535Z00'00'\", 'creator': '', 'page': 0, 'creationdate': \"D:20250414135535Z00'00'\", 'modDate': \"D:20250908150709Z00'00'\", 'source': 'assets/macro_economy/01中国经济的三驾马车.pdf', 'trapped': '', 'format': 'PDF 1.4', 'author': '', 'subject': '', 'producer': 'macOS Version 15.6.1 (Build 24G90) Quartz PDFContext, AppendMode 1.1', 'start_index': 872, 'title': ''}, page_content='|二、知识小结|Col2|Col3|Col4|\\n|---|---|---|---|\\n|知识点|核⼼内容|考试重点/易混淆<br>点|难度系数|\\n|**课程背景**|任泽平经济学者推<br>出的投资配置课|-|🌟|\\n|**课程⽬的**|快速掌握分析经济<br>形势和投资配置的<br>⽅法|-|🌟|\\n|**六⼤经济指标**|快速⼊⻔经济形势<br>分析|经济指标的解读与<br>应⽤|🌟🌟|\\n|**投资时钟与⼤类**<br>**资产**|学习投资时钟和⼤<br>类资产投资⼿册|投资时钟的理解与<br>应⽤，⼤类资产的<br>选择策略|🌟🌟🌟|\\n|**投资⼤师思想**|价值派、成⻓派、<br>周期派的实战精髓|各派别的核⼼理念<br>与实战应⽤|🌟🌟🌟|\\n|**热⻔产业链拆解**|新能源、⼈⼯智<br>能、半导体等产业<br>链分析|产业链的逻辑与投<br>资机会|🌟🌟🌟🌟|'),\n",
       "  Document(id='4fa090fd-8f9f-4504-9a6b-f317e12c0610', metadata={'creator': '', 'trapped': '', 'modDate': \"D:20250908150709Z00'00'\", 'source': 'assets/macro_economy/01中国经济的三驾马车.pdf', 'creationDate': \"D:20250414135535Z00'00'\", 'title': '', 'moddate': \"D:20250908150709Z00'00'\", 'file_path': 'assets/macro_economy/01中国经济的三驾马车.pdf', 'subject': '', 'format': 'PDF 1.4', 'author': '', 'keywords': '', 'start_index': 650, 'producer': 'macOS Version 15.6.1 (Build 24G90) Quartz PDFContext, AppendMode 1.1', 'creationdate': \"D:20250414135535Z00'00'\", 'total_pages': 7, 'page': 6}, page_content='|二、知识小结|Col2|Col3|Col4|\\n|---|---|---|---|\\n|知识点|核⼼内容|考试重点/易混淆点|难度系数|\\n|**三驾⻢⻋的概念**|三驾⻢⻋指消费、投<br>资、进出⼝，是GDP<br>核算的⽀出法，反映<br>构成GDP的需求|易混淆点：三驾⻢<br>⻋与GDP核算的其<br>他⽅法区别|🌟|\\n|**三驾⻢⻋的指标**|⽉度：社会消费品流<br>动总额、固定资产投<br>资完成额、出⼝同⽐<br>或贸易差额；季度：<br>最终消费⽀出、资本<br>形成总额、货物与服<br>务进出⼝|考试重点：⽉度与<br>季度指标的差异及<br>应⽤|🌟🌟|\\n|**三驾⻢⻋的解读⽅**<br>**法**|⼀看占⽐（反映经济<br>结构），⼆看贡献率<br>（体现经济增⻓⼒<br>量）|易混淆点：占⽐与<br>贡献率的区别及意<br>义|🌟🌟|\\n|**中国经济历史分析**|1993-2008年⾼速增<br>⻓；2012年后增速换<br>挡，结构调整|考试重点：不同阶<br>段的经济驱动⼒变<br>化|🌟🌟🌟|\\n|**2023年经济形势**|消费主导，进出⼝拖<br>累；服务消费⾼增<br>⻓，商品消费待恢<br>复；⾼技术产业投资<br>好，房地产投资低<br>迷；出⼝结构改善，<br>但⾯临压⼒|易混淆点：各经济<br>指标的具体表现及<br>原因|🌟🌟🌟🌟|\\n|**未来预测**|消费和服务业贡献上<br>升；贸易盈余和投资<br>贡献下降；经济增速<br>换挡|考试重点：未来经<br>济结构的预测及依<br>据|🌟🌟🌟|\\n|**三驾⻢⻋在资本市**<br>**场应⽤**|投资贡献率上升时，<br>政策积极宽松，资本<br>市场收益可观；投资<br>率回落时，政策中<br>性，需选合适⾏业与<br>板块|易混淆点：资本市<br>场与政策宽松度的<br>关系|🌟🌟🌟|')]]"
      ]
     },
     "execution_count": 12,
     "metadata": {},
     "output_type": "execute_result"
    }
   ],
   "source": [
    "from typing import List\n",
    "\n",
    "from langchain_core.documents import Document\n",
    "from langchain_core.runnables import chain\n",
    "\n",
    "@chain\n",
    "def retriever_chain(query: str) -> List[Document]:\n",
    "    return vector_store.similarity_search(query)\n",
    "\n",
    "retriever_chain.batch(\n",
    "    [\n",
    "        \"中国经济的三驾马车是什么？\",\n",
    "        \"社会消费品零售总额是月度指标还是季度指标？\",\n",
    "    ],\n",
    ")"
   ]
  },
  {
   "cell_type": "code",
   "execution_count": 13,
   "id": "0da46ba1",
   "metadata": {},
   "outputs": [
    {
     "data": {
      "text/plain": [
       "[[Document(id='14d4db70-08b0-4dad-9710-70755b3d62e3', metadata={'keywords': '', 'subject': '', 'total_pages': 7, 'trapped': '', 'page': 1, 'producer': 'macOS Version 15.6.1 (Build 24G90) Quartz PDFContext, AppendMode 1.1', 'moddate': \"D:20250908150709Z00'00'\", 'modDate': \"D:20250908150709Z00'00'\", 'file_path': 'assets/macro_economy/01中国经济的三驾马车.pdf', 'creationDate': \"D:20250414135535Z00'00'\", 'title': '', 'author': '', 'creator': '', 'creationdate': \"D:20250414135535Z00'00'\", 'format': 'PDF 1.4', 'start_index': 0, 'source': 'assets/macro_economy/01中国经济的三驾马车.pdf'}, page_content='课程特⾊\\n配上书课件和直播\\n课程，知⾏合⼀\\n-\\n🌟\\n服务⽀持\\n专属课程助理，解\\n答问题与想法\\n-\\n🌟\\n课程愿景\\n帮助快速提升认\\n知，构建框架，实\\n现财富增⻓\\n-\\n🌟\\n一、中国经济的三驾马车 00:21\\n1. 三驾⻢⻋概念 00:54\\n\\n\\n\\n\\n\\n\\n\\n\\n|课程特⾊|配上书课件和直播<br>课程，知⾏合⼀|-|🌟|\\n|---|---|---|---|\\n|**服务⽀持**|专属课程助理，解<br>答问题与想法|-|🌟|\\n|**课程愿景**|帮助快速提升认<br>知，构建框架，实<br>现财富增⻓|-|🌟|')],\n",
       " [Document(id='aa9e4d46-96e1-4d94-989a-1050a86da8f8', metadata={'subject': '', 'modDate': \"D:20250908150709Z00'00'\", 'title': '', 'moddate': \"D:20250908150709Z00'00'\", 'producer': 'macOS Version 15.6.1 (Build 24G90) Quartz PDFContext, AppendMode 1.1', 'creationDate': \"D:20250414135535Z00'00'\", 'page': 3, 'file_path': 'assets/macro_economy/01中国经济的三驾马车.pdf', 'creator': '', 'creationdate': \"D:20250414135535Z00'00'\", 'format': 'PDF 1.4', 'total_pages': 7, 'keywords': '', 'author': '', 'trapped': '', 'source': 'assets/macro_economy/01中国经济的三驾马车.pdf', 'start_index': 0}, page_content='\\uf06c\\n\\uf06c\\n⼝径差异: ⽉度和季度指标在统计⼝径上存在差异。\\n\\uf06c\\n具体差异:\\no\\n最终消费⽀出 vs 社会消费品零售总额:\\n\\uf06e\\n最终消费⽀出包含服务性⽀出、虚拟消费⽀出等，不计⼊社会消费品零售总\\n额。\\n\\uf06e\\n社会消费品零售总额包含⼀些在GDP最终核算中记为投资的部分，如居⺠购\\n房时购买的建筑材料等。\\no\\n资本形成总额 vs 固定资本投资完成额:\\n\\uf06e\\n资本形成总额包含存货增加额、商品房销售增值、知识产权产品等，不计⼊\\n固定资本投资完成额。\\n\\uf06e\\n固定资本投资完成额包含⼟地购置费、旧建筑物购置费、旧设备购置费等，\\n不计⼊资本形成总额。\\no\\n货物与服务净出⼝ vs 贸易差额:\\n\\uf06e\\n货物与服务净出⼝包含服务贸易等，不计⼊贸易差额。\\n\\uf06e\\n贸易差额包含进⼝货物的国际运费、保险费等，不计⼊货物与服务净出⼝。\\n4. 三驾⻢⻋数据解读 02:58\\n\\uf06c')]]"
      ]
     },
     "execution_count": 13,
     "metadata": {},
     "output_type": "execute_result"
    }
   ],
   "source": [
    "retriever = vector_store.as_retriever(\n",
    "    search_type=\"similarity\",\n",
    "    search_kwargs={\"k\": 1},\n",
    ")\n",
    "\n",
    "retriever.batch(\n",
    "    [\n",
    "        \"中国经济的三驾马车是什么？\",\n",
    "        \"社会消费品零售总额是月度指标还是季度指标？\",\n",
    "    ],\n",
    ")"
   ]
  },
  {
   "cell_type": "code",
   "execution_count": null,
   "id": "0face78b",
   "metadata": {},
   "outputs": [],
   "source": [
    "from langchain"
   ]
  }
 ],
 "metadata": {
  "kernelspec": {
   "display_name": "analyst_chain (conda)",
   "language": "python",
   "name": "analyst_chain"
  },
  "language_info": {
   "codemirror_mode": {
    "name": "ipython",
    "version": 3
   },
   "file_extension": ".py",
   "mimetype": "text/x-python",
   "name": "python",
   "nbconvert_exporter": "python",
   "pygments_lexer": "ipython3",
   "version": "3.13.0"
  }
 },
 "nbformat": 4,
 "nbformat_minor": 5
}
