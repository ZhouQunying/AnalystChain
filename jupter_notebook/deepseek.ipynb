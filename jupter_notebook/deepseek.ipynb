{
 "cells": [
  {
   "cell_type": "code",
   "execution_count": 1,
   "id": "66ba8741",
   "metadata": {},
   "outputs": [],
   "source": [
    "import os\n",
    "import getpass\n",
    "from dotenv import load_dotenv\n",
    "\n",
    "# TODO 自动设置非相对路径\n",
    "load_dotenv(\"../config/.env\")\n",
    "\n",
    "# TODO 提供通用输入框\n",
    "if not os.getenv(\"DEEPSEEK_API_KEY\"):\n",
    "    os.environ[\"DEEPSEEK_API_KEY\"] = getpass.getpass(\"Enter your DeepSeek API key: \")"
   ]
  },
  {
   "cell_type": "code",
   "execution_count": 2,
   "id": "9721722c",
   "metadata": {},
   "outputs": [
    {
     "data": {
      "text/plain": [
       "'你好呀！👋我是 **DeepSeek-R1**，由中国的「深度求索（DeepSeek）」团队研发的智能助手。你可以把我当作一个知识丰富、乐于助人的AI伙伴，随时为你解答问题、提供建议或陪你聊天～😊\\n\\n### 🔍 我能做什么？\\n- 📚 **学习辅导**：语文、数学、英语、编程、历史、生物……中小学到大学的问题我都能帮你解答。\\n- 📝 **写作帮手**：写作文、改文案、起标题、润色邮件、创作小说……文笔一流，灵感满满。\\n- 💼 **办公助理**：写PPT大纲、总结报告、商业计划书、Excel公式、数据分析等职场技能样样精通。\\n- 👨\\u200d💻 **编程开发**：支持多种编程语言（Python、Java、C++、前端等），帮你写代码、调bug、讲原理。\\n- 📄 **文档处理**：你可以上传 PDF、Word、PPT、Excel、图片等文件，我能从中提取文字并帮你分析内容。\\n- 🌍 **知识百科**：历史、科技、法律、心理学、金融、健康……只要你想知道，我知无不言！\\n\\n### 📎 支持功能：\\n- 免费使用（目前不收费）\\n- 支持超长上下文（128K tokens，相当于一本300页的书'"
      ]
     },
     "execution_count": 2,
     "metadata": {},
     "output_type": "execute_result"
    }
   ],
   "source": [
    "from langchain_deepseek import ChatDeepSeek\n",
    "\n",
    "llm = ChatDeepSeek(\n",
    "    model=\"deepseek-reasoner\",\n",
    "    frequency_penalty=0,\n",
    "    max_tokens=512,\n",
    "    presence_penalty=0,\n",
    "    # response_format={\"type\": \"text\"},\n",
    "    stop=None,\n",
    "    # stream=False,\n",
    "    # stream_options=None,\n",
    "    temperature=0.2,\n",
    "    top_p=1,\n",
    "    # tools=None,\n",
    "    # tool_choice=\"none\",\n",
    "    logprobs=False,\n",
    "    top_logprobs=None,\n",
    "    # 以下是langchain的参数\n",
    "    timeout=None,\n",
    "    max_retries=2,\n",
    "    streaming=False,\n",
    "    verbose=True,\n",
    ")\n",
    "\n",
    "messages = [\n",
    "    (\"system\", \"You are a helpful assistant.\"),\n",
    "    (\"human\", \"介绍你自己。\"),\n",
    "]\n",
    "\n",
    "ai_msg = llm.invoke(messages)\n",
    "ai_msg.content"
   ]
  }
 ],
 "metadata": {
  "kernelspec": {
   "display_name": "Python 3",
   "language": "python",
   "name": "python3"
  },
  "language_info": {
   "codemirror_mode": {
    "name": "ipython",
    "version": 3
   },
   "file_extension": ".py",
   "mimetype": "text/x-python",
   "name": "python",
   "nbconvert_exporter": "python",
   "pygments_lexer": "ipython3",
   "version": "3.13.5"
  }
 },
 "nbformat": 4,
 "nbformat_minor": 5
}
