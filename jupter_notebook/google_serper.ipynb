{
 "cells": [
  {
   "cell_type": "code",
   "execution_count": null,
   "id": "357d2fdc",
   "metadata": {},
   "outputs": [],
   "source": [
    "import os\n",
    "import getpass\n",
    "from dotenv import load_dotenv\n",
    "import pprint\n",
    "\n",
    "# TODO 自动设置非相对路径\n",
    "load_dotenv(\"../config/.env\")\n",
    "\n",
    "# TODO 提供通用输入框\n",
    "if not os.getenv(\"SERPER_API_KEY\"):\n",
    "    os.environ[\"SERPER_API_KEY\"] = getpass.getpass(\"Enter your Serper API key: \")"
   ]
  }
 ],
 "metadata": {
  "kernelspec": {
   "display_name": "LangChain",
   "language": "python",
   "name": "python3"
  },
  "language_info": {
   "name": "python",
   "version": "3.13.5"
  }
 },
 "nbformat": 4,
 "nbformat_minor": 5
}
